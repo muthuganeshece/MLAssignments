{
 "cells": [
  {
   "cell_type": "code",
   "execution_count": 3,
   "id": "99eeab1a",
   "metadata": {},
   "outputs": [],
   "source": [
    "import numpy as np\n",
    "import pandas as pd\n",
    "import seaborn as sns\n",
    "import matplotlib.pyplot as plt\n",
    "from sklearn.preprocessing import StandardScaler, OrdinalEncoder\n",
    "from sklearn.metrics.pairwise import euclidean_distances\n",
    "from sklearn.model_selection import train_test_split, GridSearchCV\n",
    "from sklearn.metrics import confusion_matrix, classification_report, ConfusionMatrixDisplay\n",
    "from sklearn.svm import SVC\n",
    "from sklearn.feature_selection import RFECV"
   ]
  },
  {
   "cell_type": "markdown",
   "id": "c84425fc",
   "metadata": {},
   "source": [
    "# KNN - 1"
   ]
  },
  {
   "cell_type": "code",
   "execution_count": 2,
   "id": "0a9e239c",
   "metadata": {},
   "outputs": [
    {
     "ename": "FileNotFoundError",
     "evalue": "[Errno 2] No such file or directory: 'E:\\\\Nextstep\\\\Scaler\\\\MLAssignments\\\\MLAssignments\\\\Dataset\\\\ObesityDataSet_Lect1.csv'",
     "output_type": "error",
     "traceback": [
      "\u001b[1;31m---------------------------------------------------------------------------\u001b[0m",
      "\u001b[1;31mFileNotFoundError\u001b[0m                         Traceback (most recent call last)",
      "Cell \u001b[1;32mIn[2], line 2\u001b[0m\n\u001b[0;32m      1\u001b[0m \u001b[38;5;66;03m#raw_data = pd.read_csv(r\"F:\\Muthu_2023\\Personal\\NextStep\\DSCourse\\Scaler\\MLAssignments\\Dataset\\ObesityDataSet_Lect1.csv\")\u001b[39;00m\n\u001b[1;32m----> 2\u001b[0m raw_data \u001b[38;5;241m=\u001b[39m pd\u001b[38;5;241m.\u001b[39mread_csv(\u001b[38;5;124mr\u001b[39m\u001b[38;5;124m\"\u001b[39m\u001b[38;5;124mE:\u001b[39m\u001b[38;5;124m\\\u001b[39m\u001b[38;5;124mNextstep\u001b[39m\u001b[38;5;124m\\\u001b[39m\u001b[38;5;124mScaler\u001b[39m\u001b[38;5;124m\\\u001b[39m\u001b[38;5;124mMLAssignments\u001b[39m\u001b[38;5;124m\\\u001b[39m\u001b[38;5;124mMLAssignments\u001b[39m\u001b[38;5;124m\\\u001b[39m\u001b[38;5;124mDataset\u001b[39m\u001b[38;5;124m\\\u001b[39m\u001b[38;5;124mObesityDataSet_Lect1.csv\u001b[39m\u001b[38;5;124m\"\u001b[39m)\n",
      "File \u001b[1;32m~\\anaconda3\\Lib\\site-packages\\pandas\\util\\_decorators.py:211\u001b[0m, in \u001b[0;36mdeprecate_kwarg.<locals>._deprecate_kwarg.<locals>.wrapper\u001b[1;34m(*args, **kwargs)\u001b[0m\n\u001b[0;32m    209\u001b[0m     \u001b[38;5;28;01melse\u001b[39;00m:\n\u001b[0;32m    210\u001b[0m         kwargs[new_arg_name] \u001b[38;5;241m=\u001b[39m new_arg_value\n\u001b[1;32m--> 211\u001b[0m \u001b[38;5;28;01mreturn\u001b[39;00m func(\u001b[38;5;241m*\u001b[39margs, \u001b[38;5;241m*\u001b[39m\u001b[38;5;241m*\u001b[39mkwargs)\n",
      "File \u001b[1;32m~\\anaconda3\\Lib\\site-packages\\pandas\\util\\_decorators.py:331\u001b[0m, in \u001b[0;36mdeprecate_nonkeyword_arguments.<locals>.decorate.<locals>.wrapper\u001b[1;34m(*args, **kwargs)\u001b[0m\n\u001b[0;32m    325\u001b[0m \u001b[38;5;28;01mif\u001b[39;00m \u001b[38;5;28mlen\u001b[39m(args) \u001b[38;5;241m>\u001b[39m num_allow_args:\n\u001b[0;32m    326\u001b[0m     warnings\u001b[38;5;241m.\u001b[39mwarn(\n\u001b[0;32m    327\u001b[0m         msg\u001b[38;5;241m.\u001b[39mformat(arguments\u001b[38;5;241m=\u001b[39m_format_argument_list(allow_args)),\n\u001b[0;32m    328\u001b[0m         \u001b[38;5;167;01mFutureWarning\u001b[39;00m,\n\u001b[0;32m    329\u001b[0m         stacklevel\u001b[38;5;241m=\u001b[39mfind_stack_level(),\n\u001b[0;32m    330\u001b[0m     )\n\u001b[1;32m--> 331\u001b[0m \u001b[38;5;28;01mreturn\u001b[39;00m func(\u001b[38;5;241m*\u001b[39margs, \u001b[38;5;241m*\u001b[39m\u001b[38;5;241m*\u001b[39mkwargs)\n",
      "File \u001b[1;32m~\\anaconda3\\Lib\\site-packages\\pandas\\io\\parsers\\readers.py:950\u001b[0m, in \u001b[0;36mread_csv\u001b[1;34m(filepath_or_buffer, sep, delimiter, header, names, index_col, usecols, squeeze, prefix, mangle_dupe_cols, dtype, engine, converters, true_values, false_values, skipinitialspace, skiprows, skipfooter, nrows, na_values, keep_default_na, na_filter, verbose, skip_blank_lines, parse_dates, infer_datetime_format, keep_date_col, date_parser, dayfirst, cache_dates, iterator, chunksize, compression, thousands, decimal, lineterminator, quotechar, quoting, doublequote, escapechar, comment, encoding, encoding_errors, dialect, error_bad_lines, warn_bad_lines, on_bad_lines, delim_whitespace, low_memory, memory_map, float_precision, storage_options)\u001b[0m\n\u001b[0;32m    935\u001b[0m kwds_defaults \u001b[38;5;241m=\u001b[39m _refine_defaults_read(\n\u001b[0;32m    936\u001b[0m     dialect,\n\u001b[0;32m    937\u001b[0m     delimiter,\n\u001b[1;32m   (...)\u001b[0m\n\u001b[0;32m    946\u001b[0m     defaults\u001b[38;5;241m=\u001b[39m{\u001b[38;5;124m\"\u001b[39m\u001b[38;5;124mdelimiter\u001b[39m\u001b[38;5;124m\"\u001b[39m: \u001b[38;5;124m\"\u001b[39m\u001b[38;5;124m,\u001b[39m\u001b[38;5;124m\"\u001b[39m},\n\u001b[0;32m    947\u001b[0m )\n\u001b[0;32m    948\u001b[0m kwds\u001b[38;5;241m.\u001b[39mupdate(kwds_defaults)\n\u001b[1;32m--> 950\u001b[0m \u001b[38;5;28;01mreturn\u001b[39;00m _read(filepath_or_buffer, kwds)\n",
      "File \u001b[1;32m~\\anaconda3\\Lib\\site-packages\\pandas\\io\\parsers\\readers.py:605\u001b[0m, in \u001b[0;36m_read\u001b[1;34m(filepath_or_buffer, kwds)\u001b[0m\n\u001b[0;32m    602\u001b[0m _validate_names(kwds\u001b[38;5;241m.\u001b[39mget(\u001b[38;5;124m\"\u001b[39m\u001b[38;5;124mnames\u001b[39m\u001b[38;5;124m\"\u001b[39m, \u001b[38;5;28;01mNone\u001b[39;00m))\n\u001b[0;32m    604\u001b[0m \u001b[38;5;66;03m# Create the parser.\u001b[39;00m\n\u001b[1;32m--> 605\u001b[0m parser \u001b[38;5;241m=\u001b[39m TextFileReader(filepath_or_buffer, \u001b[38;5;241m*\u001b[39m\u001b[38;5;241m*\u001b[39mkwds)\n\u001b[0;32m    607\u001b[0m \u001b[38;5;28;01mif\u001b[39;00m chunksize \u001b[38;5;129;01mor\u001b[39;00m iterator:\n\u001b[0;32m    608\u001b[0m     \u001b[38;5;28;01mreturn\u001b[39;00m parser\n",
      "File \u001b[1;32m~\\anaconda3\\Lib\\site-packages\\pandas\\io\\parsers\\readers.py:1442\u001b[0m, in \u001b[0;36mTextFileReader.__init__\u001b[1;34m(self, f, engine, **kwds)\u001b[0m\n\u001b[0;32m   1439\u001b[0m     \u001b[38;5;28mself\u001b[39m\u001b[38;5;241m.\u001b[39moptions[\u001b[38;5;124m\"\u001b[39m\u001b[38;5;124mhas_index_names\u001b[39m\u001b[38;5;124m\"\u001b[39m] \u001b[38;5;241m=\u001b[39m kwds[\u001b[38;5;124m\"\u001b[39m\u001b[38;5;124mhas_index_names\u001b[39m\u001b[38;5;124m\"\u001b[39m]\n\u001b[0;32m   1441\u001b[0m \u001b[38;5;28mself\u001b[39m\u001b[38;5;241m.\u001b[39mhandles: IOHandles \u001b[38;5;241m|\u001b[39m \u001b[38;5;28;01mNone\u001b[39;00m \u001b[38;5;241m=\u001b[39m \u001b[38;5;28;01mNone\u001b[39;00m\n\u001b[1;32m-> 1442\u001b[0m \u001b[38;5;28mself\u001b[39m\u001b[38;5;241m.\u001b[39m_engine \u001b[38;5;241m=\u001b[39m \u001b[38;5;28mself\u001b[39m\u001b[38;5;241m.\u001b[39m_make_engine(f, \u001b[38;5;28mself\u001b[39m\u001b[38;5;241m.\u001b[39mengine)\n",
      "File \u001b[1;32m~\\anaconda3\\Lib\\site-packages\\pandas\\io\\parsers\\readers.py:1735\u001b[0m, in \u001b[0;36mTextFileReader._make_engine\u001b[1;34m(self, f, engine)\u001b[0m\n\u001b[0;32m   1733\u001b[0m     \u001b[38;5;28;01mif\u001b[39;00m \u001b[38;5;124m\"\u001b[39m\u001b[38;5;124mb\u001b[39m\u001b[38;5;124m\"\u001b[39m \u001b[38;5;129;01mnot\u001b[39;00m \u001b[38;5;129;01min\u001b[39;00m mode:\n\u001b[0;32m   1734\u001b[0m         mode \u001b[38;5;241m+\u001b[39m\u001b[38;5;241m=\u001b[39m \u001b[38;5;124m\"\u001b[39m\u001b[38;5;124mb\u001b[39m\u001b[38;5;124m\"\u001b[39m\n\u001b[1;32m-> 1735\u001b[0m \u001b[38;5;28mself\u001b[39m\u001b[38;5;241m.\u001b[39mhandles \u001b[38;5;241m=\u001b[39m get_handle(\n\u001b[0;32m   1736\u001b[0m     f,\n\u001b[0;32m   1737\u001b[0m     mode,\n\u001b[0;32m   1738\u001b[0m     encoding\u001b[38;5;241m=\u001b[39m\u001b[38;5;28mself\u001b[39m\u001b[38;5;241m.\u001b[39moptions\u001b[38;5;241m.\u001b[39mget(\u001b[38;5;124m\"\u001b[39m\u001b[38;5;124mencoding\u001b[39m\u001b[38;5;124m\"\u001b[39m, \u001b[38;5;28;01mNone\u001b[39;00m),\n\u001b[0;32m   1739\u001b[0m     compression\u001b[38;5;241m=\u001b[39m\u001b[38;5;28mself\u001b[39m\u001b[38;5;241m.\u001b[39moptions\u001b[38;5;241m.\u001b[39mget(\u001b[38;5;124m\"\u001b[39m\u001b[38;5;124mcompression\u001b[39m\u001b[38;5;124m\"\u001b[39m, \u001b[38;5;28;01mNone\u001b[39;00m),\n\u001b[0;32m   1740\u001b[0m     memory_map\u001b[38;5;241m=\u001b[39m\u001b[38;5;28mself\u001b[39m\u001b[38;5;241m.\u001b[39moptions\u001b[38;5;241m.\u001b[39mget(\u001b[38;5;124m\"\u001b[39m\u001b[38;5;124mmemory_map\u001b[39m\u001b[38;5;124m\"\u001b[39m, \u001b[38;5;28;01mFalse\u001b[39;00m),\n\u001b[0;32m   1741\u001b[0m     is_text\u001b[38;5;241m=\u001b[39mis_text,\n\u001b[0;32m   1742\u001b[0m     errors\u001b[38;5;241m=\u001b[39m\u001b[38;5;28mself\u001b[39m\u001b[38;5;241m.\u001b[39moptions\u001b[38;5;241m.\u001b[39mget(\u001b[38;5;124m\"\u001b[39m\u001b[38;5;124mencoding_errors\u001b[39m\u001b[38;5;124m\"\u001b[39m, \u001b[38;5;124m\"\u001b[39m\u001b[38;5;124mstrict\u001b[39m\u001b[38;5;124m\"\u001b[39m),\n\u001b[0;32m   1743\u001b[0m     storage_options\u001b[38;5;241m=\u001b[39m\u001b[38;5;28mself\u001b[39m\u001b[38;5;241m.\u001b[39moptions\u001b[38;5;241m.\u001b[39mget(\u001b[38;5;124m\"\u001b[39m\u001b[38;5;124mstorage_options\u001b[39m\u001b[38;5;124m\"\u001b[39m, \u001b[38;5;28;01mNone\u001b[39;00m),\n\u001b[0;32m   1744\u001b[0m )\n\u001b[0;32m   1745\u001b[0m \u001b[38;5;28;01massert\u001b[39;00m \u001b[38;5;28mself\u001b[39m\u001b[38;5;241m.\u001b[39mhandles \u001b[38;5;129;01mis\u001b[39;00m \u001b[38;5;129;01mnot\u001b[39;00m \u001b[38;5;28;01mNone\u001b[39;00m\n\u001b[0;32m   1746\u001b[0m f \u001b[38;5;241m=\u001b[39m \u001b[38;5;28mself\u001b[39m\u001b[38;5;241m.\u001b[39mhandles\u001b[38;5;241m.\u001b[39mhandle\n",
      "File \u001b[1;32m~\\anaconda3\\Lib\\site-packages\\pandas\\io\\common.py:856\u001b[0m, in \u001b[0;36mget_handle\u001b[1;34m(path_or_buf, mode, encoding, compression, memory_map, is_text, errors, storage_options)\u001b[0m\n\u001b[0;32m    851\u001b[0m \u001b[38;5;28;01melif\u001b[39;00m \u001b[38;5;28misinstance\u001b[39m(handle, \u001b[38;5;28mstr\u001b[39m):\n\u001b[0;32m    852\u001b[0m     \u001b[38;5;66;03m# Check whether the filename is to be opened in binary mode.\u001b[39;00m\n\u001b[0;32m    853\u001b[0m     \u001b[38;5;66;03m# Binary mode does not support 'encoding' and 'newline'.\u001b[39;00m\n\u001b[0;32m    854\u001b[0m     \u001b[38;5;28;01mif\u001b[39;00m ioargs\u001b[38;5;241m.\u001b[39mencoding \u001b[38;5;129;01mand\u001b[39;00m \u001b[38;5;124m\"\u001b[39m\u001b[38;5;124mb\u001b[39m\u001b[38;5;124m\"\u001b[39m \u001b[38;5;129;01mnot\u001b[39;00m \u001b[38;5;129;01min\u001b[39;00m ioargs\u001b[38;5;241m.\u001b[39mmode:\n\u001b[0;32m    855\u001b[0m         \u001b[38;5;66;03m# Encoding\u001b[39;00m\n\u001b[1;32m--> 856\u001b[0m         handle \u001b[38;5;241m=\u001b[39m \u001b[38;5;28mopen\u001b[39m(\n\u001b[0;32m    857\u001b[0m             handle,\n\u001b[0;32m    858\u001b[0m             ioargs\u001b[38;5;241m.\u001b[39mmode,\n\u001b[0;32m    859\u001b[0m             encoding\u001b[38;5;241m=\u001b[39mioargs\u001b[38;5;241m.\u001b[39mencoding,\n\u001b[0;32m    860\u001b[0m             errors\u001b[38;5;241m=\u001b[39merrors,\n\u001b[0;32m    861\u001b[0m             newline\u001b[38;5;241m=\u001b[39m\u001b[38;5;124m\"\u001b[39m\u001b[38;5;124m\"\u001b[39m,\n\u001b[0;32m    862\u001b[0m         )\n\u001b[0;32m    863\u001b[0m     \u001b[38;5;28;01melse\u001b[39;00m:\n\u001b[0;32m    864\u001b[0m         \u001b[38;5;66;03m# Binary mode\u001b[39;00m\n\u001b[0;32m    865\u001b[0m         handle \u001b[38;5;241m=\u001b[39m \u001b[38;5;28mopen\u001b[39m(handle, ioargs\u001b[38;5;241m.\u001b[39mmode)\n",
      "\u001b[1;31mFileNotFoundError\u001b[0m: [Errno 2] No such file or directory: 'E:\\\\Nextstep\\\\Scaler\\\\MLAssignments\\\\MLAssignments\\\\Dataset\\\\ObesityDataSet_Lect1.csv'"
     ]
    }
   ],
   "source": [
    "#raw_data = pd.read_csv(r\"F:\\Muthu_2023\\Personal\\NextStep\\DSCourse\\Scaler\\MLAssignments\\Dataset\\ObesityDataSet_Lect1.csv\")\n",
    "raw_data = pd.read_csv(r\"E:\\Nextstep\\Scaler\\MLAssignments\\MLAssignments\\Dataset\\ObesityDataSet_Lect1.csv\")"
   ]
  },
  {
   "cell_type": "code",
   "execution_count": null,
   "id": "e6c90542",
   "metadata": {},
   "outputs": [],
   "source": [
    "raw_data.head()"
   ]
  },
  {
   "cell_type": "code",
   "execution_count": 4,
   "id": "72f0e53b",
   "metadata": {},
   "outputs": [
    {
     "data": {
      "image/png": "[encoded data removed]",
      "text/plain": [
       "<Figure size 1200x300 with 1 Axes>"
      ]
     },
     "metadata": {},
     "output_type": "display_data"
    },
    {
     "data": {
      "image/png": "[encoded data removed]",
      "text/plain": [
       "<Figure size 1200x300 with 1 Axes>"
      ]
     },
     "metadata": {},
     "output_type": "display_data"
    },
    {
     "data": {
      "image/png": "[encoded data removed]",
      "text/plain": [
       "<Figure size 1200x300 with 1 Axes>"
      ]
     },
     "metadata": {},
     "output_type": "display_data"
    },
    {
     "data": {
      "image/png": "[encoded data removed]",
      "text/plain": [
       "<Figure size 1200x300 with 1 Axes>"
      ]
     },
     "metadata": {},
     "output_type": "display_data"
    },
    {
     "data": {
      "image/png": "[encoded data removed]",
      "text/plain": [
       "<Figure size 1200x300 with 1 Axes>"
      ]
     },
     "metadata": {},
     "output_type": "display_data"
    },
    {
     "data": {
      "image/png": "[encoded data removed]",
      "text/plain": [
       "<Figure size 1200x300 with 1 Axes>"
      ]
     },
     "metadata": {},
     "output_type": "display_data"
    },
    {
     "data": {
      "image/png": "[encoded data removed]",
      "text/plain": [
       "<Figure size 1200x300 with 1 Axes>"
      ]
     },
     "metadata": {},
     "output_type": "display_data"
    },
    {
     "data": {
      "image/png": "[encoded data removed]",
      "text/plain": [
       "<Figure size 1200x300 with 1 Axes>"
      ]
     },
     "metadata": {},
     "output_type": "display_data"
    }
   ],
   "source": [
    "# Assignment: 6\n",
    "num_features = list(raw_data.describe().columns)\n",
    "for feature in num_features:\n",
    "    plt.figure(figsize=(12,3))\n",
    "    sns.boxplot(raw_data, x=feature)\n",
    "    plt.title(\"Distribution of \" + str(feature))"
   ]
  },
  {
   "cell_type": "code",
   "execution_count": null,
   "id": "b0eed60b",
   "metadata": {},
   "outputs": [],
   "source": [
    "# Assignment: 7\n",
    "df = raw_data[['FCVC', 'FAF']]\n",
    "scaler = StandardScaler()\n",
    "df_scaled = scaler.fit_transform(df)"
   ]
  },
  {
   "cell_type": "code",
   "execution_count": null,
   "id": "737856ad",
   "metadata": {},
   "outputs": [],
   "source": [
    "euclidean_distances([df_scaled[0]], [df_scaled[-1]])"
   ]
  },
  {
   "cell_type": "code",
   "execution_count": null,
   "id": "56e569cb",
   "metadata": {},
   "outputs": [],
   "source": [
    "# Assignment: 8\n",
    "from sklearn.preprocessing import StandardScaler, LabelEncoder\n",
    "from math import sqrt\n",
    "from collections import Counter"
   ]
  },
  {
   "cell_type": "code",
   "execution_count": null,
   "id": "fb57ae6a",
   "metadata": {},
   "outputs": [],
   "source": [
    "# Function to calculate Euclidean distance\n",
    "def euclidean_distance(row1, row2):\n",
    "    distance = 0.0\n",
    "    for i in range(len(row1)):\n",
    "        distance += (row1[i] - row2[i]) ** 2\n",
    "    return sqrt(distance)  # Hint: Final distance formula calculation step"
   ]
  },
  {
   "cell_type": "code",
   "execution_count": null,
   "id": "d0137724",
   "metadata": {},
   "outputs": [],
   "source": [
    "# Function to predict the label of a new data point\n",
    "def predict_label(train_data, new_data_point, num_neighbors):\n",
    "    distances = []\n",
    "    for _, row in train_data.iterrows():\n",
    "        dist = euclidean_distance(new_data_point, row[:-1])  # Hint: Calculate distance\n",
    "        distances.append((row, dist))\n",
    "    distances.sort(key=lambda tup: tup[1])\n",
    "    neighbors = [dist[0] for dist in distances[:num_neighbors]]  # Hint: Neighbors selection\n",
    "\n",
    "    output_values = [row[-1] for row in neighbors]\n",
    "    prediction = max(set(output_values), key=output_values.count)  # Hint: Determine majority\n",
    "\n",
    "    return prediction"
   ]
  },
  {
   "cell_type": "code",
   "execution_count": null,
   "id": "c01e065f",
   "metadata": {},
   "outputs": [],
   "source": [
    "# Encoding the 'Gender' column\n",
    "original_df = raw_data\n",
    "label_encoder = LabelEncoder()\n",
    "original_df['Gender'] = label_encoder.fit_transform(original_df['Gender'])  # Hint: Fit and apply encoding\n",
    "\n",
    "# Scaling the features\n",
    "\n",
    "scaler = StandardScaler()\n",
    "original_df[['Age', 'Height', 'Weight']] = scaler.fit_transform(original_df[['Age', 'Height', 'Weight']])\n",
    "\n",
    "# New data point\n",
    "new_data = {'Gender': 'Male', 'Age': 32, 'Height': 175, 'Weight': 75}\n",
    "new_data_df = pd.DataFrame([new_data])\n",
    "\n",
    "# Encoding and scaling the new data point\n",
    "new_data_df['Gender'] = label_encoder.transform(new_data_df['Gender'])  # Hint: Apply existing encoding\n",
    "new_data_scaled = scaler.transform(new_data_df[['Age', 'Height', 'Weight']])  # Hint: Apply existing scaling\n",
    "\n",
    "new_data_point = [new_data_df['Gender'].iloc[0]] + new_data_scaled.tolist()[0]\n",
    "\n",
    "# Predicting the label\n",
    "predicted_label = predict_label(original_df, new_data_point, 5)\n",
    "print(f\"The predicted label is: {predicted_label}\")"
   ]
  },
  {
   "cell_type": "markdown",
   "id": "84877a27-24fe-4554-b291-8353ec964d2d",
   "metadata": {},
   "source": [
    "# Lecture 2"
   ]
  },
  {
   "cell_type": "code",
   "execution_count": null,
   "id": "969d44a9-092e-4ac9-a34b-11a69da70350",
   "metadata": {},
   "outputs": [],
   "source": [
    "#Assignment 2"
   ]
  },
  {
   "cell_type": "code",
   "execution_count": 11,
   "id": "140e202d-b123-4397-b61c-ab59f846e2c7",
   "metadata": {},
   "outputs": [],
   "source": [
    "from sklearn.preprocessing import LabelEncoder"
   ]
  },
  {
   "cell_type": "code",
   "execution_count": 12,
   "id": "b5f71d63-59da-46d4-b6e4-c56a8aa33080",
   "metadata": {},
   "outputs": [],
   "source": [
    "le = LabelEncoder()"
   ]
  },
  {
   "cell_type": "code",
   "execution_count": 19,
   "id": "57a569f9-32fc-4f1e-9c32-775007a02ccf",
   "metadata": {},
   "outputs": [
    {
     "data": {
      "text/plain": [
       "['Gender',\n",
       " 'family_history_with_overweight',\n",
       " 'FAVC',\n",
       " 'CAEC',\n",
       " 'SMOKE',\n",
       " 'SCC',\n",
       " 'CALC',\n",
       " 'MTRANS',\n",
       " 'NObeyesdad']"
      ]
     },
     "execution_count": 19,
     "metadata": {},
     "output_type": "execute_result"
    }
   ],
   "source": [
    "cat_cols = [col for col in list(raw_data.columns) if raw_data[col].dtype == 'O']\n",
    "cat_cols"
   ]
  },
  {
   "cell_type": "code",
   "execution_count": 20,
   "id": "7bbe940d-5f11-4c55-a769-f85f6d268d82",
   "metadata": {},
   "outputs": [
    {
     "data": {
      "text/html": [
       "<div>\n",
       "<style scoped>\n",
       "    .dataframe tbody tr th:only-of-type {\n",
       "        vertical-align: middle;\n",
       "    }\n",
       "\n",
       "    .dataframe tbody tr th {\n",
       "        vertical-align: top;\n",
       "    }\n",
       "\n",
       "    .dataframe thead th {\n",
       "        text-align: right;\n",
       "    }\n",
       "</style>\n",
       "<table border=\"1\" class=\"dataframe\">\n",
       "  <thead>\n",
       "    <tr style=\"text-align: right;\">\n",
       "      <th></th>\n",
       "      <th>Gender</th>\n",
       "      <th>Age</th>\n",
       "      <th>Height</th>\n",
       "      <th>Weight</th>\n",
       "      <th>family_history_with_overweight</th>\n",
       "      <th>FAVC</th>\n",
       "      <th>FCVC</th>\n",
       "      <th>NCP</th>\n",
       "      <th>CAEC</th>\n",
       "      <th>SMOKE</th>\n",
       "      <th>CH2O</th>\n",
       "      <th>SCC</th>\n",
       "      <th>FAF</th>\n",
       "      <th>TUE</th>\n",
       "      <th>CALC</th>\n",
       "      <th>MTRANS</th>\n",
       "      <th>NObeyesdad</th>\n",
       "    </tr>\n",
       "  </thead>\n",
       "  <tbody>\n",
       "    <tr>\n",
       "      <th>0</th>\n",
       "      <td>0</td>\n",
       "      <td>21.0</td>\n",
       "      <td>1.62</td>\n",
       "      <td>64.0</td>\n",
       "      <td>1</td>\n",
       "      <td>0</td>\n",
       "      <td>2.0</td>\n",
       "      <td>3.0</td>\n",
       "      <td>2</td>\n",
       "      <td>0</td>\n",
       "      <td>2.0</td>\n",
       "      <td>0</td>\n",
       "      <td>0.0</td>\n",
       "      <td>1.0</td>\n",
       "      <td>3</td>\n",
       "      <td>3</td>\n",
       "      <td>1</td>\n",
       "    </tr>\n",
       "    <tr>\n",
       "      <th>1</th>\n",
       "      <td>0</td>\n",
       "      <td>21.0</td>\n",
       "      <td>1.52</td>\n",
       "      <td>56.0</td>\n",
       "      <td>1</td>\n",
       "      <td>0</td>\n",
       "      <td>3.0</td>\n",
       "      <td>3.0</td>\n",
       "      <td>2</td>\n",
       "      <td>1</td>\n",
       "      <td>3.0</td>\n",
       "      <td>1</td>\n",
       "      <td>3.0</td>\n",
       "      <td>0.0</td>\n",
       "      <td>2</td>\n",
       "      <td>3</td>\n",
       "      <td>1</td>\n",
       "    </tr>\n",
       "    <tr>\n",
       "      <th>2</th>\n",
       "      <td>1</td>\n",
       "      <td>23.0</td>\n",
       "      <td>1.80</td>\n",
       "      <td>77.0</td>\n",
       "      <td>1</td>\n",
       "      <td>0</td>\n",
       "      <td>2.0</td>\n",
       "      <td>3.0</td>\n",
       "      <td>2</td>\n",
       "      <td>0</td>\n",
       "      <td>2.0</td>\n",
       "      <td>0</td>\n",
       "      <td>2.0</td>\n",
       "      <td>1.0</td>\n",
       "      <td>1</td>\n",
       "      <td>3</td>\n",
       "      <td>1</td>\n",
       "    </tr>\n",
       "    <tr>\n",
       "      <th>3</th>\n",
       "      <td>1</td>\n",
       "      <td>27.0</td>\n",
       "      <td>1.80</td>\n",
       "      <td>87.0</td>\n",
       "      <td>0</td>\n",
       "      <td>0</td>\n",
       "      <td>3.0</td>\n",
       "      <td>3.0</td>\n",
       "      <td>2</td>\n",
       "      <td>0</td>\n",
       "      <td>2.0</td>\n",
       "      <td>0</td>\n",
       "      <td>2.0</td>\n",
       "      <td>0.0</td>\n",
       "      <td>1</td>\n",
       "      <td>4</td>\n",
       "      <td>5</td>\n",
       "    </tr>\n",
       "    <tr>\n",
       "      <th>4</th>\n",
       "      <td>1</td>\n",
       "      <td>22.0</td>\n",
       "      <td>1.78</td>\n",
       "      <td>89.8</td>\n",
       "      <td>0</td>\n",
       "      <td>0</td>\n",
       "      <td>2.0</td>\n",
       "      <td>1.0</td>\n",
       "      <td>2</td>\n",
       "      <td>0</td>\n",
       "      <td>2.0</td>\n",
       "      <td>0</td>\n",
       "      <td>0.0</td>\n",
       "      <td>0.0</td>\n",
       "      <td>2</td>\n",
       "      <td>3</td>\n",
       "      <td>6</td>\n",
       "    </tr>\n",
       "  </tbody>\n",
       "</table>\n",
       "</div>"
      ],
      "text/plain": [
       "   Gender   Age  Height  Weight  family_history_with_overweight  FAVC  FCVC  \\\n",
       "0       0  21.0    1.62    64.0                               1     0   2.0   \n",
       "1       0  21.0    1.52    56.0                               1     0   3.0   \n",
       "2       1  23.0    1.80    77.0                               1     0   2.0   \n",
       "3       1  27.0    1.80    87.0                               0     0   3.0   \n",
       "4       1  22.0    1.78    89.8                               0     0   2.0   \n",
       "\n",
       "   NCP  CAEC  SMOKE  CH2O  SCC  FAF  TUE  CALC  MTRANS  NObeyesdad  \n",
       "0  3.0     2      0   2.0    0  0.0  1.0     3       3           1  \n",
       "1  3.0     2      1   3.0    1  3.0  0.0     2       3           1  \n",
       "2  3.0     2      0   2.0    0  2.0  1.0     1       3           1  \n",
       "3  3.0     2      0   2.0    0  2.0  0.0     1       4           5  \n",
       "4  1.0     2      0   2.0    0  0.0  0.0     2       3           6  "
      ]
     },
     "execution_count": 20,
     "metadata": {},
     "output_type": "execute_result"
    }
   ],
   "source": [
    "df = raw_data.copy()\n",
    "for col in cat_cols:\n",
    "    df[col] = le.fit_transform(df[col])\n",
    "df.head()"
   ]
  },
  {
   "cell_type": "code",
   "execution_count": 21,
   "id": "b8912e1e-cb34-430d-9670-6577a6a8e92b",
   "metadata": {},
   "outputs": [],
   "source": [
    "X = df.drop('NObeyesdad', axis=1)\n",
    "Y = df['NObeyesdad']"
   ]
  },
  {
   "cell_type": "code",
   "execution_count": 22,
   "id": "335a9e58-8028-4026-8f7f-9b095016caaa",
   "metadata": {},
   "outputs": [],
   "source": [
    "from sklearn.model_selection import train_test_split\n",
    "from sklearn.neighbors import KNeighborsClassifier"
   ]
  },
  {
   "cell_type": "code",
   "execution_count": 23,
   "id": "a715773b-6b06-41e4-9282-973e022cf997",
   "metadata": {},
   "outputs": [
    {
     "data": {
      "text/plain": [
       "((1414, 16), (697, 16))"
      ]
     },
     "execution_count": 23,
     "metadata": {},
     "output_type": "execute_result"
    }
   ],
   "source": [
    "xtrain, xtest, ytrain, ytest = train_test_split(X, Y, test_size = 0.33, random_state=42)\n",
    "xtrain.shape, xtest.shape"
   ]
  },
  {
   "cell_type": "code",
   "execution_count": 24,
   "id": "f92a25ee-1cf2-47f1-a673-d29f8c8751e0",
   "metadata": {},
   "outputs": [],
   "source": [
    "scaler = StandardScaler()\n",
    "xtrain_scaled = scaler.fit_transform(xtrain)\n",
    "xtest_scaled = scaler.transform(xtest)"
   ]
  },
  {
   "cell_type": "code",
   "execution_count": 14,
   "id": "3d07d064-99f7-4765-8210-46309add8b5e",
   "metadata": {},
   "outputs": [
    {
     "name": "stdout",
     "output_type": "stream",
     "text": [
      "0.8741159830268741 0.8005738880918221\n"
     ]
    }
   ],
   "source": [
    "model = KNeighborsClassifier()\n",
    "model.fit(xtrain_scaled, ytrain)\n",
    "print(model.score(xtrain_scaled, ytrain), model.score(xtest_scaled, ytest))"
   ]
  },
  {
   "cell_type": "code",
   "execution_count": null,
   "id": "9e9a6e2c-51bf-4421-9aa4-aa22bbececc2",
   "metadata": {},
   "outputs": [],
   "source": [
    "model.score(xtrain_scaled, ytrain)"
   ]
  },
  {
   "cell_type": "code",
   "execution_count": 16,
   "id": "0cfc7d67-2203-4fe6-84c5-889cd7ffd25c",
   "metadata": {},
   "outputs": [],
   "source": [
    "#assignment 4\n",
    "train_acc = []\n",
    "test_acc = []\n",
    "for k in range(1,81):\n",
    "    model = KNeighborsClassifier(n_neighbors=k)\n",
    "    model.fit(xtrain_scaled, ytrain)\n",
    "    train_acc.append(model.score(xtrain_scaled, ytrain))\n",
    "    test_acc.append(model.score(xtest_scaled, ytest))"
   ]
  },
  {
   "cell_type": "code",
   "execution_count": 17,
   "id": "4b1c8708-bb4b-47e8-ae45-7e40e819c6e9",
   "metadata": {},
   "outputs": [
    {
     "data": {
      "text/plain": [
       "[<matplotlib.lines.Line2D at 0x1e04e8d91d0>]"
      ]
     },
     "execution_count": 17,
     "metadata": {},
     "output_type": "execute_result"
    },
    {
     "data": {
      "image/png": "[encoded data removed]",
      "text/plain": [
       "<Figure size 640x480 with 1 Axes>"
      ]
     },
     "metadata": {},
     "output_type": "display_data"
    }
   ],
   "source": [
    "plt.plot(train_acc, label='Train', color = 'r')\n",
    "plt.plot(test_acc, label='Train', color = 'r')"
   ]
  },
  {
   "cell_type": "code",
   "execution_count": 26,
   "id": "48239114-29d6-4f14-ab9f-3071c4a52769",
   "metadata": {},
   "outputs": [
    {
     "name": "stdout",
     "output_type": "stream",
     "text": [
      "0.8741159830268741 0.8005738880918221\n"
     ]
    }
   ],
   "source": [
    "#Assignment 3\n",
    "model = KNeighborsClassifier(metric='euclidean')\n",
    "model.fit(xtrain_scaled, ytrain)\n",
    "print(model.score(xtrain_scaled, ytrain), model.score(xtest_scaled, ytest))"
   ]
  },
  {
   "cell_type": "code",
   "execution_count": 27,
   "id": "3640f320-5eff-40b5-bb34-7c10bf005f1a",
   "metadata": {},
   "outputs": [
    {
     "name": "stdout",
     "output_type": "stream",
     "text": [
      "0.9052333804809052 0.8622668579626973\n"
     ]
    }
   ],
   "source": [
    "model = KNeighborsClassifier(metric='manhattan')\n",
    "model.fit(xtrain_scaled, ytrain)\n",
    "print(model.score(xtrain_scaled, ytrain), model.score(xtest_scaled, ytest))"
   ]
  },
  {
   "cell_type": "code",
   "execution_count": 28,
   "id": "a0f3c3cb-6371-46e5-95b7-6aae3b19f453",
   "metadata": {},
   "outputs": [
    {
     "name": "stdout",
     "output_type": "stream",
     "text": [
      "0.8727015558698727 0.8020086083213773\n"
     ]
    }
   ],
   "source": [
    "model = KNeighborsClassifier(metric='cosine')\n",
    "model.fit(xtrain_scaled, ytrain)\n",
    "print(model.score(xtrain_scaled, ytrain), model.score(xtest_scaled, ytest))"
   ]
  },
  {
   "cell_type": "code",
   "execution_count": 30,
   "id": "0036c3ac-ef27-40f7-a28a-4fe29e4730a4",
   "metadata": {},
   "outputs": [],
   "source": [
    "# Assignment 8\n",
    "from sklearn.model_selection import KFold, cross_val_score"
   ]
  },
  {
   "cell_type": "code",
   "execution_count": null,
   "id": "6a574a03-4510-4b58-8d10-c1a2ba1d4280",
   "metadata": {},
   "outputs": [],
   "source": [
    "model = KNeighborsClassifier(n_neighbors)"
   ]
  },
  {
   "cell_type": "code",
   "execution_count": 31,
   "id": "4aa42cbd-166f-451e-96ce-21bff536cbf0",
   "metadata": {},
   "outputs": [],
   "source": [
    "kf = KFold(5)"
   ]
  },
  {
   "cell_type": "code",
   "execution_count": 39,
   "id": "260bfd10-5a5d-4f6d-9a95-09a8ec9e9d4b",
   "metadata": {},
   "outputs": [],
   "source": [
    "score_list = []\n",
    "for k in range(11,2,-1):\n",
    "    score_list.append(np.mean(cross_val_score(KNeighborsClassifier(n_neighbors=k), xtrain_scaled, ytrain, cv=kf)))"
   ]
  },
  {
   "cell_type": "code",
   "execution_count": 40,
   "id": "1bc73203-5968-4693-a650-c3a55af56411",
   "metadata": {},
   "outputs": [
    {
     "data": {
      "text/plain": [
       "[0.7411948976267448,\n",
       " 0.7461444001704132,\n",
       " 0.7503972132421122,\n",
       " 0.7539307821467058,\n",
       " 0.7645314888604867,\n",
       " 0.7673558379069243,\n",
       " 0.7779615567751799,\n",
       " 0.7850462371250282,\n",
       " 0.7935217903415783]"
      ]
     },
     "execution_count": 40,
     "metadata": {},
     "output_type": "execute_result"
    }
   ],
   "source": [
    "score_list"
   ]
  },
  {
   "cell_type": "code",
   "execution_count": 47,
   "id": "6ad61fbe-1577-4126-b6eb-1834de592378",
   "metadata": {},
   "outputs": [],
   "source": [
    "mean_score = []\n",
    "for k in range(2,11):\n",
    "    model_score = []\n",
    "    for i, (train_index, val_index) in enumerate(kf.split(xtrain_scaled)):\n",
    "        x_train = xtrain_scaled[train_index]\n",
    "        x_val = xtrain_scaled[val_index]\n",
    "        y_train = ytrain[train_index]\n",
    "        y_val = ytrain[val_index]\n",
    "        model = KNeighborsClassifier(n_neighbors=k)\n",
    "        model.fit(x_train, y_train)\n",
    "        model_score.append(model.score(x_val, y_val))\n",
    "    mean_score.append(np.mean(model_score))"
   ]
  },
  {
   "cell_type": "code",
   "execution_count": 48,
   "id": "815c56bf-a2c6-46d9-acd8-48ac715a8983",
   "metadata": {},
   "outputs": [
    {
     "data": {
      "text/plain": [
       "[0.8112021652507331,\n",
       " 0.7935217903415783,\n",
       " 0.7850462371250282,\n",
       " 0.7779615567751799,\n",
       " 0.7673558379069243,\n",
       " 0.7645314888604867,\n",
       " 0.7539307821467058,\n",
       " 0.7503972132421122,\n",
       " 0.7461444001704132]"
      ]
     },
     "execution_count": 48,
     "metadata": {},
     "output_type": "execute_result"
    }
   ],
   "source": [
    "mean_score"
   ]
  },
  {
   "cell_type": "code",
   "execution_count": 54,
   "id": "ff2972e4-cc30-4a98-9bdd-e1765c73188f",
   "metadata": {},
   "outputs": [
    {
     "name": "stdout",
     "output_type": "stream",
     "text": [
      "0.9038189533239038 0.8192252510760402\n"
     ]
    }
   ],
   "source": [
    "model = KNeighborsClassifier(n_neighbors=3)\n",
    "model.fit(xtrain_scaled, ytrain)\n",
    "print(model.score(xtrain_scaled, ytrain), model.score(xtest_scaled, ytest))"
   ]
  },
  {
   "cell_type": "markdown",
   "id": "4ab04fe0",
   "metadata": {},
   "source": [
    "# Decision Tree 1"
   ]
  },
  {
   "cell_type": "code",
   "execution_count": 4,
   "id": "14040ee2",
   "metadata": {},
   "outputs": [],
   "source": [
    "from sklearn.tree import DecisionTreeClassifier, plot_tree"
   ]
  },
  {
   "cell_type": "code",
   "execution_count": 3,
   "id": "46b0dce6",
   "metadata": {},
   "outputs": [
    {
     "data": {
      "text/html": [
       "<div>\n",
       "<style scoped>\n",
       "    .dataframe tbody tr th:only-of-type {\n",
       "        vertical-align: middle;\n",
       "    }\n",
       "\n",
       "    .dataframe tbody tr th {\n",
       "        vertical-align: top;\n",
       "    }\n",
       "\n",
       "    .dataframe thead th {\n",
       "        text-align: right;\n",
       "    }\n",
       "</style>\n",
       "<table border=\"1\" class=\"dataframe\">\n",
       "  <thead>\n",
       "    <tr style=\"text-align: right;\">\n",
       "      <th></th>\n",
       "      <th>id</th>\n",
       "      <th>X_Minimum</th>\n",
       "      <th>X_Maximum</th>\n",
       "      <th>Y_Minimum</th>\n",
       "      <th>Y_Maximum</th>\n",
       "      <th>Pixels_Areas</th>\n",
       "      <th>X_Perimeter</th>\n",
       "      <th>Y_Perimeter</th>\n",
       "      <th>Sum_of_Luminosity</th>\n",
       "      <th>Minimum_of_Luminosity</th>\n",
       "      <th>...</th>\n",
       "      <th>Orientation_Index</th>\n",
       "      <th>Luminosity_Index</th>\n",
       "      <th>SigmoidOfAreas</th>\n",
       "      <th>Pastry</th>\n",
       "      <th>Z_Scratch</th>\n",
       "      <th>K_Scatch</th>\n",
       "      <th>Stains</th>\n",
       "      <th>Dirtiness</th>\n",
       "      <th>Bumps</th>\n",
       "      <th>Other_Faults</th>\n",
       "    </tr>\n",
       "  </thead>\n",
       "  <tbody>\n",
       "    <tr>\n",
       "      <th>0</th>\n",
       "      <td>0</td>\n",
       "      <td>584</td>\n",
       "      <td>590</td>\n",
       "      <td>909972</td>\n",
       "      <td>909977</td>\n",
       "      <td>16</td>\n",
       "      <td>8</td>\n",
       "      <td>5</td>\n",
       "      <td>2274</td>\n",
       "      <td>113</td>\n",
       "      <td>...</td>\n",
       "      <td>-0.5000</td>\n",
       "      <td>-0.0104</td>\n",
       "      <td>0.1417</td>\n",
       "      <td>0</td>\n",
       "      <td>0</td>\n",
       "      <td>0</td>\n",
       "      <td>1</td>\n",
       "      <td>0</td>\n",
       "      <td>0</td>\n",
       "      <td>0</td>\n",
       "    </tr>\n",
       "    <tr>\n",
       "      <th>1</th>\n",
       "      <td>1</td>\n",
       "      <td>808</td>\n",
       "      <td>816</td>\n",
       "      <td>728350</td>\n",
       "      <td>728372</td>\n",
       "      <td>433</td>\n",
       "      <td>20</td>\n",
       "      <td>54</td>\n",
       "      <td>44478</td>\n",
       "      <td>70</td>\n",
       "      <td>...</td>\n",
       "      <td>0.7419</td>\n",
       "      <td>-0.2997</td>\n",
       "      <td>0.9491</td>\n",
       "      <td>0</td>\n",
       "      <td>0</td>\n",
       "      <td>0</td>\n",
       "      <td>0</td>\n",
       "      <td>0</td>\n",
       "      <td>0</td>\n",
       "      <td>1</td>\n",
       "    </tr>\n",
       "    <tr>\n",
       "      <th>2</th>\n",
       "      <td>2</td>\n",
       "      <td>39</td>\n",
       "      <td>192</td>\n",
       "      <td>2212076</td>\n",
       "      <td>2212144</td>\n",
       "      <td>11388</td>\n",
       "      <td>705</td>\n",
       "      <td>420</td>\n",
       "      <td>1311391</td>\n",
       "      <td>29</td>\n",
       "      <td>...</td>\n",
       "      <td>-0.0105</td>\n",
       "      <td>-0.0944</td>\n",
       "      <td>1.0000</td>\n",
       "      <td>0</td>\n",
       "      <td>0</td>\n",
       "      <td>1</td>\n",
       "      <td>0</td>\n",
       "      <td>0</td>\n",
       "      <td>0</td>\n",
       "      <td>0</td>\n",
       "    </tr>\n",
       "    <tr>\n",
       "      <th>3</th>\n",
       "      <td>3</td>\n",
       "      <td>781</td>\n",
       "      <td>789</td>\n",
       "      <td>3353146</td>\n",
       "      <td>3353173</td>\n",
       "      <td>210</td>\n",
       "      <td>16</td>\n",
       "      <td>29</td>\n",
       "      <td>3202</td>\n",
       "      <td>114</td>\n",
       "      <td>...</td>\n",
       "      <td>0.6667</td>\n",
       "      <td>-0.0402</td>\n",
       "      <td>0.4025</td>\n",
       "      <td>0</td>\n",
       "      <td>0</td>\n",
       "      <td>1</td>\n",
       "      <td>0</td>\n",
       "      <td>0</td>\n",
       "      <td>0</td>\n",
       "      <td>0</td>\n",
       "    </tr>\n",
       "    <tr>\n",
       "      <th>4</th>\n",
       "      <td>4</td>\n",
       "      <td>1540</td>\n",
       "      <td>1560</td>\n",
       "      <td>618457</td>\n",
       "      <td>618502</td>\n",
       "      <td>521</td>\n",
       "      <td>72</td>\n",
       "      <td>67</td>\n",
       "      <td>48231</td>\n",
       "      <td>82</td>\n",
       "      <td>...</td>\n",
       "      <td>0.9158</td>\n",
       "      <td>-0.2455</td>\n",
       "      <td>0.9998</td>\n",
       "      <td>0</td>\n",
       "      <td>0</td>\n",
       "      <td>0</td>\n",
       "      <td>0</td>\n",
       "      <td>0</td>\n",
       "      <td>0</td>\n",
       "      <td>1</td>\n",
       "    </tr>\n",
       "  </tbody>\n",
       "</table>\n",
       "<p>5 rows × 35 columns</p>\n",
       "</div>"
      ],
      "text/plain": [
       "   id  X_Minimum  X_Maximum  Y_Minimum  Y_Maximum  Pixels_Areas  X_Perimeter  \\\n",
       "0   0        584        590     909972     909977            16            8   \n",
       "1   1        808        816     728350     728372           433           20   \n",
       "2   2         39        192    2212076    2212144         11388          705   \n",
       "3   3        781        789    3353146    3353173           210           16   \n",
       "4   4       1540       1560     618457     618502           521           72   \n",
       "\n",
       "   Y_Perimeter  Sum_of_Luminosity  Minimum_of_Luminosity  ...  \\\n",
       "0            5               2274                    113  ...   \n",
       "1           54              44478                     70  ...   \n",
       "2          420            1311391                     29  ...   \n",
       "3           29               3202                    114  ...   \n",
       "4           67              48231                     82  ...   \n",
       "\n",
       "   Orientation_Index  Luminosity_Index  SigmoidOfAreas  Pastry  Z_Scratch  \\\n",
       "0            -0.5000           -0.0104          0.1417       0          0   \n",
       "1             0.7419           -0.2997          0.9491       0          0   \n",
       "2            -0.0105           -0.0944          1.0000       0          0   \n",
       "3             0.6667           -0.0402          0.4025       0          0   \n",
       "4             0.9158           -0.2455          0.9998       0          0   \n",
       "\n",
       "   K_Scatch  Stains  Dirtiness  Bumps  Other_Faults  \n",
       "0         0       1          0      0             0  \n",
       "1         0       0          0      0             1  \n",
       "2         1       0          0      0             0  \n",
       "3         1       0          0      0             0  \n",
       "4         0       0          0      0             1  \n",
       "\n",
       "[5 rows x 35 columns]"
      ]
     },
     "execution_count": 3,
     "metadata": {},
     "output_type": "execute_result"
    }
   ],
   "source": [
    "data = pd.read_csv(r\"F:\\Muthu_2023\\Personal\\NextStep\\DSCourse\\Scaler\\MLAssignments\\Dataset\\SteelPlant.csv\")\n",
    "data.head()"
   ]
  },
  {
   "cell_type": "code",
   "execution_count": 5,
   "id": "7bd949da",
   "metadata": {},
   "outputs": [],
   "source": [
    "# Assignment 2\n",
    "Target = ['Pastry','Z_Scratch','K_Scatch','Stains','Dirtiness','Bumps','Other_Faults']   "
   ]
  },
  {
   "cell_type": "code",
   "execution_count": 6,
   "id": "37e49b02",
   "metadata": {},
   "outputs": [],
   "source": [
    "def assign(df):\n",
    "    for col in Target:\n",
    "        if df[col] == 1:\n",
    "            return col\n",
    "    return np.nan"
   ]
  },
  {
   "cell_type": "code",
   "execution_count": 7,
   "id": "a5a6c2b7",
   "metadata": {},
   "outputs": [],
   "source": [
    "data['Target'] = data[Target].apply(assign, axis=1)"
   ]
  },
  {
   "cell_type": "code",
   "execution_count": 8,
   "id": "1cd7c5c4",
   "metadata": {},
   "outputs": [
    {
     "data": {
      "text/html": [
       "<div>\n",
       "<style scoped>\n",
       "    .dataframe tbody tr th:only-of-type {\n",
       "        vertical-align: middle;\n",
       "    }\n",
       "\n",
       "    .dataframe tbody tr th {\n",
       "        vertical-align: top;\n",
       "    }\n",
       "\n",
       "    .dataframe thead th {\n",
       "        text-align: right;\n",
       "    }\n",
       "</style>\n",
       "<table border=\"1\" class=\"dataframe\">\n",
       "  <thead>\n",
       "    <tr style=\"text-align: right;\">\n",
       "      <th></th>\n",
       "      <th>id</th>\n",
       "      <th>X_Minimum</th>\n",
       "      <th>X_Maximum</th>\n",
       "      <th>Y_Minimum</th>\n",
       "      <th>Y_Maximum</th>\n",
       "      <th>Pixels_Areas</th>\n",
       "      <th>X_Perimeter</th>\n",
       "      <th>Y_Perimeter</th>\n",
       "      <th>Sum_of_Luminosity</th>\n",
       "      <th>Minimum_of_Luminosity</th>\n",
       "      <th>...</th>\n",
       "      <th>Luminosity_Index</th>\n",
       "      <th>SigmoidOfAreas</th>\n",
       "      <th>Pastry</th>\n",
       "      <th>Z_Scratch</th>\n",
       "      <th>K_Scatch</th>\n",
       "      <th>Stains</th>\n",
       "      <th>Dirtiness</th>\n",
       "      <th>Bumps</th>\n",
       "      <th>Other_Faults</th>\n",
       "      <th>Target</th>\n",
       "    </tr>\n",
       "  </thead>\n",
       "  <tbody>\n",
       "    <tr>\n",
       "      <th>0</th>\n",
       "      <td>0</td>\n",
       "      <td>584</td>\n",
       "      <td>590</td>\n",
       "      <td>909972</td>\n",
       "      <td>909977</td>\n",
       "      <td>16</td>\n",
       "      <td>8</td>\n",
       "      <td>5</td>\n",
       "      <td>2274</td>\n",
       "      <td>113</td>\n",
       "      <td>...</td>\n",
       "      <td>-0.0104</td>\n",
       "      <td>0.1417</td>\n",
       "      <td>0</td>\n",
       "      <td>0</td>\n",
       "      <td>0</td>\n",
       "      <td>1</td>\n",
       "      <td>0</td>\n",
       "      <td>0</td>\n",
       "      <td>0</td>\n",
       "      <td>Stains</td>\n",
       "    </tr>\n",
       "    <tr>\n",
       "      <th>1</th>\n",
       "      <td>1</td>\n",
       "      <td>808</td>\n",
       "      <td>816</td>\n",
       "      <td>728350</td>\n",
       "      <td>728372</td>\n",
       "      <td>433</td>\n",
       "      <td>20</td>\n",
       "      <td>54</td>\n",
       "      <td>44478</td>\n",
       "      <td>70</td>\n",
       "      <td>...</td>\n",
       "      <td>-0.2997</td>\n",
       "      <td>0.9491</td>\n",
       "      <td>0</td>\n",
       "      <td>0</td>\n",
       "      <td>0</td>\n",
       "      <td>0</td>\n",
       "      <td>0</td>\n",
       "      <td>0</td>\n",
       "      <td>1</td>\n",
       "      <td>Other_Faults</td>\n",
       "    </tr>\n",
       "    <tr>\n",
       "      <th>2</th>\n",
       "      <td>2</td>\n",
       "      <td>39</td>\n",
       "      <td>192</td>\n",
       "      <td>2212076</td>\n",
       "      <td>2212144</td>\n",
       "      <td>11388</td>\n",
       "      <td>705</td>\n",
       "      <td>420</td>\n",
       "      <td>1311391</td>\n",
       "      <td>29</td>\n",
       "      <td>...</td>\n",
       "      <td>-0.0944</td>\n",
       "      <td>1.0000</td>\n",
       "      <td>0</td>\n",
       "      <td>0</td>\n",
       "      <td>1</td>\n",
       "      <td>0</td>\n",
       "      <td>0</td>\n",
       "      <td>0</td>\n",
       "      <td>0</td>\n",
       "      <td>K_Scatch</td>\n",
       "    </tr>\n",
       "    <tr>\n",
       "      <th>3</th>\n",
       "      <td>3</td>\n",
       "      <td>781</td>\n",
       "      <td>789</td>\n",
       "      <td>3353146</td>\n",
       "      <td>3353173</td>\n",
       "      <td>210</td>\n",
       "      <td>16</td>\n",
       "      <td>29</td>\n",
       "      <td>3202</td>\n",
       "      <td>114</td>\n",
       "      <td>...</td>\n",
       "      <td>-0.0402</td>\n",
       "      <td>0.4025</td>\n",
       "      <td>0</td>\n",
       "      <td>0</td>\n",
       "      <td>1</td>\n",
       "      <td>0</td>\n",
       "      <td>0</td>\n",
       "      <td>0</td>\n",
       "      <td>0</td>\n",
       "      <td>K_Scatch</td>\n",
       "    </tr>\n",
       "    <tr>\n",
       "      <th>4</th>\n",
       "      <td>4</td>\n",
       "      <td>1540</td>\n",
       "      <td>1560</td>\n",
       "      <td>618457</td>\n",
       "      <td>618502</td>\n",
       "      <td>521</td>\n",
       "      <td>72</td>\n",
       "      <td>67</td>\n",
       "      <td>48231</td>\n",
       "      <td>82</td>\n",
       "      <td>...</td>\n",
       "      <td>-0.2455</td>\n",
       "      <td>0.9998</td>\n",
       "      <td>0</td>\n",
       "      <td>0</td>\n",
       "      <td>0</td>\n",
       "      <td>0</td>\n",
       "      <td>0</td>\n",
       "      <td>0</td>\n",
       "      <td>1</td>\n",
       "      <td>Other_Faults</td>\n",
       "    </tr>\n",
       "  </tbody>\n",
       "</table>\n",
       "<p>5 rows × 36 columns</p>\n",
       "</div>"
      ],
      "text/plain": [
       "   id  X_Minimum  X_Maximum  Y_Minimum  Y_Maximum  Pixels_Areas  X_Perimeter  \\\n",
       "0   0        584        590     909972     909977            16            8   \n",
       "1   1        808        816     728350     728372           433           20   \n",
       "2   2         39        192    2212076    2212144         11388          705   \n",
       "3   3        781        789    3353146    3353173           210           16   \n",
       "4   4       1540       1560     618457     618502           521           72   \n",
       "\n",
       "   Y_Perimeter  Sum_of_Luminosity  Minimum_of_Luminosity  ...  \\\n",
       "0            5               2274                    113  ...   \n",
       "1           54              44478                     70  ...   \n",
       "2          420            1311391                     29  ...   \n",
       "3           29               3202                    114  ...   \n",
       "4           67              48231                     82  ...   \n",
       "\n",
       "   Luminosity_Index  SigmoidOfAreas  Pastry  Z_Scratch  K_Scatch  Stains  \\\n",
       "0           -0.0104          0.1417       0          0         0       1   \n",
       "1           -0.2997          0.9491       0          0         0       0   \n",
       "2           -0.0944          1.0000       0          0         1       0   \n",
       "3           -0.0402          0.4025       0          0         1       0   \n",
       "4           -0.2455          0.9998       0          0         0       0   \n",
       "\n",
       "   Dirtiness  Bumps  Other_Faults        Target  \n",
       "0          0      0             0        Stains  \n",
       "1          0      0             1  Other_Faults  \n",
       "2          0      0             0      K_Scatch  \n",
       "3          0      0             0      K_Scatch  \n",
       "4          0      0             1  Other_Faults  \n",
       "\n",
       "[5 rows x 36 columns]"
      ]
     },
     "execution_count": 8,
     "metadata": {},
     "output_type": "execute_result"
    }
   ],
   "source": [
    "data.head()"
   ]
  },
  {
   "cell_type": "code",
   "execution_count": 57,
   "id": "08830c0a",
   "metadata": {},
   "outputs": [],
   "source": [
    "prob_df = data['Target1'].dropna().value_counts()/len(data.dropna())"
   ]
  },
  {
   "cell_type": "code",
   "execution_count": 60,
   "id": "48819189",
   "metadata": {},
   "outputs": [
    {
     "data": {
      "text/plain": [
       "-2.403652706897658"
      ]
     },
     "execution_count": 60,
     "metadata": {},
     "output_type": "execute_result"
    }
   ],
   "source": [
    "ent = 0\n",
    "for col in Target:\n",
    "    p = prob_df.loc[col]\n",
    "    ent += p * np.log2(p)\n",
    "ent"
   ]
  },
  {
   "cell_type": "code",
   "execution_count": 9,
   "id": "6a080859",
   "metadata": {},
   "outputs": [],
   "source": [
    "data['Target1'] = data[Target].idxmax(axis=1)"
   ]
  },
  {
   "cell_type": "markdown",
   "id": "13d13e95",
   "metadata": {},
   "source": [
    "# Decision Tree 2"
   ]
  },
  {
   "cell_type": "code",
   "execution_count": 10,
   "id": "1b6f3beb",
   "metadata": {},
   "outputs": [],
   "source": [
    "df = data.drop(['Pastry','Z_Scratch','K_Scatch','Stains','Dirtiness','Bumps','Other_Faults', 'Target','Target1'] , axis=1)"
   ]
  },
  {
   "cell_type": "code",
   "execution_count": 11,
   "id": "ca8e39ae",
   "metadata": {},
   "outputs": [],
   "source": [
    "y = data['Target1']"
   ]
  },
  {
   "cell_type": "code",
   "execution_count": 25,
   "id": "260dcc14",
   "metadata": {},
   "outputs": [],
   "source": [
    "from sklearn.model_selection import train_test_split\n",
    "xtrain, xtest, ytrain, ytest = train_test_split(df, y, random_state=42)"
   ]
  },
  {
   "cell_type": "code",
   "execution_count": 14,
   "id": "423a6657",
   "metadata": {},
   "outputs": [],
   "source": [
    "df.to_csv('X.csv')\n",
    "y.to_csv('Y.csv')"
   ]
  },
  {
   "cell_type": "code",
   "execution_count": 16,
   "id": "37620f7a",
   "metadata": {},
   "outputs": [
    {
     "data": {
      "text/plain": [
       "0          Stains\n",
       "1    Other_Faults\n",
       "2        K_Scatch\n",
       "3        K_Scatch\n",
       "4    Other_Faults\n",
       "Name: Target1, dtype: object"
      ]
     },
     "execution_count": 16,
     "metadata": {},
     "output_type": "execute_result"
    }
   ],
   "source": [
    "y.head()"
   ]
  },
  {
   "cell_type": "code",
   "execution_count": 83,
   "id": "e91f1bc9",
   "metadata": {},
   "outputs": [],
   "source": [
    "model = DecisionTreeClassifier(criterion = 'entropy', random_state=42, class_weight='balanced')"
   ]
  },
  {
   "cell_type": "code",
   "execution_count": 85,
   "id": "6b9f87fe",
   "metadata": {},
   "outputs": [
    {
     "data": {
      "text/html": [
       "<style>#sk-container-id-1 {color: black;background-color: white;}#sk-container-id-1 pre{padding: 0;}#sk-container-id-1 div.sk-toggleable {background-color: white;}#sk-container-id-1 label.sk-toggleable__label {cursor: pointer;display: block;width: 100%;margin-bottom: 0;padding: 0.3em;box-sizing: border-box;text-align: center;}#sk-container-id-1 label.sk-toggleable__label-arrow:before {content: \"▸\";float: left;margin-right: 0.25em;color: #696969;}#sk-container-id-1 label.sk-toggleable__label-arrow:hover:before {color: black;}#sk-container-id-1 div.sk-estimator:hover label.sk-toggleable__label-arrow:before {color: black;}#sk-container-id-1 div.sk-toggleable__content {max-height: 0;max-width: 0;overflow: hidden;text-align: left;background-color: #f0f8ff;}#sk-container-id-1 div.sk-toggleable__content pre {margin: 0.2em;color: black;border-radius: 0.25em;background-color: #f0f8ff;}#sk-container-id-1 input.sk-toggleable__control:checked~div.sk-toggleable__content {max-height: 200px;max-width: 100%;overflow: auto;}#sk-container-id-1 input.sk-toggleable__control:checked~label.sk-toggleable__label-arrow:before {content: \"▾\";}#sk-container-id-1 div.sk-estimator input.sk-toggleable__control:checked~label.sk-toggleable__label {background-color: #d4ebff;}#sk-container-id-1 div.sk-label input.sk-toggleable__control:checked~label.sk-toggleable__label {background-color: #d4ebff;}#sk-container-id-1 input.sk-hidden--visually {border: 0;clip: rect(1px 1px 1px 1px);clip: rect(1px, 1px, 1px, 1px);height: 1px;margin: -1px;overflow: hidden;padding: 0;position: absolute;width: 1px;}#sk-container-id-1 div.sk-estimator {font-family: monospace;background-color: #f0f8ff;border: 1px dotted black;border-radius: 0.25em;box-sizing: border-box;margin-bottom: 0.5em;}#sk-container-id-1 div.sk-estimator:hover {background-color: #d4ebff;}#sk-container-id-1 div.sk-parallel-item::after {content: \"\";width: 100%;border-bottom: 1px solid gray;flex-grow: 1;}#sk-container-id-1 div.sk-label:hover label.sk-toggleable__label {background-color: #d4ebff;}#sk-container-id-1 div.sk-serial::before {content: \"\";position: absolute;border-left: 1px solid gray;box-sizing: border-box;top: 0;bottom: 0;left: 50%;z-index: 0;}#sk-container-id-1 div.sk-serial {display: flex;flex-direction: column;align-items: center;background-color: white;padding-right: 0.2em;padding-left: 0.2em;position: relative;}#sk-container-id-1 div.sk-item {position: relative;z-index: 1;}#sk-container-id-1 div.sk-parallel {display: flex;align-items: stretch;justify-content: center;background-color: white;position: relative;}#sk-container-id-1 div.sk-item::before, #sk-container-id-1 div.sk-parallel-item::before {content: \"\";position: absolute;border-left: 1px solid gray;box-sizing: border-box;top: 0;bottom: 0;left: 50%;z-index: -1;}#sk-container-id-1 div.sk-parallel-item {display: flex;flex-direction: column;z-index: 1;position: relative;background-color: white;}#sk-container-id-1 div.sk-parallel-item:first-child::after {align-self: flex-end;width: 50%;}#sk-container-id-1 div.sk-parallel-item:last-child::after {align-self: flex-start;width: 50%;}#sk-container-id-1 div.sk-parallel-item:only-child::after {width: 0;}#sk-container-id-1 div.sk-dashed-wrapped {border: 1px dashed gray;margin: 0 0.4em 0.5em 0.4em;box-sizing: border-box;padding-bottom: 0.4em;background-color: white;}#sk-container-id-1 div.sk-label label {font-family: monospace;font-weight: bold;display: inline-block;line-height: 1.2em;}#sk-container-id-1 div.sk-label-container {text-align: center;}#sk-container-id-1 div.sk-container {/* jupyter's `normalize.less` sets `[hidden] { display: none; }` but bootstrap.min.css set `[hidden] { display: none !important; }` so we also need the `!important` here to be able to override the default hidden behavior on the sphinx rendered scikit-learn.org. See: https://github.com/scikit-learn/scikit-learn/issues/21755 */display: inline-block !important;position: relative;}#sk-container-id-1 div.sk-text-repr-fallback {display: none;}</style><div id=\"sk-container-id-1\" class=\"sk-top-container\"><div class=\"sk-text-repr-fallback\"><pre>DecisionTreeClassifier(class_weight=&#x27;balanced&#x27;, criterion=&#x27;entropy&#x27;,\n",
       "                       random_state=42)</pre><b>In a Jupyter environment, please rerun this cell to show the HTML representation or trust the notebook. <br />On GitHub, the HTML representation is unable to render, please try loading this page with nbviewer.org.</b></div><div class=\"sk-container\" hidden><div class=\"sk-item\"><div class=\"sk-estimator sk-toggleable\"><input class=\"sk-toggleable__control sk-hidden--visually\" id=\"sk-estimator-id-1\" type=\"checkbox\" checked><label for=\"sk-estimator-id-1\" class=\"sk-toggleable__label sk-toggleable__label-arrow\">DecisionTreeClassifier</label><div class=\"sk-toggleable__content\"><pre>DecisionTreeClassifier(class_weight=&#x27;balanced&#x27;, criterion=&#x27;entropy&#x27;,\n",
       "                       random_state=42)</pre></div></div></div></div></div>"
      ],
      "text/plain": [
       "DecisionTreeClassifier(class_weight='balanced', criterion='entropy',\n",
       "                       random_state=42)"
      ]
     },
     "execution_count": 85,
     "metadata": {},
     "output_type": "execute_result"
    }
   ],
   "source": [
    "model.fit(xtrain, ytrain)"
   ]
  },
  {
   "cell_type": "code",
   "execution_count": 104,
   "id": "c20112d6",
   "metadata": {},
   "outputs": [],
   "source": [
    "from sklearn.metrics import confusion_matrix, ConfusionMatrixDisplay, classification_report"
   ]
  },
  {
   "cell_type": "code",
   "execution_count": 88,
   "id": "af7bf67b",
   "metadata": {},
   "outputs": [],
   "source": [
    "cm = confusion_matrix(ytest, model.predict(xtest))"
   ]
  },
  {
   "cell_type": "code",
   "execution_count": 97,
   "id": "5b9af898",
   "metadata": {},
   "outputs": [
    {
     "data": {
      "text/plain": [
       "<sklearn.metrics._plot.confusion_matrix.ConfusionMatrixDisplay at 0x19965450b10>"
      ]
     },
     "execution_count": 97,
     "metadata": {},
     "output_type": "execute_result"
    },
    {
     "data": {
      "image/png": "[encoded data removed]",
      "text/plain": [
       "<Figure size 640x480 with 2 Axes>"
      ]
     },
     "metadata": {},
     "output_type": "display_data"
    }
   ],
   "source": [
    "cmd = ConfusionMatrixDisplay(confusion_matrix= cm, display_labels=Target)\n",
    "cmd.plot()"
   ]
  },
  {
   "cell_type": "code",
   "execution_count": 98,
   "id": "9bc182e4",
   "metadata": {},
   "outputs": [
    {
     "data": {
      "text/plain": [
       "array([459,  19, 707, 657, 128,  84, 121], dtype=int64)"
      ]
     },
     "execution_count": 98,
     "metadata": {},
     "output_type": "execute_result"
    }
   ],
   "source": [
    "np.diagonal(cm)"
   ]
  },
  {
   "cell_type": "code",
   "execution_count": 108,
   "id": "3a42d2db",
   "metadata": {},
   "outputs": [
    {
     "data": {
      "text/plain": [
       "array([ 706,   88,  145, 1014,  477,   46,  154], dtype=int64)"
      ]
     },
     "execution_count": 108,
     "metadata": {},
     "output_type": "execute_result"
    }
   ],
   "source": [
    "(np.sum(cm, axis=1)-np.diagonal(cm))"
   ]
  },
  {
   "cell_type": "code",
   "execution_count": 109,
   "id": "bcce113e",
   "metadata": {},
   "outputs": [
    {
     "data": {
      "text/plain": [
       "array([719, 114, 146, 965, 455,  52, 179], dtype=int64)"
      ]
     },
     "execution_count": 109,
     "metadata": {},
     "output_type": "execute_result"
    }
   ],
   "source": [
    "(np.sum(cm, axis=0)-np.diagonal(cm))"
   ]
  },
  {
   "cell_type": "code",
   "execution_count": 106,
   "id": "bbc3dd10",
   "metadata": {},
   "outputs": [
    {
     "name": "stdout",
     "output_type": "stream",
     "text": [
      "              precision    recall  f1-score   support\n",
      "\n",
      "       Bumps       0.39      0.39      0.39      1165\n",
      "   Dirtiness       0.14      0.18      0.16       107\n",
      "    K_Scatch       0.83      0.83      0.83       852\n",
      "Other_Faults       0.41      0.39      0.40      1671\n",
      "      Pastry       0.22      0.21      0.22       605\n",
      "      Stains       0.62      0.65      0.63       130\n",
      "   Z_Scratch       0.40      0.44      0.42       275\n",
      "\n",
      "    accuracy                           0.45      4805\n",
      "   macro avg       0.43      0.44      0.44      4805\n",
      "weighted avg       0.45      0.45      0.45      4805\n",
      "\n"
     ]
    }
   ],
   "source": [
    "print(classification_report(ytest, model.predict(xtest)))"
   ]
  },
  {
   "cell_type": "code",
   "execution_count": 137,
   "id": "510159bf",
   "metadata": {},
   "outputs": [],
   "source": [
    "# Assignment 5\n",
    "from sklearn.model_selection import KFold, cross_validate\n",
    "kf = KFold(10, random_state=42, shuffle=True)\n",
    "depths = [3, 5, 7, 11, 13, 15, 19, 20]\n",
    "cv_train_score = []\n",
    "cv_test_score = []\n",
    "for depth in depths:\n",
    "    model = DecisionTreeClassifier(max_depth=depth, random_state=42, class_weight='balanced')\n",
    "    cv_res = cross_validate(model, xtrain, ytrain, cv=kf, scoring='accuracy')\n",
    "    cv_test_score.append(cv_res['test_score'].mean())\n",
    "    #cv_train_score.append(cv_res['train_score'].mean())"
   ]
  },
  {
   "cell_type": "code",
   "execution_count": 115,
   "id": "d0845867",
   "metadata": {},
   "outputs": [
    {
     "data": {
      "text/plain": [
       "{'fit_time': array([0.08607769, 0.0791316 , 0.08207345, 0.07913065, 0.0800879 ,\n",
       "        0.07813311, 0.08112025, 0.08211756, 0.08007193, 0.0810914 ]),\n",
       " 'score_time': array([0.00404453, 0.00398874, 0.00404739, 0.00398874, 0.00398731,\n",
       "        0.00394154, 0.00400376, 0.00400257, 0.00400496, 0.00402927]),\n",
       " 'test_score': array([0.51664355, 0.50208044, 0.47434119, 0.4778086 , 0.46773074,\n",
       "        0.48646773, 0.52532963, 0.49479528, 0.51561416, 0.48507981])}"
      ]
     },
     "execution_count": 115,
     "metadata": {},
     "output_type": "execute_result"
    }
   ],
   "source": [
    "cv_res"
   ]
  },
  {
   "cell_type": "code",
   "execution_count": 140,
   "id": "7f021a62",
   "metadata": {},
   "outputs": [
    {
     "data": {
      "text/plain": [
       "5"
      ]
     },
     "execution_count": 140,
     "metadata": {},
     "output_type": "execute_result"
    }
   ],
   "source": [
    "depths[np.argmax(cv_test_score)]"
   ]
  },
  {
   "cell_type": "code",
   "execution_count": 141,
   "id": "ba219b15",
   "metadata": {},
   "outputs": [
    {
     "name": "stdout",
     "output_type": "stream",
     "text": [
      "The model accuracy on testing data with best depth is 0.495525494276795\n"
     ]
    }
   ],
   "source": [
    "best_model = DecisionTreeClassifier(max_depth=5, random_state=42, class_weight='balanced')\n",
    "best_model.fit(xtrain, ytrain)\n",
    "print(f\"The model accuracy on testing data with best depth is {best_model.score(xtest, ytest)}\")"
   ]
  },
  {
   "cell_type": "code",
   "execution_count": 129,
   "id": "b32c6f7a",
   "metadata": {},
   "outputs": [],
   "source": [
    "fi_list = best_model.feature_importances_\n",
    "cols = list(xtrain.columns)"
   ]
  },
  {
   "cell_type": "code",
   "execution_count": 130,
   "id": "87c6560e",
   "metadata": {},
   "outputs": [],
   "source": [
    "fi = [(cols[i], fi_list[i]) for i in range(len(cols))]"
   ]
  },
  {
   "cell_type": "code",
   "execution_count": 136,
   "id": "9a71cc71",
   "metadata": {},
   "outputs": [
    {
     "data": {
      "text/plain": [
       "[('Length_of_Conveyer', 0.12535167213763224),\n",
       " ('Pixels_Areas', 0.2948597846256839),\n",
       " ('Outside_X_Index', 0.31979749627357207)]"
      ]
     },
     "execution_count": 136,
     "metadata": {},
     "output_type": "execute_result"
    }
   ],
   "source": [
    "sorted(fi, key=lambda x: x[1])[-3:]"
   ]
  },
  {
   "cell_type": "markdown",
   "id": "9a1ee4a9",
   "metadata": {},
   "source": [
    "# Bagging and Random Forest"
   ]
  },
  {
   "cell_type": "code",
   "execution_count": 142,
   "id": "7f138eb7",
   "metadata": {},
   "outputs": [
    {
     "data": {
      "text/plain": [
       "Other_Faults    6540\n",
       "Bumps           4761\n",
       "K_Scatch        3431\n",
       "Pastry          2284\n",
       "Z_Scratch       1150\n",
       "Stains           568\n",
       "Dirtiness        485\n",
       "Name: Target1, dtype: int64"
      ]
     },
     "execution_count": 142,
     "metadata": {},
     "output_type": "execute_result"
    }
   ],
   "source": [
    "data['Target1'].value_counts()"
   ]
  },
  {
   "cell_type": "code",
   "execution_count": 22,
   "id": "d1969ea0",
   "metadata": {},
   "outputs": [],
   "source": [
    "# Assignment 5\n",
    "from sklearn.model_selection import RandomizedSearchCV\n",
    "from sklearn.ensemble import RandomForestClassifier\n",
    "params = {\n",
    "    'n_estimators': [50, 100, 200],\n",
    "    'max_depth': [None, 10, 20, 30],\n",
    "    'min_samples_split': [2, 5, 10],\n",
    "    'min_samples_leaf': [1, 2, 4]\n",
    "}\n",
    "model = RandomForestClassifier(random_state=42)\n",
    "grid_res = RandomizedSearchCV(model, params, cv = 2, scoring='accuracy', n_iter=30, random_state=42)"
   ]
  },
  {
   "cell_type": "code",
   "execution_count": 26,
   "id": "a0b23553",
   "metadata": {},
   "outputs": [
    {
     "data": {
      "text/html": [
       "<style>#sk-container-id-2 {color: black;background-color: white;}#sk-container-id-2 pre{padding: 0;}#sk-container-id-2 div.sk-toggleable {background-color: white;}#sk-container-id-2 label.sk-toggleable__label {cursor: pointer;display: block;width: 100%;margin-bottom: 0;padding: 0.3em;box-sizing: border-box;text-align: center;}#sk-container-id-2 label.sk-toggleable__label-arrow:before {content: \"▸\";float: left;margin-right: 0.25em;color: #696969;}#sk-container-id-2 label.sk-toggleable__label-arrow:hover:before {color: black;}#sk-container-id-2 div.sk-estimator:hover label.sk-toggleable__label-arrow:before {color: black;}#sk-container-id-2 div.sk-toggleable__content {max-height: 0;max-width: 0;overflow: hidden;text-align: left;background-color: #f0f8ff;}#sk-container-id-2 div.sk-toggleable__content pre {margin: 0.2em;color: black;border-radius: 0.25em;background-color: #f0f8ff;}#sk-container-id-2 input.sk-toggleable__control:checked~div.sk-toggleable__content {max-height: 200px;max-width: 100%;overflow: auto;}#sk-container-id-2 input.sk-toggleable__control:checked~label.sk-toggleable__label-arrow:before {content: \"▾\";}#sk-container-id-2 div.sk-estimator input.sk-toggleable__control:checked~label.sk-toggleable__label {background-color: #d4ebff;}#sk-container-id-2 div.sk-label input.sk-toggleable__control:checked~label.sk-toggleable__label {background-color: #d4ebff;}#sk-container-id-2 input.sk-hidden--visually {border: 0;clip: rect(1px 1px 1px 1px);clip: rect(1px, 1px, 1px, 1px);height: 1px;margin: -1px;overflow: hidden;padding: 0;position: absolute;width: 1px;}#sk-container-id-2 div.sk-estimator {font-family: monospace;background-color: #f0f8ff;border: 1px dotted black;border-radius: 0.25em;box-sizing: border-box;margin-bottom: 0.5em;}#sk-container-id-2 div.sk-estimator:hover {background-color: #d4ebff;}#sk-container-id-2 div.sk-parallel-item::after {content: \"\";width: 100%;border-bottom: 1px solid gray;flex-grow: 1;}#sk-container-id-2 div.sk-label:hover label.sk-toggleable__label {background-color: #d4ebff;}#sk-container-id-2 div.sk-serial::before {content: \"\";position: absolute;border-left: 1px solid gray;box-sizing: border-box;top: 0;bottom: 0;left: 50%;z-index: 0;}#sk-container-id-2 div.sk-serial {display: flex;flex-direction: column;align-items: center;background-color: white;padding-right: 0.2em;padding-left: 0.2em;position: relative;}#sk-container-id-2 div.sk-item {position: relative;z-index: 1;}#sk-container-id-2 div.sk-parallel {display: flex;align-items: stretch;justify-content: center;background-color: white;position: relative;}#sk-container-id-2 div.sk-item::before, #sk-container-id-2 div.sk-parallel-item::before {content: \"\";position: absolute;border-left: 1px solid gray;box-sizing: border-box;top: 0;bottom: 0;left: 50%;z-index: -1;}#sk-container-id-2 div.sk-parallel-item {display: flex;flex-direction: column;z-index: 1;position: relative;background-color: white;}#sk-container-id-2 div.sk-parallel-item:first-child::after {align-self: flex-end;width: 50%;}#sk-container-id-2 div.sk-parallel-item:last-child::after {align-self: flex-start;width: 50%;}#sk-container-id-2 div.sk-parallel-item:only-child::after {width: 0;}#sk-container-id-2 div.sk-dashed-wrapped {border: 1px dashed gray;margin: 0 0.4em 0.5em 0.4em;box-sizing: border-box;padding-bottom: 0.4em;background-color: white;}#sk-container-id-2 div.sk-label label {font-family: monospace;font-weight: bold;display: inline-block;line-height: 1.2em;}#sk-container-id-2 div.sk-label-container {text-align: center;}#sk-container-id-2 div.sk-container {/* jupyter's `normalize.less` sets `[hidden] { display: none; }` but bootstrap.min.css set `[hidden] { display: none !important; }` so we also need the `!important` here to be able to override the default hidden behavior on the sphinx rendered scikit-learn.org. See: https://github.com/scikit-learn/scikit-learn/issues/21755 */display: inline-block !important;position: relative;}#sk-container-id-2 div.sk-text-repr-fallback {display: none;}</style><div id=\"sk-container-id-2\" class=\"sk-top-container\"><div class=\"sk-text-repr-fallback\"><pre>RandomizedSearchCV(cv=2, estimator=RandomForestClassifier(random_state=42),\n",
       "                   n_iter=30,\n",
       "                   param_distributions={&#x27;max_depth&#x27;: [None, 10, 20, 30],\n",
       "                                        &#x27;min_samples_leaf&#x27;: [1, 2, 4],\n",
       "                                        &#x27;min_samples_split&#x27;: [2, 5, 10],\n",
       "                                        &#x27;n_estimators&#x27;: [50, 100, 200]},\n",
       "                   random_state=42, scoring=&#x27;accuracy&#x27;)</pre><b>In a Jupyter environment, please rerun this cell to show the HTML representation or trust the notebook. <br />On GitHub, the HTML representation is unable to render, please try loading this page with nbviewer.org.</b></div><div class=\"sk-container\" hidden><div class=\"sk-item sk-dashed-wrapped\"><div class=\"sk-label-container\"><div class=\"sk-label sk-toggleable\"><input class=\"sk-toggleable__control sk-hidden--visually\" id=\"sk-estimator-id-4\" type=\"checkbox\" ><label for=\"sk-estimator-id-4\" class=\"sk-toggleable__label sk-toggleable__label-arrow\">RandomizedSearchCV</label><div class=\"sk-toggleable__content\"><pre>RandomizedSearchCV(cv=2, estimator=RandomForestClassifier(random_state=42),\n",
       "                   n_iter=30,\n",
       "                   param_distributions={&#x27;max_depth&#x27;: [None, 10, 20, 30],\n",
       "                                        &#x27;min_samples_leaf&#x27;: [1, 2, 4],\n",
       "                                        &#x27;min_samples_split&#x27;: [2, 5, 10],\n",
       "                                        &#x27;n_estimators&#x27;: [50, 100, 200]},\n",
       "                   random_state=42, scoring=&#x27;accuracy&#x27;)</pre></div></div></div><div class=\"sk-parallel\"><div class=\"sk-parallel-item\"><div class=\"sk-item\"><div class=\"sk-label-container\"><div class=\"sk-label sk-toggleable\"><input class=\"sk-toggleable__control sk-hidden--visually\" id=\"sk-estimator-id-5\" type=\"checkbox\" ><label for=\"sk-estimator-id-5\" class=\"sk-toggleable__label sk-toggleable__label-arrow\">estimator: RandomForestClassifier</label><div class=\"sk-toggleable__content\"><pre>RandomForestClassifier(random_state=42)</pre></div></div></div><div class=\"sk-serial\"><div class=\"sk-item\"><div class=\"sk-estimator sk-toggleable\"><input class=\"sk-toggleable__control sk-hidden--visually\" id=\"sk-estimator-id-6\" type=\"checkbox\" ><label for=\"sk-estimator-id-6\" class=\"sk-toggleable__label sk-toggleable__label-arrow\">RandomForestClassifier</label><div class=\"sk-toggleable__content\"><pre>RandomForestClassifier(random_state=42)</pre></div></div></div></div></div></div></div></div></div></div>"
      ],
      "text/plain": [
       "RandomizedSearchCV(cv=2, estimator=RandomForestClassifier(random_state=42),\n",
       "                   n_iter=30,\n",
       "                   param_distributions={'max_depth': [None, 10, 20, 30],\n",
       "                                        'min_samples_leaf': [1, 2, 4],\n",
       "                                        'min_samples_split': [2, 5, 10],\n",
       "                                        'n_estimators': [50, 100, 200]},\n",
       "                   random_state=42, scoring='accuracy')"
      ]
     },
     "execution_count": 26,
     "metadata": {},
     "output_type": "execute_result"
    }
   ],
   "source": [
    "grid_res.fit(xtrain, ytrain)"
   ]
  },
  {
   "cell_type": "code",
   "execution_count": 27,
   "id": "cc1ad5a6",
   "metadata": {},
   "outputs": [
    {
     "name": "stdout",
     "output_type": "stream",
     "text": [
      "{'n_estimators': 200, 'min_samples_split': 5, 'min_samples_leaf': 4, 'max_depth': 20}\n"
     ]
    }
   ],
   "source": [
    "print(grid_res.best_params_)"
   ]
  },
  {
   "cell_type": "code",
   "execution_count": null,
   "id": "5445bf3d",
   "metadata": {},
   "outputs": [],
   "source": []
  },
  {
   "cell_type": "code",
   "execution_count": 30,
   "id": "ac8e0ee4",
   "metadata": {},
   "outputs": [
    {
     "name": "stdout",
     "output_type": "stream",
     "text": [
      "True Mean: 4.800\n",
      "Samples=1, Estimated Mean: 2.000\n",
      "Samples=10, Estimated Mean: 4.450\n",
      "Samples=100, Estimated Mean: 4.620\n"
     ]
    }
   ],
   "source": [
    "## Additional Problem\n",
    "import numpy as np\n",
    "dataset = [5, 8, 9, 5, 0, 0, 1, 7, 6, 9, 2, 4, 5, 2, 4, 2, 4, 7, 7, 9]#eval(input())\n",
    "dataset = np.asarray(dataset)\n",
    "\n",
    "#It returns the mean of numbers list\n",
    "def mean(numbers):\n",
    "    return sum(numbers) / float(len(numbers))\n",
    "\n",
    "#printing the mean of the dataset\n",
    "print('True Mean: %.3f' % mean(dataset))\n",
    "\n",
    "#It returns a 2d list consisting of the observations from the dataset representing the subsamples used in bootstrap sampling\n",
    "def subsample(dataset, ratio=1.0):\n",
    "    sample = list()\n",
    "    n_sample = round(len(dataset) * ratio, 0) #number of observations to draw from the dataset for the subsample according to dataset and ratio. It should be the rounded off integer.\n",
    "    while len(sample) < n_sample:\n",
    "        index = np.random.randint(len(dataset)-1)  #pick a random index of observation from the dataset\n",
    "        sample.append(dataset[index]) #append the observation to the list sample\n",
    "    return sample\n",
    "    \n",
    "np.random.seed(1)\n",
    "\n",
    "#ratio of the dataset we will be using to create to bootstrap samples\n",
    "ratio = 0.10\n",
    "\n",
    "for n_bootstrap in [100]:\n",
    "    sample_means = list() #list consisting of the mean of the bootstrap samples\n",
    "    for i in range(n_bootstrap):\n",
    "        sample = subsample(dataset, ratio) #draw a sample from the dataset\n",
    "        sample_mean = np.mean(sample)    #find the mean of the sample\n",
    "        sample_means.append(sample_mean)\n",
    "\n",
    "    #printing the means of each bootstrap sample\t\n",
    "    print('Samples=%d, Estimated Mean: %.3f' % (n_bootstrap, mean(sample_means)))"
   ]
  },
  {
   "cell_type": "code",
   "execution_count": 44,
   "id": "09d01f46",
   "metadata": {},
   "outputs": [
    {
     "name": "stdout",
     "output_type": "stream",
     "text": [
      "{'a': 0, 'b': 1, 'c': 2}\n",
      "{'a': 0, 'b': 1, 'c': 2}\n",
      "[1 1 0 1 0]\n"
     ]
    }
   ],
   "source": [
    "## Additional Problem\n",
    "from sklearn.tree import DecisionTreeClassifier\n",
    "import pandas as pd\n",
    "\n",
    "a = [0, 0, 1, 1, 1, 1, 0, 0, 1, 1]\n",
    "b = ['c', 'b', 'c', 'c', 'b', 'c', 'a', 'a', 'a', 'b']\n",
    "c = [0, 0, 1, 1, 1, 1, 0, 1, 1, 0]\n",
    "d = [1, 1, 0, 1, 1]\n",
    "e = ['a', 'c', 'b', 'a', 'b']\n",
    "\n",
    "train = pd.DataFrame({'attr1': a, 'attr2': b, 'tar': c})\n",
    "test = pd.DataFrame({'attr1': d, 'attr2': e})\n",
    "\n",
    "#returns a dataframe where the values in 'attr2' are replaced with 'l':0, 'm':1, 'h':2\n",
    "def str_column_to_int(dataset, column):\n",
    "    #all the unique values in the the attr2\n",
    "    unique = sorted(pd.unique(dataset['attr2']))\n",
    "\n",
    "    lookup = dict()\n",
    "    for i, value in enumerate(unique):\n",
    "        lookup[value] = i\n",
    "\n",
    "#replace the values in attr2\n",
    "    print(lookup)\n",
    "    dataset[column] = dataset[column].map(lookup)\n",
    "    return dataset\n",
    "\n",
    "train = str_column_to_int(train, 'attr2')\n",
    "test = str_column_to_int(test, 'attr2')\n",
    "\n",
    "#initialize the classifier\n",
    "tree = DecisionTreeClassifier()\n",
    "\n",
    "#fit the model with the attributes and target of the training data\n",
    "tree.fit(train.drop(['tar'], axis=1), train['tar'])\n",
    "\n",
    "#predict the target for the observations in the test\n",
    "pred=tree.predict(test)\n",
    "\n",
    "print(pred)"
   ]
  },
  {
   "cell_type": "code",
   "execution_count": 43,
   "id": "87fecdb6",
   "metadata": {},
   "outputs": [
    {
     "data": {
      "text/html": [
       "<div>\n",
       "<style scoped>\n",
       "    .dataframe tbody tr th:only-of-type {\n",
       "        vertical-align: middle;\n",
       "    }\n",
       "\n",
       "    .dataframe tbody tr th {\n",
       "        vertical-align: top;\n",
       "    }\n",
       "\n",
       "    .dataframe thead th {\n",
       "        text-align: right;\n",
       "    }\n",
       "</style>\n",
       "<table border=\"1\" class=\"dataframe\">\n",
       "  <thead>\n",
       "    <tr style=\"text-align: right;\">\n",
       "      <th></th>\n",
       "      <th>attr1</th>\n",
       "      <th>attr2</th>\n",
       "      <th>tar</th>\n",
       "    </tr>\n",
       "  </thead>\n",
       "  <tbody>\n",
       "    <tr>\n",
       "      <th>0</th>\n",
       "      <td>0</td>\n",
       "      <td>2</td>\n",
       "      <td>0</td>\n",
       "    </tr>\n",
       "    <tr>\n",
       "      <th>1</th>\n",
       "      <td>0</td>\n",
       "      <td>1</td>\n",
       "      <td>0</td>\n",
       "    </tr>\n",
       "    <tr>\n",
       "      <th>2</th>\n",
       "      <td>1</td>\n",
       "      <td>2</td>\n",
       "      <td>1</td>\n",
       "    </tr>\n",
       "    <tr>\n",
       "      <th>3</th>\n",
       "      <td>1</td>\n",
       "      <td>2</td>\n",
       "      <td>1</td>\n",
       "    </tr>\n",
       "    <tr>\n",
       "      <th>4</th>\n",
       "      <td>1</td>\n",
       "      <td>1</td>\n",
       "      <td>1</td>\n",
       "    </tr>\n",
       "  </tbody>\n",
       "</table>\n",
       "</div>"
      ],
      "text/plain": [
       "   attr1  attr2  tar\n",
       "0      0      2    0\n",
       "1      0      1    0\n",
       "2      1      2    1\n",
       "3      1      2    1\n",
       "4      1      1    1"
      ]
     },
     "execution_count": 43,
     "metadata": {},
     "output_type": "execute_result"
    }
   ],
   "source": [
    "train.head()"
   ]
  },
  {
   "cell_type": "code",
   "execution_count": 52,
   "id": "6b4c4bd8",
   "metadata": {},
   "outputs": [
    {
     "name": "stdout",
     "output_type": "stream",
     "text": [
      "1.0\n"
     ]
    }
   ],
   "source": [
    "## Additional Problem\n",
    "from sklearn.ensemble import RandomForestClassifier\n",
    "from sklearn.metrics import accuracy_score\n",
    "import numpy as np\n",
    "np.random.seed(0)\n",
    "\n",
    "# X_train = eval(input())\n",
    "# Y_train = eval(input())\n",
    "# X_valid = eval(input())\n",
    "# Y_valid = eval(input())\n",
    "\n",
    "n_estimators = [int(x) for x in np.linspace(start = 200, stop = 2000, num = 2)]\n",
    "max_depth = [int(x) for x in np.linspace(10, 110, num = 2)]\n",
    "\n",
    "#initialize the max_accuracy \n",
    "max_accuracy = 0\n",
    "\n",
    "#2d list\n",
    "hyperparameters = []    \n",
    "#add all the possible combinations of the hyperparameters, each combination as a list\n",
    "#YOUR CODE GOES HERE\n",
    "for est in n_estimators:\n",
    "    for depth in max_depth:\n",
    "        hyperparameters.append([est, depth])\n",
    "\n",
    "\n",
    "#YOUR CODE ENDS HERE\n",
    "\n",
    "# #iterate through all the possible combinations\n",
    "for k in range(len(hyperparameters)) :\n",
    "\n",
    "    #equate the hyperparameters\n",
    "    model = RandomForestClassifier(n_estimators=hyperparameters[k][0], max_depth=hyperparameters[k][1])\n",
    "  \n",
    "    model.fit( X_train, Y_train )\n",
    "    \n",
    "    # Prediction on validation set\n",
    "    Y_pred = model.predict( X_valid )\n",
    "    #calculate the accuracy of y_pred\n",
    "    curr_accuracy = accuracy_score(Y_pred, Y_valid)\n",
    "    \n",
    "    #update the max_accuracy\n",
    "    if max_accuracy < curr_accuracy :            \n",
    "        max_accuracy = curr_accuracy\n",
    "\n",
    "print(np.round(max_accuracy, 2))"
   ]
  },
  {
   "cell_type": "code",
   "execution_count": 46,
   "id": "f198de7b",
   "metadata": {},
   "outputs": [],
   "source": [
    "X_train = [[-1.3866988473336963, -1.4659283769652018, 0.21908962542114993, -0.5705832721154885, -0.39026284294183144], [-0.7420732896222481, -0.08018384934842993, 3.289428542039212, -0.2964031797183057, -1.125040628296576], [0.21851716927727832, 1.0189924747916534, -0.7926306280393199, -0.2962365155662698, 0.9186990330562381], [0.3301766397890254, -0.16234277642612435, 0.7791050210600118, -0.2789394183794175, -0.35256672506010045], [-0.5564673667894178, 0.5994216521345357, 0.40496709263900627, 0.13789108254811427, -1.6797693374581222], [-0.4720940445492414, 0.7586066378374584, 0.11238256186733482, -0.04938846752263362, 0.9002597707743003], [0.6349076398170301, 0.1836763524015007, 1.1110767907487034, 0.45180245509492484, -0.4783224076406436], [-1.283707351437791, 0.6660298150052364, 1.5696565285122108, -0.6888351361949948, -0.8067418148384723], [1.4486773262255297, 1.1533634571229343, 0.25142391222574634, 0.2030471272777417, -0.9163693858589892], [0.2348414093321201, -0.9172108964271672, 0.9729754272245916, 1.3780385868308136, -0.09055892098596163], [0.6354361842373741, -0.8190222254833313, -0.00038109394560143146, -0.4358096089529283, -1.0552640440044254], [0.39286286277430754, 1.1227932444987576, -0.4560006105768751, 1.540942085589407, 0.8198553203534422], [-0.015930330301621193, 0.1549232280701, -1.4180291585154143, -2.1379838467838814, 1.220286714782214], [-0.19670287799839387, -0.49256946476607977, 0.3263897035897652, 0.742732407535864, 1.0944787425334823], [-0.2585046029453902, 0.15014998302969798, -0.45023021276200786, 0.4195424096764816, 1.0271758933897448]]\n",
    "Y_train = [0, 0, 1, 0, 0, 1, 0, 0, 0, 0, 0, 1, 1, 1, 1]\n",
    "X_valid = [[-1.0242005313937477, 0.976281826209692, -0.08920283415553125, 1.3788073908145468, -1.910582206697658], [-0.5261119238131993, -0.3443793123408228, -0.27647010369805974, -0.922859596433698, 1.1023500179176688], [-1.3564905359324015, -0.8475433541986344, 0.18234188313329097, -0.6098825928188724, 1.16813242929799], [1.5023509595263478, 0.25117399808101465, 1.4985390708977253, -1.0426432774270358, 1.3538360431859358], [-2.124074148585913, 1.9821906863146135, 1.2206529386813578, -0.5057455727664389, -0.9943646677180753], [0.008449083666056009, -0.916539897668125, -1.4137008074570467, 1.6437768066205727, 1.0730437206988162], [0.692291104684553, 0.8290740382224973, -0.8614162963750803, -0.5663186573498192, 0.9446455766399413], [1.1510791022492721, -1.2216360043806689, -1.6227635183877651, -1.9345051157994586, -0.5498461748799024], [-0.7861882343032912, 0.8254785094597348, 0.06800567662367255, -0.7727384191587424, 0.87627995234417], [0.4207745468774598, -0.8274281056562529, -0.03974762336921463, -0.0005562277737053338, 0.8612479876410026]]\n",
    "Y_valid = [0, 1, 1, 1, 0, 1, 1, 0, 1, 1]"
   ]
  },
  {
   "cell_type": "markdown",
   "id": "05f2350d",
   "metadata": {},
   "source": [
    "# Boosting 1"
   ]
  },
  {
   "cell_type": "code",
   "execution_count": 103,
   "id": "9884bf88",
   "metadata": {},
   "outputs": [
    {
     "data": {
      "text/html": [
       "<div>\n",
       "<style scoped>\n",
       "    .dataframe tbody tr th:only-of-type {\n",
       "        vertical-align: middle;\n",
       "    }\n",
       "\n",
       "    .dataframe tbody tr th {\n",
       "        vertical-align: top;\n",
       "    }\n",
       "\n",
       "    .dataframe thead th {\n",
       "        text-align: right;\n",
       "    }\n",
       "</style>\n",
       "<table border=\"1\" class=\"dataframe\">\n",
       "  <thead>\n",
       "    <tr style=\"text-align: right;\">\n",
       "      <th></th>\n",
       "      <th>id</th>\n",
       "      <th>no_of_adults</th>\n",
       "      <th>no_of_children</th>\n",
       "      <th>no_of_weekend_nights</th>\n",
       "      <th>no_of_week_nights</th>\n",
       "      <th>type_of_meal_plan</th>\n",
       "      <th>required_car_parking_space</th>\n",
       "      <th>room_type_reserved</th>\n",
       "      <th>lead_time</th>\n",
       "      <th>arrival_year</th>\n",
       "      <th>arrival_month</th>\n",
       "      <th>arrival_date</th>\n",
       "      <th>market_segment_type</th>\n",
       "      <th>repeated_guest</th>\n",
       "      <th>no_of_previous_cancellations</th>\n",
       "      <th>no_of_previous_bookings_not_canceled</th>\n",
       "      <th>avg_price_per_room</th>\n",
       "      <th>no_of_special_requests</th>\n",
       "      <th>booking_status</th>\n",
       "    </tr>\n",
       "  </thead>\n",
       "  <tbody>\n",
       "    <tr>\n",
       "      <th>0</th>\n",
       "      <td>0</td>\n",
       "      <td>2</td>\n",
       "      <td>0</td>\n",
       "      <td>0</td>\n",
       "      <td>2</td>\n",
       "      <td>1</td>\n",
       "      <td>0</td>\n",
       "      <td>0</td>\n",
       "      <td>9</td>\n",
       "      <td>2018</td>\n",
       "      <td>1</td>\n",
       "      <td>14</td>\n",
       "      <td>1</td>\n",
       "      <td>1</td>\n",
       "      <td>11</td>\n",
       "      <td>0</td>\n",
       "      <td>67.50</td>\n",
       "      <td>0</td>\n",
       "      <td>0</td>\n",
       "    </tr>\n",
       "    <tr>\n",
       "      <th>1</th>\n",
       "      <td>1</td>\n",
       "      <td>2</td>\n",
       "      <td>0</td>\n",
       "      <td>1</td>\n",
       "      <td>2</td>\n",
       "      <td>0</td>\n",
       "      <td>0</td>\n",
       "      <td>0</td>\n",
       "      <td>117</td>\n",
       "      <td>2018</td>\n",
       "      <td>7</td>\n",
       "      <td>29</td>\n",
       "      <td>0</td>\n",
       "      <td>0</td>\n",
       "      <td>0</td>\n",
       "      <td>0</td>\n",
       "      <td>72.25</td>\n",
       "      <td>0</td>\n",
       "      <td>0</td>\n",
       "    </tr>\n",
       "    <tr>\n",
       "      <th>2</th>\n",
       "      <td>2</td>\n",
       "      <td>2</td>\n",
       "      <td>0</td>\n",
       "      <td>0</td>\n",
       "      <td>1</td>\n",
       "      <td>0</td>\n",
       "      <td>0</td>\n",
       "      <td>0</td>\n",
       "      <td>315</td>\n",
       "      <td>2018</td>\n",
       "      <td>12</td>\n",
       "      <td>2</td>\n",
       "      <td>0</td>\n",
       "      <td>0</td>\n",
       "      <td>0</td>\n",
       "      <td>0</td>\n",
       "      <td>52.00</td>\n",
       "      <td>0</td>\n",
       "      <td>0</td>\n",
       "    </tr>\n",
       "    <tr>\n",
       "      <th>3</th>\n",
       "      <td>3</td>\n",
       "      <td>1</td>\n",
       "      <td>0</td>\n",
       "      <td>0</td>\n",
       "      <td>2</td>\n",
       "      <td>1</td>\n",
       "      <td>0</td>\n",
       "      <td>0</td>\n",
       "      <td>32</td>\n",
       "      <td>2018</td>\n",
       "      <td>12</td>\n",
       "      <td>1</td>\n",
       "      <td>1</td>\n",
       "      <td>0</td>\n",
       "      <td>0</td>\n",
       "      <td>0</td>\n",
       "      <td>56.00</td>\n",
       "      <td>0</td>\n",
       "      <td>0</td>\n",
       "    </tr>\n",
       "    <tr>\n",
       "      <th>4</th>\n",
       "      <td>4</td>\n",
       "      <td>2</td>\n",
       "      <td>0</td>\n",
       "      <td>1</td>\n",
       "      <td>0</td>\n",
       "      <td>0</td>\n",
       "      <td>0</td>\n",
       "      <td>0</td>\n",
       "      <td>258</td>\n",
       "      <td>2018</td>\n",
       "      <td>10</td>\n",
       "      <td>16</td>\n",
       "      <td>0</td>\n",
       "      <td>0</td>\n",
       "      <td>0</td>\n",
       "      <td>0</td>\n",
       "      <td>100.00</td>\n",
       "      <td>0</td>\n",
       "      <td>1</td>\n",
       "    </tr>\n",
       "  </tbody>\n",
       "</table>\n",
       "</div>"
      ],
      "text/plain": [
       "   id  no_of_adults  no_of_children  no_of_weekend_nights  no_of_week_nights  \\\n",
       "0   0             2               0                     0                  2   \n",
       "1   1             2               0                     1                  2   \n",
       "2   2             2               0                     0                  1   \n",
       "3   3             1               0                     0                  2   \n",
       "4   4             2               0                     1                  0   \n",
       "\n",
       "   type_of_meal_plan  required_car_parking_space  room_type_reserved  \\\n",
       "0                  1                           0                   0   \n",
       "1                  0                           0                   0   \n",
       "2                  0                           0                   0   \n",
       "3                  1                           0                   0   \n",
       "4                  0                           0                   0   \n",
       "\n",
       "   lead_time  arrival_year  arrival_month  arrival_date  market_segment_type  \\\n",
       "0          9          2018              1            14                    1   \n",
       "1        117          2018              7            29                    0   \n",
       "2        315          2018             12             2                    0   \n",
       "3         32          2018             12             1                    1   \n",
       "4        258          2018             10            16                    0   \n",
       "\n",
       "   repeated_guest  no_of_previous_cancellations  \\\n",
       "0               1                            11   \n",
       "1               0                             0   \n",
       "2               0                             0   \n",
       "3               0                             0   \n",
       "4               0                             0   \n",
       "\n",
       "   no_of_previous_bookings_not_canceled  avg_price_per_room  \\\n",
       "0                                     0               67.50   \n",
       "1                                     0               72.25   \n",
       "2                                     0               52.00   \n",
       "3                                     0               56.00   \n",
       "4                                     0              100.00   \n",
       "\n",
       "   no_of_special_requests  booking_status  \n",
       "0                       0               0  \n",
       "1                       0               0  \n",
       "2                       0               0  \n",
       "3                       0               0  \n",
       "4                       0               1  "
      ]
     },
     "execution_count": 103,
     "metadata": {},
     "output_type": "execute_result"
    }
   ],
   "source": [
    "data = pd.read_csv(r\"F:\\Muthu_2023\\Personal\\NextStep\\DSCourse\\Scaler\\MLAssignments\\Dataset\\booking.csv\")\n",
    "data.head()"
   ]
  },
  {
   "cell_type": "markdown",
   "id": "cba374be",
   "metadata": {},
   "source": [
    "- id: Unique identifier for each booking.\n",
    "- no_of_adults: Number of adults per booking.\n",
    "- no_of_children: Number of children per booking.\n",
    "- no_of_weekend_nights: Number of weekend nights booked.\n",
    "- no_of_week_nights: Number of weekday nights booked.\n",
    "- type_of_meal_plan: Type of meal plan selected (e.g., bed and breakfast, all-inclusive).\n",
    "- required_car_parking_space: Indicates if a parking space was required.\n",
    "- room_type_reserved: Type of room reserved.\n",
    "- lead_time: Number of days between the booking date and the arrival date.\n",
    "- arrival_year, arrival_month, arrival_date: Date details for when the booking is scheduled.\n",
    "- market_segment_type: The market segment from which the booking originated.\n",
    "- repeated_guest: Flag indicating if the guest has booked before.\n",
    "- no_of_previous_cancellations: Number of prior cancellations by the guest.\n",
    "- no_of_previous_bookings_not_canceled: Number of previous bookings not canceled by the guest.\n",
    "- avg_price_per_room: Average price per room type.\n",
    "- no_of_special_requests: Number of special requests made by the guest.\n",
    "- booking_status: Status of the booking ( confirmed = 0, canceled = 1)."
   ]
  },
  {
   "cell_type": "code",
   "execution_count": 59,
   "id": "b00929bf",
   "metadata": {},
   "outputs": [
    {
     "data": {
      "text/plain": [
       "16"
      ]
     },
     "execution_count": 59,
     "metadata": {},
     "output_type": "execute_result"
    }
   ],
   "source": [
    "# Assignment 1\n",
    "data[data[['no_of_adults', 'no_of_children']].sum(axis=1) == 0]['id'].count()"
   ]
  },
  {
   "cell_type": "code",
   "execution_count": 60,
   "id": "6384a47a",
   "metadata": {},
   "outputs": [
    {
     "data": {
      "text/plain": [
       "0    25596\n",
       "1    16504\n",
       "Name: booking_status, dtype: int64"
      ]
     },
     "execution_count": 60,
     "metadata": {},
     "output_type": "execute_result"
    }
   ],
   "source": [
    "# Assignment 2\n",
    "data['booking_status'].value_counts()"
   ]
  },
  {
   "cell_type": "code",
   "execution_count": 63,
   "id": "152f7bb4",
   "metadata": {},
   "outputs": [
    {
     "data": {
      "text/plain": [
       "<Axes: xlabel='arrival_month', ylabel='count'>"
      ]
     },
     "execution_count": 63,
     "metadata": {},
     "output_type": "execute_result"
    },
    {
     "data": {
      "image/png": "[encoded data removed]",
      "text/plain": [
       "<Figure size 640x480 with 1 Axes>"
      ]
     },
     "metadata": {},
     "output_type": "display_data"
    }
   ],
   "source": [
    "sns.countplot(data =data, x='arrival_month', hue='booking_status')"
   ]
  },
  {
   "cell_type": "code",
   "execution_count": 68,
   "id": "24b2e361",
   "metadata": {},
   "outputs": [
    {
     "data": {
      "text/plain": [
       "arrival_month\n",
       "8     3041\n",
       "10    2923\n",
       "7     2218\n",
       "9     2167\n",
       "6     1411\n",
       "5     1337\n",
       "4     1082\n",
       "11     774\n",
       "3      624\n",
       "12     552\n",
       "2      317\n",
       "1       58\n",
       "Name: id, dtype: int64"
      ]
     },
     "execution_count": 68,
     "metadata": {},
     "output_type": "execute_result"
    }
   ],
   "source": [
    "data[data['booking_status'] == 1].groupby('arrival_month')['id'].count().sort_values(ascending=False)"
   ]
  },
  {
   "cell_type": "code",
   "execution_count": 74,
   "id": "0ee5ead2",
   "metadata": {},
   "outputs": [],
   "source": [
    "date_cols = ['arrival_year', 'arrival_month', 'arrival_date']"
   ]
  },
  {
   "cell_type": "code",
   "execution_count": 89,
   "id": "1cec4f97",
   "metadata": {},
   "outputs": [],
   "source": [
    "def process_arrival_date(df, date_cols):\n",
    "    df['date'] = pd.to_datetime(df[date_cols].apply(lambda x: \"-\".join(x.astype(str)), axis=1), errors='coerce')\n",
    "    df['year'] = df['date'].dt.year\n",
    "    df['month'] = df['date'].dt.month\n",
    "    df['day'] = df['date'].dt.day\n",
    "    df['week'] = df['date'].dt.week\n",
    "    df['dayofweek'] = df['date'].dt.dayofweek\n",
    "    df['quarter'] = df['date'].dt.quarter\n",
    "    df['dayofyear'] = df['date'].dt.dayofyear\n",
    "    df.drop(['date'], axis=1, inplace=True)\n",
    "    return df.drop(date_cols, axis=1)"
   ]
  },
  {
   "cell_type": "code",
   "execution_count": 90,
   "id": "9c781e04",
   "metadata": {},
   "outputs": [
    {
     "name": "stderr",
     "output_type": "stream",
     "text": [
      "C:\\Users\\ADMIN\\AppData\\Local\\Temp\\ipykernel_4044\\2835022172.py:6: FutureWarning: Series.dt.weekofyear and Series.dt.week have been deprecated. Please use Series.dt.isocalendar().week instead.\n",
      "  df['week'] = df['date'].dt.week\n"
     ]
    }
   ],
   "source": [
    "test = process_arrival_date(data, ['arrival_year', 'arrival_month', 'arrival_date'])"
   ]
  },
  {
   "cell_type": "code",
   "execution_count": 93,
   "id": "f385f5e1",
   "metadata": {},
   "outputs": [
    {
     "data": {
      "text/plain": [
       "year         50\n",
       "month        50\n",
       "day          50\n",
       "week         50\n",
       "dayofweek    50\n",
       "quarter      50\n",
       "dayofyear    50\n",
       "dtype: int64"
      ]
     },
     "execution_count": 93,
     "metadata": {},
     "output_type": "execute_result"
    }
   ],
   "source": [
    "test.iloc[:,-7:].isnull().sum()"
   ]
  },
  {
   "cell_type": "code",
   "execution_count": null,
   "id": "6cf8dd50",
   "metadata": {},
   "outputs": [],
   "source": [
    "X = data.drop('booking_status', axis=1)\n",
    "y = data['booking_status']"
   ]
  },
  {
   "cell_type": "code",
   "execution_count": 101,
   "id": "7f77b3d0",
   "metadata": {},
   "outputs": [
    {
     "name": "stdout",
     "output_type": "stream",
     "text": [
      "Final combined prediction accuracy: 0.7140380047505939\n"
     ]
    }
   ],
   "source": [
    "#Assignment 5\n",
    "import numpy as np  \n",
    "from sklearn.tree import DecisionTreeClassifier  \n",
    "from sklearn.metrics import accuracy_score  \n",
    "\n",
    "# Initialize weights  \n",
    "weights = np.ones(len(X)) / len(X)  \n",
    "\n",
    "# Train first weak learner  \n",
    "dt1 = DecisionTreeClassifier(random_state=10, max_depth=1)  \n",
    "dt1.fit(X, y)  \n",
    "y_pred_1 = dt1.predict(X)  \n",
    "\n",
    "# Update weights function  \n",
    "def update_weights(y, y_pred, weights):  \n",
    "    for i in range(len(weights)):  \n",
    "        if y[i] != y_pred[i]:  \n",
    "            weights[i] *= 1.5  # Increase the weight for misclassified instances  \n",
    "        else:  \n",
    "            weights[i] *= 0.5  # Decrease the weight for correctly classified instances  \n",
    "    return weights / np.sum(weights)  # Normalize the weights  \n",
    "\n",
    "# Apply first learner and update weights  \n",
    "weights = update_weights(y, y_pred_1, weights)  \n",
    "\n",
    "# Train second weak learner  \n",
    "dt2 = DecisionTreeClassifier(random_state=10, max_depth=1)  \n",
    "dt2.fit(X, y, sample_weight= weights)   # Utilize updated weights for learning for this sample_weight is used.\n",
    "y_pred_2 = dt2.predict(X)  \n",
    "\n",
    "# Combine the weak learners' predictions  \n",
    "# Assuming a simple average for combination  \n",
    "final_prediction = np.round((y_pred_1 + y_pred_2) / 2.0).astype(int)  \n",
    "\n",
    "# Calculate the accuracy  \n",
    "final_accuracy = accuracy_score(y, final_prediction)  \n",
    "print(f\"Final combined prediction accuracy: {final_accuracy}\")"
   ]
  },
  {
   "cell_type": "code",
   "execution_count": 102,
   "id": "ed6f9792",
   "metadata": {},
   "outputs": [
    {
     "name": "stdout",
     "output_type": "stream",
     "text": [
      "Final model accuracy: 0.7740567736555297\n"
     ]
    }
   ],
   "source": [
    "#Assignment 7\n",
    "import numpy as np  \n",
    "from sklearn.tree import DecisionTreeRegressor  \n",
    "from sklearn.metrics import mean_squared_error  \n",
    "\n",
    "y_pred = np.full(shape=y.shape, fill_value=np.mean(y))  \n",
    "\n",
    "# Initialize pseudo residuals  \n",
    "pseudo_residuals = y - y_pred  \n",
    "\n",
    "learning_rate = 0.1  \n",
    "\n",
    "# Train first weak learner on pseudo residuals  \n",
    "dt1 = DecisionTreeRegressor(max_depth=1, random_state=10)  \n",
    "dt1.fit(X, pseudo_residuals)  \n",
    "y_pred_1 = dt1.predict(X)  \n",
    "\n",
    "# Update model predictions  \n",
    "y_pred += y_pred_1 * learning_rate  \n",
    "\n",
    "# Calculate new pseudo residuals  \n",
    "pseudo_residuals = y - y_pred  \n",
    "\n",
    "# Train second weak learner on new pseudo residuals  \n",
    "dt2 = DecisionTreeRegressor(max_depth=1, random_state=10)  \n",
    "dt2.fit(X, pseudo_residuals)  \n",
    "y_pred_2 = dt2.predict(X)  \n",
    "\n",
    "# Update model predictions  \n",
    "y_pred += y_pred_2* learning_rate  \n",
    "\n",
    "# Calculate the accuracy using the mean squared error as a measure of accuracy for regression  \n",
    "final_accuracy = 1 - mean_squared_error(y, y_pred)  \n",
    "print(f\"Final model accuracy: {final_accuracy}\")"
   ]
  },
  {
   "cell_type": "code",
   "execution_count": 104,
   "id": "6c21a528",
   "metadata": {},
   "outputs": [],
   "source": [
    "# Assignment 8\n",
    "from sklearn.ensemble import GradientBoostingClassifier\n",
    "X = data.drop('booking_status', axis=1)\n",
    "y = data['booking_status']\n",
    "xtrain, xtest, ytrain, ytest = train_test_split(X, y, test_size=0.2, random_state=10)\n",
    "model = GradientBoostingClassifier()\n",
    "model.fit(xtrain, ytrain)\n",
    "model.score(xtest, ytest)"
   ]
  },
  {
   "cell_type": "code",
   "execution_count": 115,
   "id": "e5e3ed00",
   "metadata": {},
   "outputs": [
    {
     "name": "stderr",
     "output_type": "stream",
     "text": [
      "C:\\Users\\ADMIN\\AppData\\Local\\Temp\\ipykernel_4044\\2835022172.py:6: FutureWarning: Series.dt.weekofyear and Series.dt.week have been deprecated. Please use Series.dt.isocalendar().week instead.\n",
      "  df['week'] = df['date'].dt.week\n"
     ]
    },
    {
     "data": {
      "text/plain": [
       "0.8128418549346017"
      ]
     },
     "execution_count": 115,
     "metadata": {},
     "output_type": "execute_result"
    }
   ],
   "source": [
    "date_cols = ['arrival_year', 'arrival_month', 'arrival_date']\n",
    "df = process_arrival_date(data, date_cols).dropna()\n",
    "\n",
    "X = df.drop('booking_status', axis=1)\n",
    "y = df['booking_status']\n",
    "xtrain, xtest, ytrain, ytest = train_test_split(X, y, test_size=0.2, random_state=10)\n",
    "model = GradientBoostingClassifier()\n",
    "model.fit(xtrain, ytrain)\n",
    "model.score(xtest, ytest)"
   ]
  },
  {
   "cell_type": "markdown",
   "id": "d9177624",
   "metadata": {},
   "source": [
    "# Boosting 2"
   ]
  },
  {
   "cell_type": "code",
   "execution_count": null,
   "id": "a415f575",
   "metadata": {},
   "outputs": [],
   "source": [
    "from sklearn.ensemble import GradientBoostingClassifier\n",
    "data = pd.read_csv(r\"F:\\Muthu_2023\\Personal\\NextStep\\DSCourse\\Scaler\\MLAssignments\\Dataset\\booking.csv\")"
   ]
  },
  {
   "cell_type": "code",
   "execution_count": 127,
   "id": "389d4957",
   "metadata": {},
   "outputs": [
    {
     "name": "stdout",
     "output_type": "stream",
     "text": [
      "[5.70144427e-04 1.95090125e-03 3.84856114e-04 1.18222522e-03\n",
      " 4.05515428e-03 2.56519405e-03 8.54625691e-03 1.81467462e-03\n",
      " 4.22167382e-01 7.17161256e-03 2.77361378e-02 6.49323707e-04\n",
      " 1.68088045e-01 6.25217611e-03 5.29089956e-05 1.03312148e-05\n",
      " 1.19549282e-01 2.27253394e-01]\n"
     ]
    }
   ],
   "source": [
    "#Assignment 1\n",
    "X = data.drop('booking_status', axis=1)\n",
    "y = data['booking_status']\n",
    "xtrain, xtest, ytrain, ytest = train_test_split(X, y, test_size=0.2, random_state=10)\n",
    "model = GradientBoostingClassifier(random_state=10)\n",
    "model.fit(xtrain, ytrain)\n",
    "\n",
    "feat_imp = [(model.feature_names_in_[i], model.feature_importances_[i]) for i in range(len(model.feature_importances_))]\n",
    "sorted(feat_imp, key = lambda x: x[1], reverse =True)"
   ]
  },
  {
   "cell_type": "code",
   "execution_count": 187,
   "id": "822af2a6",
   "metadata": {},
   "outputs": [
    {
     "data": {
      "text/plain": [
       "[17.735786380767887,\n",
       " -62.47391469811855,\n",
       " -37.81854193503696,\n",
       " -55.442071363663125,\n",
       " -37.40304783547645,\n",
       " -60.1710674540099,\n",
       " -9.940277339683519,\n",
       " -44.43489116993187,\n",
       " -55.442071363663125,\n",
       " -32.70829695821697,\n",
       " -55.442071363663125,\n",
       " 74.40198127232536,\n",
       " -95.8387663931352,\n",
       " 51.31722939978009,\n",
       " 21.932860546351737,\n",
       " -37.81854193503696,\n",
       " -30.786698600581538,\n",
       " 99.05735403540696,\n",
       " 26.66185663669851,\n",
       " 26.66185663669851]"
      ]
     },
     "execution_count": 187,
     "metadata": {},
     "output_type": "execute_result"
    }
   ],
   "source": [
    "# Additional Problem\n",
    "import numpy as np\n",
    "#import decision trees for regression\n",
    "from sklearn.tree import DecisionTreeRegressor\n",
    "\n",
    "x = np.array([[1.1378268656304509, -0.1691572511419156], [-0.4597805236957294, -1.0890344352371168], [0.9841172931027632, -1.1592063247728384], [-1.3802108750499156, -0.2616720669923489], [-0.1793796928832663, -0.692770576575069], [-1.4005412673495643, -0.18435057664102994], [-0.25766375938677644, 0.0503707161894736], [0.1762387523161263, -0.9403535422153736], [-0.7639136722275016, -0.4980731026078258], [-1.3911931153065715, 0.03625974169359078], [-0.6296419090890126, -0.4722584041747191], [-0.8864062679671508, 1.9213469553611742], [-1.7848038867517189, -0.7961858391647482], [1.0475853374178141, 0.22858201102290415], [-1.5133610372500914, 1.107624678074931], [0.9295943283931953, -1.0627949207805292], [0.7133895705195379, -0.7280577188284076], [0.8395164580409145, 1.2390209790064357], [-0.43653709264274676, 1.0092445309145563], [-0.3628911138637164, 0.26396030895579214]]   )\n",
    "\n",
    "y = [25.041416112606452, -76.82184874434061, -36.55168315784781, -57.38581902735705, -45.52881100199741, -53.65852172990456, -4.97308803080433, -48.95869988564721, -51.583197706557876, -40.36545428374305, -46.8239559217708, 83.78983643966608, -100.57682333446509, 45.17968792285051, 17.72700409636257, -33.05520934509737, -19.812339926586027, 97.25161995589107, 44.871827591938384, 4.282726474615903]\n",
    "lr = 0.6\n",
    "\n",
    "# list consisting of weak Decision trees regressors\n",
    "weak_learners = []\n",
    "\n",
    "# Initialize the predictions with stage 0 predictions (mean)\n",
    "predictions = np.array([np.mean(y)]*len(y))\n",
    "\n",
    "# Iterating over the number of estimators\n",
    "for j in range(0, 10):\n",
    "\n",
    "    # Calculating the residuals\n",
    "    residuals = np.array(y) - np.array(predictions)\n",
    "\n",
    "    # Creating a weak learner \n",
    "    weak_learner = DecisionTreeRegressor(max_depth = 1)\n",
    "\n",
    "    # Training the tree on the residuals\n",
    "    weak_learner.fit(x, residuals)\n",
    "\n",
    "    # Appending the weak learner to the list\n",
    "    weak_learners.append(weak_learner)\n",
    "\n",
    "    # Getting the weak learner predictions\n",
    "    predictions_wl = [weak_learner.predict(i.reshape(1,-1))[0] for i in x] \n",
    "\n",
    "    # Updating the current predictions\n",
    "    predictions = [predictions[i] + lr * predictions_wl[i] for i in range(len(x))]\n",
    "\n",
    "predictions\n"
   ]
  },
  {
   "cell_type": "code",
   "execution_count": 211,
   "id": "4a0c0152",
   "metadata": {},
   "outputs": [
    {
     "name": "stdout",
     "output_type": "stream",
     "text": [
      "0.1 :  0.8042755344418052\n",
      "0.05 :  0.8005938242280285\n",
      "0.01 :  0.7859857482185273\n",
      "0.005 :  0.7357482185273159\n",
      "0.001 :  0.6086698337292161\n"
     ]
    }
   ],
   "source": [
    "# Assignment 2\n",
    "lr = [0.1, 0.05, 0.01, 0.005, 0.001]\n",
    "X = data.drop('booking_status', axis=1)\n",
    "y = data['booking_status']\n",
    "xtrain, xtest, ytrain, ytest = train_test_split(X, y, test_size=0.2, random_state=10)\n",
    "score = []\n",
    "for learningrate in lr:\n",
    "    model = GradientBoostingClassifier(learning_rate=learningrate, random_state=10)\n",
    "    model.fit(xtrain, ytrain)    \n",
    "    print(learningrate, \": \", model.score(xtest, ytest))"
   ]
  },
  {
   "cell_type": "code",
   "execution_count": 212,
   "id": "8819876c",
   "metadata": {},
   "outputs": [
    {
     "ename": "TypeError",
     "evalue": "plot() got an unexpected keyword argument 'x'",
     "output_type": "error",
     "traceback": [
      "\u001b[1;31m---------------------------------------------------------------------------\u001b[0m",
      "\u001b[1;31mTypeError\u001b[0m                                 Traceback (most recent call last)",
      "Cell \u001b[1;32mIn[212], line 11\u001b[0m\n\u001b[0;32m      9\u001b[0m     model\u001b[38;5;241m.\u001b[39mfit(xtrain, ytrain)    \n\u001b[0;32m     10\u001b[0m     score\u001b[38;5;241m.\u001b[39mappend(model\u001b[38;5;241m.\u001b[39mscore(xtest, ytest))\n\u001b[1;32m---> 11\u001b[0m plt\u001b[38;5;241m.\u001b[39mplot(x\u001b[38;5;241m=\u001b[39m np\u001b[38;5;241m.\u001b[39marange(\u001b[38;5;241m1\u001b[39m,\u001b[38;5;241m16\u001b[39m), y \u001b[38;5;241m=\u001b[39m score)\n",
      "File \u001b[1;32m~\\anaconda3\\Lib\\site-packages\\matplotlib\\pyplot.py:2812\u001b[0m, in \u001b[0;36mplot\u001b[1;34m(scalex, scaley, data, *args, **kwargs)\u001b[0m\n\u001b[0;32m   2810\u001b[0m \u001b[38;5;129m@_copy_docstring_and_deprecators\u001b[39m(Axes\u001b[38;5;241m.\u001b[39mplot)\n\u001b[0;32m   2811\u001b[0m \u001b[38;5;28;01mdef\u001b[39;00m \u001b[38;5;21mplot\u001b[39m(\u001b[38;5;241m*\u001b[39margs, scalex\u001b[38;5;241m=\u001b[39m\u001b[38;5;28;01mTrue\u001b[39;00m, scaley\u001b[38;5;241m=\u001b[39m\u001b[38;5;28;01mTrue\u001b[39;00m, data\u001b[38;5;241m=\u001b[39m\u001b[38;5;28;01mNone\u001b[39;00m, \u001b[38;5;241m*\u001b[39m\u001b[38;5;241m*\u001b[39mkwargs):\n\u001b[1;32m-> 2812\u001b[0m     \u001b[38;5;28;01mreturn\u001b[39;00m gca()\u001b[38;5;241m.\u001b[39mplot(\n\u001b[0;32m   2813\u001b[0m         \u001b[38;5;241m*\u001b[39margs, scalex\u001b[38;5;241m=\u001b[39mscalex, scaley\u001b[38;5;241m=\u001b[39mscaley,\n\u001b[0;32m   2814\u001b[0m         \u001b[38;5;241m*\u001b[39m\u001b[38;5;241m*\u001b[39m({\u001b[38;5;124m\"\u001b[39m\u001b[38;5;124mdata\u001b[39m\u001b[38;5;124m\"\u001b[39m: data} \u001b[38;5;28;01mif\u001b[39;00m data \u001b[38;5;129;01mis\u001b[39;00m \u001b[38;5;129;01mnot\u001b[39;00m \u001b[38;5;28;01mNone\u001b[39;00m \u001b[38;5;28;01melse\u001b[39;00m {}), \u001b[38;5;241m*\u001b[39m\u001b[38;5;241m*\u001b[39mkwargs)\n",
      "File \u001b[1;32m~\\anaconda3\\Lib\\site-packages\\matplotlib\\axes\\_axes.py:1688\u001b[0m, in \u001b[0;36mAxes.plot\u001b[1;34m(self, scalex, scaley, data, *args, **kwargs)\u001b[0m\n\u001b[0;32m   1445\u001b[0m \u001b[38;5;250m\u001b[39m\u001b[38;5;124;03m\"\"\"\u001b[39;00m\n\u001b[0;32m   1446\u001b[0m \u001b[38;5;124;03mPlot y versus x as lines and/or markers.\u001b[39;00m\n\u001b[0;32m   1447\u001b[0m \n\u001b[1;32m   (...)\u001b[0m\n\u001b[0;32m   1685\u001b[0m \u001b[38;5;124;03m(``'green'``) or hex strings (``'#008000'``).\u001b[39;00m\n\u001b[0;32m   1686\u001b[0m \u001b[38;5;124;03m\"\"\"\u001b[39;00m\n\u001b[0;32m   1687\u001b[0m kwargs \u001b[38;5;241m=\u001b[39m cbook\u001b[38;5;241m.\u001b[39mnormalize_kwargs(kwargs, mlines\u001b[38;5;241m.\u001b[39mLine2D)\n\u001b[1;32m-> 1688\u001b[0m lines \u001b[38;5;241m=\u001b[39m [\u001b[38;5;241m*\u001b[39m\u001b[38;5;28mself\u001b[39m\u001b[38;5;241m.\u001b[39m_get_lines(\u001b[38;5;241m*\u001b[39margs, data\u001b[38;5;241m=\u001b[39mdata, \u001b[38;5;241m*\u001b[39m\u001b[38;5;241m*\u001b[39mkwargs)]\n\u001b[0;32m   1689\u001b[0m \u001b[38;5;28;01mfor\u001b[39;00m line \u001b[38;5;129;01min\u001b[39;00m lines:\n\u001b[0;32m   1690\u001b[0m     \u001b[38;5;28mself\u001b[39m\u001b[38;5;241m.\u001b[39madd_line(line)\n",
      "File \u001b[1;32m~\\anaconda3\\Lib\\site-packages\\matplotlib\\axes\\_base.py:246\u001b[0m, in \u001b[0;36m_process_plot_var_args.__call__\u001b[1;34m(self, data, *args, **kwargs)\u001b[0m\n\u001b[0;32m    244\u001b[0m \u001b[38;5;28;01mfor\u001b[39;00m pos_only \u001b[38;5;129;01min\u001b[39;00m \u001b[38;5;124m\"\u001b[39m\u001b[38;5;124mxy\u001b[39m\u001b[38;5;124m\"\u001b[39m:\n\u001b[0;32m    245\u001b[0m     \u001b[38;5;28;01mif\u001b[39;00m pos_only \u001b[38;5;129;01min\u001b[39;00m kwargs:\n\u001b[1;32m--> 246\u001b[0m         \u001b[38;5;28;01mraise\u001b[39;00m _api\u001b[38;5;241m.\u001b[39mkwarg_error(\u001b[38;5;28mself\u001b[39m\u001b[38;5;241m.\u001b[39mcommand, pos_only)\n\u001b[0;32m    248\u001b[0m \u001b[38;5;28;01mif\u001b[39;00m \u001b[38;5;129;01mnot\u001b[39;00m args:\n\u001b[0;32m    249\u001b[0m     \u001b[38;5;28;01mreturn\u001b[39;00m\n",
      "\u001b[1;31mTypeError\u001b[0m: plot() got an unexpected keyword argument 'x'"
     ]
    },
    {
     "data": {
      "image/png": "[encoded data removed]",
      "text/plain": [
       "<Figure size 640x480 with 1 Axes>"
      ]
     },
     "metadata": {},
     "output_type": "display_data"
    }
   ],
   "source": [
    "# Assignment 3\n",
    "\n",
    "X = data.drop('booking_status', axis=1)\n",
    "y = data['booking_status']\n",
    "xtrain, xtest, ytrain, ytest = train_test_split(X, y, test_size=0.2, random_state=10)\n",
    "score = []\n",
    "for depth in range(1, 16):\n",
    "    model = GradientBoostingClassifier(max_depth=depth, random_state=10)\n",
    "    model.fit(xtrain, ytrain)    \n",
    "    score.append(model.score(xtest, ytest))\n",
    "plt.plot(np.arange(1,16), score)\n",
    "print(\"Max accuracy at depth \", np.argmax(score)+1)"
   ]
  },
  {
   "cell_type": "code",
   "execution_count": 217,
   "id": "d9f56aed",
   "metadata": {},
   "outputs": [
    {
     "name": "stdout",
     "output_type": "stream",
     "text": [
      "Features not scaled:  0.8042755344418052\n",
      "Features scaled:  0.8042755344418052\n"
     ]
    }
   ],
   "source": [
    "# Assignment 4\n",
    "X = data.drop('booking_status', axis=1)\n",
    "y = data['booking_status']\n",
    "xtrain, xtest, ytrain, ytest = train_test_split(X, y, test_size=0.2, random_state=10)\n",
    "scaler = StandardScaler()\n",
    "xtrain_scaled = scaler.fit_transform(xtrain)\n",
    "xtest_scaled = scaler.transform(xtest)\n",
    "\n",
    "model = GradientBoostingClassifier(random_state=10)\n",
    "model.fit(xtrain, ytrain)\n",
    "print(\"Features not scaled: \", model.score(xtest, ytest))\n",
    "\n",
    "model = GradientBoostingClassifier(random_state=10)\n",
    "model.fit(xtrain_scaled, ytrain)\n",
    "print(\"Features scaled: \", model.score(xtest_scaled, ytest))"
   ]
  },
  {
   "cell_type": "code",
   "execution_count": 218,
   "id": "9daa8c05",
   "metadata": {},
   "outputs": [
    {
     "data": {
      "text/html": [
       "<style>#sk-container-id-4 {color: black;background-color: white;}#sk-container-id-4 pre{padding: 0;}#sk-container-id-4 div.sk-toggleable {background-color: white;}#sk-container-id-4 label.sk-toggleable__label {cursor: pointer;display: block;width: 100%;margin-bottom: 0;padding: 0.3em;box-sizing: border-box;text-align: center;}#sk-container-id-4 label.sk-toggleable__label-arrow:before {content: \"▸\";float: left;margin-right: 0.25em;color: #696969;}#sk-container-id-4 label.sk-toggleable__label-arrow:hover:before {color: black;}#sk-container-id-4 div.sk-estimator:hover label.sk-toggleable__label-arrow:before {color: black;}#sk-container-id-4 div.sk-toggleable__content {max-height: 0;max-width: 0;overflow: hidden;text-align: left;background-color: #f0f8ff;}#sk-container-id-4 div.sk-toggleable__content pre {margin: 0.2em;color: black;border-radius: 0.25em;background-color: #f0f8ff;}#sk-container-id-4 input.sk-toggleable__control:checked~div.sk-toggleable__content {max-height: 200px;max-width: 100%;overflow: auto;}#sk-container-id-4 input.sk-toggleable__control:checked~label.sk-toggleable__label-arrow:before {content: \"▾\";}#sk-container-id-4 div.sk-estimator input.sk-toggleable__control:checked~label.sk-toggleable__label {background-color: #d4ebff;}#sk-container-id-4 div.sk-label input.sk-toggleable__control:checked~label.sk-toggleable__label {background-color: #d4ebff;}#sk-container-id-4 input.sk-hidden--visually {border: 0;clip: rect(1px 1px 1px 1px);clip: rect(1px, 1px, 1px, 1px);height: 1px;margin: -1px;overflow: hidden;padding: 0;position: absolute;width: 1px;}#sk-container-id-4 div.sk-estimator {font-family: monospace;background-color: #f0f8ff;border: 1px dotted black;border-radius: 0.25em;box-sizing: border-box;margin-bottom: 0.5em;}#sk-container-id-4 div.sk-estimator:hover {background-color: #d4ebff;}#sk-container-id-4 div.sk-parallel-item::after {content: \"\";width: 100%;border-bottom: 1px solid gray;flex-grow: 1;}#sk-container-id-4 div.sk-label:hover label.sk-toggleable__label {background-color: #d4ebff;}#sk-container-id-4 div.sk-serial::before {content: \"\";position: absolute;border-left: 1px solid gray;box-sizing: border-box;top: 0;bottom: 0;left: 50%;z-index: 0;}#sk-container-id-4 div.sk-serial {display: flex;flex-direction: column;align-items: center;background-color: white;padding-right: 0.2em;padding-left: 0.2em;position: relative;}#sk-container-id-4 div.sk-item {position: relative;z-index: 1;}#sk-container-id-4 div.sk-parallel {display: flex;align-items: stretch;justify-content: center;background-color: white;position: relative;}#sk-container-id-4 div.sk-item::before, #sk-container-id-4 div.sk-parallel-item::before {content: \"\";position: absolute;border-left: 1px solid gray;box-sizing: border-box;top: 0;bottom: 0;left: 50%;z-index: -1;}#sk-container-id-4 div.sk-parallel-item {display: flex;flex-direction: column;z-index: 1;position: relative;background-color: white;}#sk-container-id-4 div.sk-parallel-item:first-child::after {align-self: flex-end;width: 50%;}#sk-container-id-4 div.sk-parallel-item:last-child::after {align-self: flex-start;width: 50%;}#sk-container-id-4 div.sk-parallel-item:only-child::after {width: 0;}#sk-container-id-4 div.sk-dashed-wrapped {border: 1px dashed gray;margin: 0 0.4em 0.5em 0.4em;box-sizing: border-box;padding-bottom: 0.4em;background-color: white;}#sk-container-id-4 div.sk-label label {font-family: monospace;font-weight: bold;display: inline-block;line-height: 1.2em;}#sk-container-id-4 div.sk-label-container {text-align: center;}#sk-container-id-4 div.sk-container {/* jupyter's `normalize.less` sets `[hidden] { display: none; }` but bootstrap.min.css set `[hidden] { display: none !important; }` so we also need the `!important` here to be able to override the default hidden behavior on the sphinx rendered scikit-learn.org. See: https://github.com/scikit-learn/scikit-learn/issues/21755 */display: inline-block !important;position: relative;}#sk-container-id-4 div.sk-text-repr-fallback {display: none;}</style><div id=\"sk-container-id-4\" class=\"sk-top-container\"><div class=\"sk-text-repr-fallback\"><pre>GridSearchCV(cv=2, estimator=GradientBoostingClassifier(random_state=10),\n",
       "             param_grid={&#x27;max_depth&#x27;: [5, 8], &#x27;min_samples_split&#x27;: [2, 4, 6],\n",
       "                         &#x27;n_estimators&#x27;: [100, 200, 300]})</pre><b>In a Jupyter environment, please rerun this cell to show the HTML representation or trust the notebook. <br />On GitHub, the HTML representation is unable to render, please try loading this page with nbviewer.org.</b></div><div class=\"sk-container\" hidden><div class=\"sk-item sk-dashed-wrapped\"><div class=\"sk-label-container\"><div class=\"sk-label sk-toggleable\"><input class=\"sk-toggleable__control sk-hidden--visually\" id=\"sk-estimator-id-8\" type=\"checkbox\" ><label for=\"sk-estimator-id-8\" class=\"sk-toggleable__label sk-toggleable__label-arrow\">GridSearchCV</label><div class=\"sk-toggleable__content\"><pre>GridSearchCV(cv=2, estimator=GradientBoostingClassifier(random_state=10),\n",
       "             param_grid={&#x27;max_depth&#x27;: [5, 8], &#x27;min_samples_split&#x27;: [2, 4, 6],\n",
       "                         &#x27;n_estimators&#x27;: [100, 200, 300]})</pre></div></div></div><div class=\"sk-parallel\"><div class=\"sk-parallel-item\"><div class=\"sk-item\"><div class=\"sk-label-container\"><div class=\"sk-label sk-toggleable\"><input class=\"sk-toggleable__control sk-hidden--visually\" id=\"sk-estimator-id-9\" type=\"checkbox\" ><label for=\"sk-estimator-id-9\" class=\"sk-toggleable__label sk-toggleable__label-arrow\">estimator: GradientBoostingClassifier</label><div class=\"sk-toggleable__content\"><pre>GradientBoostingClassifier(random_state=10)</pre></div></div></div><div class=\"sk-serial\"><div class=\"sk-item\"><div class=\"sk-estimator sk-toggleable\"><input class=\"sk-toggleable__control sk-hidden--visually\" id=\"sk-estimator-id-10\" type=\"checkbox\" ><label for=\"sk-estimator-id-10\" class=\"sk-toggleable__label sk-toggleable__label-arrow\">GradientBoostingClassifier</label><div class=\"sk-toggleable__content\"><pre>GradientBoostingClassifier(random_state=10)</pre></div></div></div></div></div></div></div></div></div></div>"
      ],
      "text/plain": [
       "GridSearchCV(cv=2, estimator=GradientBoostingClassifier(random_state=10),\n",
       "             param_grid={'max_depth': [5, 8], 'min_samples_split': [2, 4, 6],\n",
       "                         'n_estimators': [100, 200, 300]})"
      ]
     },
     "execution_count": 218,
     "metadata": {},
     "output_type": "execute_result"
    }
   ],
   "source": [
    "# Assignment 5\n",
    "from sklearn.model_selection import GridSearchCV\n",
    "X = data.drop('booking_status', axis=1)\n",
    "y = data['booking_status']\n",
    "xtrain, xtest, ytrain, ytest = train_test_split(X, y, test_size=0.2, random_state=10)\n",
    "params = {\n",
    "    'n_estimators': [100, 200, 300],\n",
    "    'max_depth': [5, 8],\n",
    "    'min_samples_split': [2, 4, 6]\n",
    "}\n",
    "model = GradientBoostingClassifier(random_state=10)\n",
    "\n",
    "grid_res = GridSearchCV(model, param_grid = params, cv=2)\n",
    "grid_res.fit(xtrain, ytrain)"
   ]
  },
  {
   "cell_type": "code",
   "execution_count": 220,
   "id": "ac491d6d",
   "metadata": {},
   "outputs": [
    {
     "data": {
      "text/plain": [
       "{'mean_fit_time': array([ 5.26351845, 10.21826589, 14.67065024,  5.0911231 ,  9.83640254,\n",
       "        14.99054408,  4.98101556, 10.29534304, 14.22284997,  8.24257314,\n",
       "        17.28340018, 28.32711947,  9.0676955 , 17.12194574, 26.61352837,\n",
       "         8.63428807, 18.66483569, 25.85982478]),\n",
       " 'std_fit_time': array([6.30749464e-02, 2.96235085e-04, 2.12774277e-01, 1.43658638e-01,\n",
       "        1.95707917e-01, 2.11167574e-01, 7.48431683e-03, 2.79308438e-01,\n",
       "        3.72339606e-01, 1.05268598e-01, 1.43935800e-01, 2.35592926e+00,\n",
       "        8.60245109e-01, 1.10597014e-01, 5.95012784e-01, 1.29616499e-01,\n",
       "        5.80530167e-02, 8.84297490e-01]),\n",
       " 'mean_score_time': array([0.06490326, 0.1019721 , 0.14264238, 0.05952346, 0.09758902,\n",
       "        0.15111375, 0.05905163, 0.10106301, 0.13001037, 0.09553492,\n",
       "        0.17003119, 0.26940405, 0.09507048, 0.17369926, 0.26871967,\n",
       "        0.18116498, 0.18766952, 0.26128078]),\n",
       " 'std_score_time': array([7.18951225e-03, 2.10428238e-03, 1.46877766e-03, 1.53148174e-03,\n",
       "        5.01632690e-04, 8.03160667e-03, 3.00514698e-03, 1.07502937e-03,\n",
       "        3.81469727e-06, 5.51807880e-03, 7.25984573e-05, 8.39591026e-04,\n",
       "        1.97088718e-03, 1.50406361e-03, 8.48460197e-03, 8.50784779e-02,\n",
       "        4.50468063e-03, 5.00321388e-03]),\n",
       " 'param_max_depth': masked_array(data=[5, 5, 5, 5, 5, 5, 5, 5, 5, 8, 8, 8, 8, 8, 8, 8, 8, 8],\n",
       "              mask=[False, False, False, False, False, False, False, False,\n",
       "                    False, False, False, False, False, False, False, False,\n",
       "                    False, False],\n",
       "        fill_value='?',\n",
       "             dtype=object),\n",
       " 'param_min_samples_split': masked_array(data=[2, 2, 2, 4, 4, 4, 6, 6, 6, 2, 2, 2, 4, 4, 4, 6, 6, 6],\n",
       "              mask=[False, False, False, False, False, False, False, False,\n",
       "                    False, False, False, False, False, False, False, False,\n",
       "                    False, False],\n",
       "        fill_value='?',\n",
       "             dtype=object),\n",
       " 'param_n_estimators': masked_array(data=[100, 200, 300, 100, 200, 300, 100, 200, 300, 100, 200,\n",
       "                    300, 100, 200, 300, 100, 200, 300],\n",
       "              mask=[False, False, False, False, False, False, False, False,\n",
       "                    False, False, False, False, False, False, False, False,\n",
       "                    False, False],\n",
       "        fill_value='?',\n",
       "             dtype=object),\n",
       " 'params': [{'max_depth': 5, 'min_samples_split': 2, 'n_estimators': 100},\n",
       "  {'max_depth': 5, 'min_samples_split': 2, 'n_estimators': 200},\n",
       "  {'max_depth': 5, 'min_samples_split': 2, 'n_estimators': 300},\n",
       "  {'max_depth': 5, 'min_samples_split': 4, 'n_estimators': 100},\n",
       "  {'max_depth': 5, 'min_samples_split': 4, 'n_estimators': 200},\n",
       "  {'max_depth': 5, 'min_samples_split': 4, 'n_estimators': 300},\n",
       "  {'max_depth': 5, 'min_samples_split': 6, 'n_estimators': 100},\n",
       "  {'max_depth': 5, 'min_samples_split': 6, 'n_estimators': 200},\n",
       "  {'max_depth': 5, 'min_samples_split': 6, 'n_estimators': 300},\n",
       "  {'max_depth': 8, 'min_samples_split': 2, 'n_estimators': 100},\n",
       "  {'max_depth': 8, 'min_samples_split': 2, 'n_estimators': 200},\n",
       "  {'max_depth': 8, 'min_samples_split': 2, 'n_estimators': 300},\n",
       "  {'max_depth': 8, 'min_samples_split': 4, 'n_estimators': 100},\n",
       "  {'max_depth': 8, 'min_samples_split': 4, 'n_estimators': 200},\n",
       "  {'max_depth': 8, 'min_samples_split': 4, 'n_estimators': 300},\n",
       "  {'max_depth': 8, 'min_samples_split': 6, 'n_estimators': 100},\n",
       "  {'max_depth': 8, 'min_samples_split': 6, 'n_estimators': 200},\n",
       "  {'max_depth': 8, 'min_samples_split': 6, 'n_estimators': 300}],\n",
       " 'split0_test_score': array([0.81448931, 0.81745843, 0.81609264, 0.81336105, 0.81704276,\n",
       "        0.81692399, 0.81353919, 0.81650831, 0.8182304 , 0.8141924 ,\n",
       "        0.81140143, 0.81039192, 0.81371734, 0.81062945, 0.81051069,\n",
       "        0.81365796, 0.81098575, 0.80890736]),\n",
       " 'split1_test_score': array([0.8128266 , 0.81532067, 0.81733967, 0.81342043, 0.81787411,\n",
       "        0.81840855, 0.81543943, 0.8175772 , 0.8175772 , 0.81288599,\n",
       "        0.81057007, 0.81033254, 0.81241093, 0.81193587, 0.81068884,\n",
       "        0.81252969, 0.81152019, 0.81062945]),\n",
       " 'mean_test_score': array([0.81365796, 0.81638955, 0.81671615, 0.81339074, 0.81745843,\n",
       "        0.81766627, 0.81448931, 0.81704276, 0.8179038 , 0.81353919,\n",
       "        0.81098575, 0.81036223, 0.81306413, 0.81128266, 0.81059976,\n",
       "        0.81309382, 0.81125297, 0.80976841]),\n",
       " 'std_test_score': array([8.31353919e-04, 1.06888361e-03, 6.23515439e-04, 2.96912114e-05,\n",
       "        4.15676960e-04, 7.42280285e-04, 9.50118765e-04, 5.34441805e-04,\n",
       "        3.26603325e-04, 6.53206651e-04, 4.15676960e-04, 2.96912114e-05,\n",
       "        6.53206651e-04, 6.53206651e-04, 8.90736342e-05, 5.64133017e-04,\n",
       "        2.67220903e-04, 8.61045131e-04]),\n",
       " 'rank_test_score': array([ 8,  6,  5, 10,  3,  2,  7,  4,  1,  9, 15, 17, 12, 13, 16, 11, 14,\n",
       "        18])}"
      ]
     },
     "execution_count": 220,
     "metadata": {},
     "output_type": "execute_result"
    }
   ],
   "source": [
    "grid_res.cv_results_"
   ]
  },
  {
   "cell_type": "code",
   "execution_count": 251,
   "id": "75cc8e9d",
   "metadata": {},
   "outputs": [],
   "source": [
    "rank = grid_res.cv_results_['rank_test_score']\n",
    "ranks = [(i, rank[i]) for i in range(len(rank))]\n",
    "rank_sorted = sorted(ranks, key = lambda x: x[1])[:5]\n",
    "top_params = [grid_res.cv_results_['params'][i] for i,j in rank_sorted]"
   ]
  },
  {
   "cell_type": "code",
   "execution_count": 259,
   "id": "7faba054",
   "metadata": {},
   "outputs": [],
   "source": [
    "# Assignment 6\n",
    "#from sklearn.import cross_validation\n",
    "score = []\n",
    "for param in top_params:\n",
    "    model = GradientBoostingClassifier(random_state=10)\n",
    "    model.set_params(**param)\n",
    "    model.fit(xtrain, ytrain)\n",
    "    score.append(model.score(xtest, ytest))"
   ]
  },
  {
   "cell_type": "code",
   "execution_count": 261,
   "id": "8b8a4c28",
   "metadata": {},
   "outputs": [
    {
     "data": {
      "text/plain": [
       "[<matplotlib.lines.Line2D at 0x1c81708b090>]"
      ]
     },
     "execution_count": 261,
     "metadata": {},
     "output_type": "execute_result"
    },
    {
     "data": {
      "image/png": "[encoded data removed]",
      "text/plain": [
       "<Figure size 640x480 with 1 Axes>"
      ]
     },
     "metadata": {},
     "output_type": "display_data"
    }
   ],
   "source": [
    "plt.plot(score)"
   ]
  },
  {
   "cell_type": "code",
   "execution_count": 262,
   "id": "68346519",
   "metadata": {},
   "outputs": [],
   "source": [
    "# Assignment 7\n",
    "X = data.drop('booking_status', axis=1)\n",
    "y = data['booking_status']\n",
    "xtrain, xtest, ytrain, ytest = train_test_split(X, y, test_size=0.2, random_state=10)\n",
    "p_1 = np.percentile(xtrain['lead_time'], 1)\n",
    "p_99 = np.percentile(xtrain['lead_time'], 99)"
   ]
  },
  {
   "cell_type": "code",
   "execution_count": 263,
   "id": "ddf57fec",
   "metadata": {},
   "outputs": [
    {
     "data": {
      "text/plain": [
       "(0.0, 323.0)"
      ]
     },
     "execution_count": 263,
     "metadata": {},
     "output_type": "execute_result"
    }
   ],
   "source": [
    "p_1, p_99"
   ]
  },
  {
   "cell_type": "code",
   "execution_count": 265,
   "id": "b724f170",
   "metadata": {},
   "outputs": [
    {
     "data": {
      "text/plain": [
       "334"
      ]
     },
     "execution_count": 265,
     "metadata": {},
     "output_type": "execute_result"
    }
   ],
   "source": [
    "xtrain[(xtrain['lead_time'] < p_1) | (xtrain['lead_time'] > p_99)]['lead_time'].count()"
   ]
  },
  {
   "cell_type": "code",
   "execution_count": 272,
   "id": "bf75460d",
   "metadata": {},
   "outputs": [],
   "source": [
    "# Assignment 8\n",
    "xtrain_mod = xtrain[(xtrain['lead_time'] >= p_1) & (xtrain['lead_time'] <= p_99)]\n",
    "ytrain_mod = ytrain[(xtrain['lead_time'] >= p_1) & (xtrain['lead_time'] <= p_99)]"
   ]
  },
  {
   "cell_type": "code",
   "execution_count": 273,
   "id": "2bb95e8f",
   "metadata": {},
   "outputs": [
    {
     "name": "stdout",
     "output_type": "stream",
     "text": [
      "Outliers removed:  0.8065320665083135\n",
      "Outliers exist:  0.8042755344418052\n"
     ]
    }
   ],
   "source": [
    "model = GradientBoostingClassifier(random_state=10)\n",
    "model.fit(xtrain_mod, ytrain_mod)\n",
    "print(\"Outliers removed: \", model.score(xtest, ytest))\n",
    "\n",
    "model = GradientBoostingClassifier(random_state=10)\n",
    "model.fit(xtrain, ytrain)\n",
    "print(\"Outliers exist: \", model.score(xtest, ytest))"
   ]
  },
  {
   "cell_type": "code",
   "execution_count": 274,
   "id": "838e957c",
   "metadata": {},
   "outputs": [
    {
     "name": "stdout",
     "output_type": "stream",
     "text": [
      "Log loss:  0.8042755344418052\n",
      "Exp loss:  0.8057007125890736\n"
     ]
    }
   ],
   "source": [
    "# Assignment 9\n",
    "model = GradientBoostingClassifier(loss= 'log_loss', random_state=10)\n",
    "model.fit(xtrain, ytrain)\n",
    "print(\"Log loss: \", model.score(xtest, ytest))\n",
    "\n",
    "model = GradientBoostingClassifier(loss= 'exponential', random_state=10)\n",
    "model.fit(xtrain, ytrain)\n",
    "print(\"Exp loss: \", model.score(xtest, ytest))"
   ]
  },
  {
   "cell_type": "code",
   "execution_count": 275,
   "id": "a4ba524a",
   "metadata": {},
   "outputs": [
    {
     "name": "stdout",
     "output_type": "stream",
     "text": [
      "[0.6086698337292161]\n",
      "[0.6086698337292161, 0.7355106888361045]\n",
      "[0.6086698337292161, 0.7355106888361045, 0.7858669833729216]\n",
      "[0.6086698337292161, 0.7355106888361045, 0.7858669833729216, 0.7891923990498813]\n",
      "[0.6086698337292161, 0.7355106888361045, 0.7858669833729216, 0.7891923990498813, 0.8002375296912114]\n",
      "[0.6086698337292161, 0.7355106888361045, 0.7858669833729216, 0.7891923990498813, 0.8002375296912114, 0.8042755344418052]\n",
      "[0.6086698337292161, 0.7355106888361045, 0.7858669833729216, 0.7891923990498813, 0.8002375296912114, 0.8042755344418052, 0.8111638954869359]\n",
      "[0.6086698337292161, 0.7355106888361045, 0.7858669833729216, 0.7891923990498813, 0.8002375296912114, 0.8042755344418052, 0.8111638954869359, 0.8157957244655581]\n",
      "[0.6086698337292161, 0.7355106888361045, 0.7858669833729216, 0.7891923990498813, 0.8002375296912114, 0.8042755344418052, 0.8111638954869359, 0.8157957244655581, 0.8193586698337292]\n",
      "[0.6086698337292161, 0.7355106888361045, 0.7858669833729216, 0.7891923990498813, 0.8002375296912114, 0.8042755344418052, 0.8111638954869359, 0.8157957244655581, 0.8193586698337292, 0.8258907363420428]\n"
     ]
    }
   ],
   "source": [
    "estim = [1, 5, 10, 20, 50, 100, 200, 300, 500, 1000]\n",
    "scores = []\n",
    "for n in estim:\n",
    "    model = GradientBoostingClassifier(n_estimators = n, random_state=10)\n",
    "    model.fit(xtrain, ytrain)\n",
    "    scores.append(model.score(xtest, ytest))\n",
    "    print(scores)"
   ]
  },
  {
   "cell_type": "code",
   "execution_count": 276,
   "id": "a1cdf1b6",
   "metadata": {},
   "outputs": [
    {
     "data": {
      "text/plain": [
       "[<matplotlib.lines.Line2D at 0x1c80fb9aa90>]"
      ]
     },
     "execution_count": 276,
     "metadata": {},
     "output_type": "execute_result"
    },
    {
     "data": {
      "image/png": "[encoded data removed]",
      "text/plain": [
       "<Figure size 640x480 with 1 Axes>"
      ]
     },
     "metadata": {},
     "output_type": "display_data"
    }
   ],
   "source": [
    "plt.plot(scores)"
   ]
  },
  {
   "cell_type": "markdown",
   "id": "1da03974",
   "metadata": {},
   "source": [
    "# Other Ensemble Learning"
   ]
  },
  {
   "cell_type": "code",
   "execution_count": 2,
   "id": "f45e64e0",
   "metadata": {},
   "outputs": [],
   "source": [
    "data = pd.read_csv(r\"F:\\Muthu_2023\\Personal\\NextStep\\DSCourse\\Scaler\\MLAssignments\\Dataset\\booking.csv\")"
   ]
  },
  {
   "cell_type": "code",
   "execution_count": 17,
   "id": "fef5ce5a",
   "metadata": {},
   "outputs": [],
   "source": [
    "from xgboost import XGBClassifier\n",
    "import time\n",
    "import os\n",
    "from sklearn.ensemble import GradientBoostingClassifier as gbc\n",
    "import pickle"
   ]
  },
  {
   "cell_type": "code",
   "execution_count": 7,
   "id": "2b943ab9",
   "metadata": {},
   "outputs": [],
   "source": [
    "X = data.drop('booking_status', axis=1)\n",
    "y = data['booking_status']\n",
    "xtrain, xtest, ytrain, ytest = train_test_split(X, y, test_size=0.2, random_state=10)"
   ]
  },
  {
   "cell_type": "code",
   "execution_count": 18,
   "id": "83e5b4df",
   "metadata": {},
   "outputs": [
    {
     "name": "stdout",
     "output_type": "stream",
     "text": [
      "XGBoost Time consumption 0.8057222366333008\n",
      "XGBoost File size 376128\n"
     ]
    }
   ],
   "source": [
    "#Assignment 1\n",
    "xgb_model = XGBClassifier(random_state=10)\n",
    "start_time = time.time()\n",
    "xgb_model.fit(xtrain, ytrain)\n",
    "end_time = time.time()\n",
    "with open('xgb_model.pkl', 'wb') as file:\n",
    "    pickle.dump(xgb_model, file)\n",
    "print(\"XGBoost Time consumption\", end_time-start_time)\n",
    "print(\"XGBoost File size\", os.path.getsize('xgb_model.pkl'))"
   ]
  },
  {
   "cell_type": "code",
   "execution_count": 19,
   "id": "dcb0d69c",
   "metadata": {},
   "outputs": [
    {
     "name": "stdout",
     "output_type": "stream",
     "text": [
      "GBC Time consumption 9.551592350006104\n",
      "GBC File size 376128\n"
     ]
    }
   ],
   "source": [
    "gbc_model = gbc(random_state=10)\n",
    "start_time = time.time()\n",
    "gbc_model.fit(xtrain, ytrain)\n",
    "end_time = time.time()\n",
    "with open('gbc_model.pkl', 'wb') as file:\n",
    "    pickle.dump(gbc_model, file)\n",
    "print(\"GBC Time consumption\", end_time-start_time)\n",
    "print(\"GBC File size\", os.path.getsize('gbc_model.pkl'))"
   ]
  },
  {
   "cell_type": "code",
   "execution_count": 22,
   "id": "d8ce30c4",
   "metadata": {},
   "outputs": [
    {
     "name": "stdout",
     "output_type": "stream",
     "text": [
      "XGB Acc:  0.8273159144893112\n",
      "GBC Acc:  0.8042755344418052\n"
     ]
    }
   ],
   "source": [
    "#Assignment 2\n",
    "print(\"XGB Acc: \", xgb_model.score(xtest, ytest))\n",
    "print(\"GBC Acc: \", gbc_model.score(xtest, ytest))"
   ]
  },
  {
   "cell_type": "code",
   "execution_count": 28,
   "id": "a3cbae28",
   "metadata": {},
   "outputs": [],
   "source": [
    "gbc_features = [(gbc_model.feature_names_in_[i], gbc_model.feature_importances_[i]) for i in range(len(gbc_model.feature_importances_))]\n",
    "sorted(gbc_features, key = lambda x: x[1])"
   ]
  },
  {
   "cell_type": "code",
   "execution_count": 30,
   "id": "f4d48f1b",
   "metadata": {},
   "outputs": [
    {
     "data": {
      "text/plain": [
       "[('no_of_previous_bookings_not_canceled', 1.0331214751220148e-05),\n",
       " ('no_of_previous_cancellations', 5.290899563813171e-05),\n",
       " ('no_of_children', 0.0003848561136923662),\n",
       " ('id', 0.0005701444270606571),\n",
       " ('arrival_date', 0.0006493237074643585),\n",
       " ('no_of_weekend_nights', 0.0011822252249355887),\n",
       " ('room_type_reserved', 0.0018146746236876404),\n",
       " ('no_of_adults', 0.0019509012474197788),\n",
       " ('type_of_meal_plan', 0.0025651940465994346),\n",
       " ('no_of_week_nights', 0.004055154278078885),\n",
       " ('repeated_guest', 0.006252176106190334),\n",
       " ('arrival_year', 0.007171612561184514),\n",
       " ('required_car_parking_space', 0.00854625691327683),\n",
       " ('arrival_month', 0.02773613782237796),\n",
       " ('avg_price_per_room', 0.11954928199994695),\n",
       " ('market_segment_type', 0.1680880447738525),\n",
       " ('no_of_special_requests', 0.2272533938069448),\n",
       " ('lead_time', 0.42216738213689814)]"
      ]
     },
     "execution_count": 30,
     "metadata": {},
     "output_type": "execute_result"
    }
   ],
   "source": []
  },
  {
   "cell_type": "code",
   "execution_count": 31,
   "id": "b5ede817",
   "metadata": {},
   "outputs": [
    {
     "data": {
      "text/plain": [
       "[('no_of_previous_cancellations', 0.0),\n",
       " ('no_of_previous_bookings_not_canceled', 0.011802133),\n",
       " ('id', 0.012314905),\n",
       " ('arrival_date', 0.013005583),\n",
       " ('no_of_children', 0.013874813),\n",
       " ('no_of_week_nights', 0.016046977),\n",
       " ('no_of_weekend_nights', 0.016250154),\n",
       " ('type_of_meal_plan', 0.020530298),\n",
       " ('no_of_adults', 0.021098169),\n",
       " ('room_type_reserved', 0.021942375),\n",
       " ('arrival_month', 0.030873958),\n",
       " ('avg_price_per_room', 0.039890803),\n",
       " ('arrival_year', 0.04457436),\n",
       " ('lead_time', 0.08333495),\n",
       " ('repeated_guest', 0.10644807),\n",
       " ('required_car_parking_space', 0.12732057),\n",
       " ('no_of_special_requests', 0.20319018),\n",
       " ('market_segment_type', 0.21750169)]"
      ]
     },
     "execution_count": 31,
     "metadata": {},
     "output_type": "execute_result"
    }
   ],
   "source": [
    "xgb_features = [(xgb_model.feature_names_in_[i], xgb_model.feature_importances_[i]) for i in range(len(gbc_model.feature_importances_))]\n",
    "sorted(xgb_features, key = lambda x: x[1])"
   ]
  },
  {
   "cell_type": "code",
   "execution_count": 33,
   "id": "f0ad7567",
   "metadata": {},
   "outputs": [],
   "source": [
    "# Assignment 3\n",
    "import lightgbm as lgb"
   ]
  },
  {
   "cell_type": "code",
   "execution_count": 35,
   "id": "bcf22a75",
   "metadata": {},
   "outputs": [
    {
     "name": "stdout",
     "output_type": "stream",
     "text": [
      "[LightGBM] [Info] Number of positive: 13209, number of negative: 20471\n",
      "[LightGBM] [Info] Auto-choosing row-wise multi-threading, the overhead of testing was 0.005023 seconds.\n",
      "You can set `force_row_wise=true` to remove the overhead.\n",
      "And if memory is not enough, you can set `force_col_wise=true`.\n",
      "[LightGBM] [Info] Total Bins 913\n",
      "[LightGBM] [Info] Number of data points in the train set: 33680, number of used features: 18\n",
      "[LightGBM] [Info] [binary:BoostFromScore]: pavg=0.392191 -> initscore=-0.438111\n",
      "[LightGBM] [Info] Start training from score -0.438111\n",
      "LGBM time consumption:  0.7366628646850586\n",
      "LGBM Acc:  0.8184085510688837\n"
     ]
    }
   ],
   "source": [
    "lgb_model = lgb.LGBMClassifier(random_state=10)\n",
    "start_time = time.time()\n",
    "lgb_model.fit(xtrain, ytrain)\n",
    "end_time = time.time()\n",
    "print(\"LGBM time consumption: \", end_time - start_time)\n",
    "print(\"LGBM Acc: \", lgb_model.score(xtest, ytest))"
   ]
  },
  {
   "cell_type": "markdown",
   "id": "40c88c4e",
   "metadata": {},
   "source": [
    "# Naive Bayes -1"
   ]
  },
  {
   "cell_type": "code",
   "execution_count": 36,
   "id": "0ea2722c",
   "metadata": {},
   "outputs": [
    {
     "data": {
      "text/html": [
       "<div>\n",
       "<style scoped>\n",
       "    .dataframe tbody tr th:only-of-type {\n",
       "        vertical-align: middle;\n",
       "    }\n",
       "\n",
       "    .dataframe tbody tr th {\n",
       "        vertical-align: top;\n",
       "    }\n",
       "\n",
       "    .dataframe thead th {\n",
       "        text-align: right;\n",
       "    }\n",
       "</style>\n",
       "<table border=\"1\" class=\"dataframe\">\n",
       "  <thead>\n",
       "    <tr style=\"text-align: right;\">\n",
       "      <th></th>\n",
       "      <th>id</th>\n",
       "      <th>surgery</th>\n",
       "      <th>age</th>\n",
       "      <th>hospital_number</th>\n",
       "      <th>rectal_temp</th>\n",
       "      <th>pulse</th>\n",
       "      <th>respiratory_rate</th>\n",
       "      <th>temp_of_extremities</th>\n",
       "      <th>peripheral_pulse</th>\n",
       "      <th>mucous_membrane</th>\n",
       "      <th>...</th>\n",
       "      <th>packed_cell_volume</th>\n",
       "      <th>total_protein</th>\n",
       "      <th>abdomo_appearance</th>\n",
       "      <th>abdomo_protein</th>\n",
       "      <th>surgical_lesion</th>\n",
       "      <th>lesion_1</th>\n",
       "      <th>lesion_2</th>\n",
       "      <th>lesion_3</th>\n",
       "      <th>cp_data</th>\n",
       "      <th>outcome</th>\n",
       "    </tr>\n",
       "  </thead>\n",
       "  <tbody>\n",
       "    <tr>\n",
       "      <th>0</th>\n",
       "      <td>0</td>\n",
       "      <td>yes</td>\n",
       "      <td>adult</td>\n",
       "      <td>530001</td>\n",
       "      <td>38.1</td>\n",
       "      <td>132.0</td>\n",
       "      <td>24.0</td>\n",
       "      <td>cool</td>\n",
       "      <td>reduced</td>\n",
       "      <td>dark_cyanotic</td>\n",
       "      <td>...</td>\n",
       "      <td>57.0</td>\n",
       "      <td>8.5</td>\n",
       "      <td>serosanguious</td>\n",
       "      <td>3.4</td>\n",
       "      <td>yes</td>\n",
       "      <td>2209</td>\n",
       "      <td>0</td>\n",
       "      <td>0</td>\n",
       "      <td>no</td>\n",
       "      <td>died</td>\n",
       "    </tr>\n",
       "    <tr>\n",
       "      <th>1</th>\n",
       "      <td>1</td>\n",
       "      <td>yes</td>\n",
       "      <td>adult</td>\n",
       "      <td>533836</td>\n",
       "      <td>37.5</td>\n",
       "      <td>88.0</td>\n",
       "      <td>12.0</td>\n",
       "      <td>cool</td>\n",
       "      <td>normal</td>\n",
       "      <td>pale_cyanotic</td>\n",
       "      <td>...</td>\n",
       "      <td>33.0</td>\n",
       "      <td>64.0</td>\n",
       "      <td>serosanguious</td>\n",
       "      <td>2.0</td>\n",
       "      <td>yes</td>\n",
       "      <td>2208</td>\n",
       "      <td>0</td>\n",
       "      <td>0</td>\n",
       "      <td>no</td>\n",
       "      <td>euthanized</td>\n",
       "    </tr>\n",
       "    <tr>\n",
       "      <th>2</th>\n",
       "      <td>2</td>\n",
       "      <td>yes</td>\n",
       "      <td>adult</td>\n",
       "      <td>529812</td>\n",
       "      <td>38.3</td>\n",
       "      <td>120.0</td>\n",
       "      <td>28.0</td>\n",
       "      <td>cool</td>\n",
       "      <td>reduced</td>\n",
       "      <td>pale_pink</td>\n",
       "      <td>...</td>\n",
       "      <td>37.0</td>\n",
       "      <td>6.4</td>\n",
       "      <td>serosanguious</td>\n",
       "      <td>3.4</td>\n",
       "      <td>yes</td>\n",
       "      <td>5124</td>\n",
       "      <td>0</td>\n",
       "      <td>0</td>\n",
       "      <td>no</td>\n",
       "      <td>lived</td>\n",
       "    </tr>\n",
       "    <tr>\n",
       "      <th>3</th>\n",
       "      <td>3</td>\n",
       "      <td>yes</td>\n",
       "      <td>adult</td>\n",
       "      <td>5262541</td>\n",
       "      <td>37.1</td>\n",
       "      <td>72.0</td>\n",
       "      <td>30.0</td>\n",
       "      <td>cold</td>\n",
       "      <td>reduced</td>\n",
       "      <td>pale_pink</td>\n",
       "      <td>...</td>\n",
       "      <td>53.0</td>\n",
       "      <td>7.0</td>\n",
       "      <td>cloudy</td>\n",
       "      <td>3.9</td>\n",
       "      <td>yes</td>\n",
       "      <td>2208</td>\n",
       "      <td>0</td>\n",
       "      <td>0</td>\n",
       "      <td>yes</td>\n",
       "      <td>lived</td>\n",
       "    </tr>\n",
       "    <tr>\n",
       "      <th>4</th>\n",
       "      <td>4</td>\n",
       "      <td>no</td>\n",
       "      <td>adult</td>\n",
       "      <td>5299629</td>\n",
       "      <td>38.0</td>\n",
       "      <td>52.0</td>\n",
       "      <td>48.0</td>\n",
       "      <td>normal</td>\n",
       "      <td>normal</td>\n",
       "      <td>normal_pink</td>\n",
       "      <td>...</td>\n",
       "      <td>47.0</td>\n",
       "      <td>7.3</td>\n",
       "      <td>cloudy</td>\n",
       "      <td>2.6</td>\n",
       "      <td>no</td>\n",
       "      <td>0</td>\n",
       "      <td>0</td>\n",
       "      <td>0</td>\n",
       "      <td>yes</td>\n",
       "      <td>lived</td>\n",
       "    </tr>\n",
       "  </tbody>\n",
       "</table>\n",
       "<p>5 rows × 29 columns</p>\n",
       "</div>"
      ],
      "text/plain": [
       "   id surgery    age  hospital_number  rectal_temp  pulse  respiratory_rate  \\\n",
       "0   0     yes  adult           530001         38.1  132.0              24.0   \n",
       "1   1     yes  adult           533836         37.5   88.0              12.0   \n",
       "2   2     yes  adult           529812         38.3  120.0              28.0   \n",
       "3   3     yes  adult          5262541         37.1   72.0              30.0   \n",
       "4   4      no  adult          5299629         38.0   52.0              48.0   \n",
       "\n",
       "  temp_of_extremities peripheral_pulse mucous_membrane  ...  \\\n",
       "0                cool          reduced   dark_cyanotic  ...   \n",
       "1                cool           normal   pale_cyanotic  ...   \n",
       "2                cool          reduced       pale_pink  ...   \n",
       "3                cold          reduced       pale_pink  ...   \n",
       "4              normal           normal     normal_pink  ...   \n",
       "\n",
       "  packed_cell_volume total_protein abdomo_appearance abdomo_protein  \\\n",
       "0               57.0           8.5     serosanguious            3.4   \n",
       "1               33.0          64.0     serosanguious            2.0   \n",
       "2               37.0           6.4     serosanguious            3.4   \n",
       "3               53.0           7.0            cloudy            3.9   \n",
       "4               47.0           7.3            cloudy            2.6   \n",
       "\n",
       "  surgical_lesion lesion_1  lesion_2 lesion_3 cp_data     outcome  \n",
       "0             yes     2209         0        0      no        died  \n",
       "1             yes     2208         0        0      no  euthanized  \n",
       "2             yes     5124         0        0      no       lived  \n",
       "3             yes     2208         0        0     yes       lived  \n",
       "4              no        0         0        0     yes       lived  \n",
       "\n",
       "[5 rows x 29 columns]"
      ]
     },
     "execution_count": 36,
     "metadata": {},
     "output_type": "execute_result"
    }
   ],
   "source": [
    "data = pd.read_csv(r\"F:\\Muthu_2023\\Personal\\NextStep\\DSCourse\\Scaler\\MLAssignments\\Dataset\\health_outcome_dataset.csv\")\n",
    "data.head()"
   ]
  },
  {
   "cell_type": "code",
   "execution_count": 37,
   "id": "b3c02801",
   "metadata": {},
   "outputs": [
    {
     "data": {
      "text/plain": [
       "outcome\n",
       "died          90.207317\n",
       "euthanized    86.573705\n",
       "lived         68.918118\n",
       "Name: pulse, dtype: float64"
      ]
     },
     "execution_count": 37,
     "metadata": {},
     "output_type": "execute_result"
    }
   ],
   "source": [
    "# Assignment 1\n",
    "data.groupby(\"outcome\")['pulse'].mean()"
   ]
  },
  {
   "cell_type": "code",
   "execution_count": 38,
   "id": "0d721d47",
   "metadata": {},
   "outputs": [
    {
     "data": {
      "text/plain": [
       "<Axes: xlabel='outcome', ylabel='pulse'>"
      ]
     },
     "execution_count": 38,
     "metadata": {},
     "output_type": "execute_result"
    },
    {
     "data": {
      "image/png": "[encoded data removed]",
      "text/plain": [
       "<Figure size 640x480 with 1 Axes>"
      ]
     },
     "metadata": {},
     "output_type": "display_data"
    }
   ],
   "source": [
    "sns.boxplot(data=data, y = 'pulse', x='outcome')"
   ]
  },
  {
   "cell_type": "code",
   "execution_count": 40,
   "id": "cfb80caf",
   "metadata": {},
   "outputs": [],
   "source": [
    "# Assignment 2\n",
    "data['temp_cat'] = data['rectal_temp'].apply(lambda x: \"Hypo\" if x<37.5 else (\"Normal\" if x <= 38.5 else \"Fever\"))"
   ]
  },
  {
   "cell_type": "code",
   "execution_count": null,
   "id": "567e409b",
   "metadata": {},
   "outputs": [],
   "source": [
    "data.groupby(\"temp_cat\")"
   ]
  },
  {
   "cell_type": "code",
   "execution_count": 41,
   "id": "ec7e554d",
   "metadata": {},
   "outputs": [
    {
     "data": {
      "text/plain": [
       "<Axes: xlabel='temp_cat', ylabel='count'>"
      ]
     },
     "execution_count": 41,
     "metadata": {},
     "output_type": "execute_result"
    },
    {
     "data": {
      "image/png": "[encoded data removed]",
      "text/plain": [
       "<Figure size 640x480 with 1 Axes>"
      ]
     },
     "metadata": {},
     "output_type": "display_data"
    }
   ],
   "source": [
    "sns.countplot(data=data, x=\"temp_cat\", hue='outcome')"
   ]
  },
  {
   "cell_type": "code",
   "execution_count": 43,
   "id": "6fd5cf1d",
   "metadata": {},
   "outputs": [
    {
     "data": {
      "text/plain": [
       "<Axes: xlabel='outcome', ylabel='count'>"
      ]
     },
     "execution_count": 43,
     "metadata": {},
     "output_type": "execute_result"
    },
    {
     "data": {
      "image/png": "[encoded data removed]",
      "text/plain": [
       "<Figure size 640x480 with 1 Axes>"
      ]
     },
     "metadata": {},
     "output_type": "display_data"
    }
   ],
   "source": [
    "sns.countplot(data=data, hue=\"temp_cat\", x='outcome')"
   ]
  },
  {
   "cell_type": "code",
   "execution_count": 44,
   "id": "9bbcd6dd",
   "metadata": {},
   "outputs": [
    {
     "data": {
      "image/png": "[encoded data removed]",
      "text/plain": [
       "<Figure size 640x480 with 1 Axes>"
      ]
     },
     "metadata": {},
     "output_type": "display_data"
    }
   ],
   "source": [
    "#df['temp_category'] = data['rectal_temp'].apply(categorize_temp)\n",
    "\n",
    "# Grouping data by temperature category and outcome for plotting\n",
    "grouped_data = data.groupby(['temp_cat', 'outcome']).size().reset_index(name='Count')\n",
    "\n",
    "# Create a pivot table for easier plotting\n",
    "pivot_table = grouped_data.pivot(index='temp_cat', columns='outcome', values='Count').fillna(0)\n",
    "\n",
    "# Plotting the data\n",
    "pivot_table.plot(kind='bar', stacked=True)\n",
    "plt.title('Health Outcomes by Rectal Temperature Category')\n",
    "plt.xlabel('Temperature Category')\n",
    "plt.ylabel('Count of Outcomes')\n",
    "plt.xticks(rotation=0)\n",
    "plt.legend(title='Health Outcome')\n",
    "plt.tight_layout()  # Adjust layout to not cut off labels\n",
    "\n",
    "plt.show()"
   ]
  },
  {
   "cell_type": "code",
   "execution_count": 45,
   "id": "ce84c6dc",
   "metadata": {},
   "outputs": [
    {
     "data": {
      "text/html": [
       "<div>\n",
       "<style scoped>\n",
       "    .dataframe tbody tr th:only-of-type {\n",
       "        vertical-align: middle;\n",
       "    }\n",
       "\n",
       "    .dataframe tbody tr th {\n",
       "        vertical-align: top;\n",
       "    }\n",
       "\n",
       "    .dataframe thead th {\n",
       "        text-align: right;\n",
       "    }\n",
       "</style>\n",
       "<table border=\"1\" class=\"dataframe\">\n",
       "  <thead>\n",
       "    <tr style=\"text-align: right;\">\n",
       "      <th></th>\n",
       "      <th>temp_cat</th>\n",
       "      <th>outcome</th>\n",
       "      <th>Count</th>\n",
       "    </tr>\n",
       "  </thead>\n",
       "  <tbody>\n",
       "    <tr>\n",
       "      <th>0</th>\n",
       "      <td>Fever</td>\n",
       "      <td>died</td>\n",
       "      <td>115</td>\n",
       "    </tr>\n",
       "    <tr>\n",
       "      <th>1</th>\n",
       "      <td>Fever</td>\n",
       "      <td>euthanized</td>\n",
       "      <td>61</td>\n",
       "    </tr>\n",
       "    <tr>\n",
       "      <th>2</th>\n",
       "      <td>Fever</td>\n",
       "      <td>lived</td>\n",
       "      <td>139</td>\n",
       "    </tr>\n",
       "    <tr>\n",
       "      <th>3</th>\n",
       "      <td>Hypo</td>\n",
       "      <td>died</td>\n",
       "      <td>72</td>\n",
       "    </tr>\n",
       "    <tr>\n",
       "      <th>4</th>\n",
       "      <td>Hypo</td>\n",
       "      <td>euthanized</td>\n",
       "      <td>47</td>\n",
       "    </tr>\n",
       "    <tr>\n",
       "      <th>5</th>\n",
       "      <td>Hypo</td>\n",
       "      <td>lived</td>\n",
       "      <td>53</td>\n",
       "    </tr>\n",
       "    <tr>\n",
       "      <th>6</th>\n",
       "      <td>Normal</td>\n",
       "      <td>died</td>\n",
       "      <td>223</td>\n",
       "    </tr>\n",
       "    <tr>\n",
       "      <th>7</th>\n",
       "      <td>Normal</td>\n",
       "      <td>euthanized</td>\n",
       "      <td>143</td>\n",
       "    </tr>\n",
       "    <tr>\n",
       "      <th>8</th>\n",
       "      <td>Normal</td>\n",
       "      <td>lived</td>\n",
       "      <td>382</td>\n",
       "    </tr>\n",
       "  </tbody>\n",
       "</table>\n",
       "</div>"
      ],
      "text/plain": [
       "  temp_cat     outcome  Count\n",
       "0    Fever        died    115\n",
       "1    Fever  euthanized     61\n",
       "2    Fever       lived    139\n",
       "3     Hypo        died     72\n",
       "4     Hypo  euthanized     47\n",
       "5     Hypo       lived     53\n",
       "6   Normal        died    223\n",
       "7   Normal  euthanized    143\n",
       "8   Normal       lived    382"
      ]
     },
     "execution_count": 45,
     "metadata": {},
     "output_type": "execute_result"
    }
   ],
   "source": [
    "grouped_data"
   ]
  },
  {
   "cell_type": "code",
   "execution_count": 46,
   "id": "b6c90d29",
   "metadata": {},
   "outputs": [
    {
     "data": {
      "text/html": [
       "<div>\n",
       "<style scoped>\n",
       "    .dataframe tbody tr th:only-of-type {\n",
       "        vertical-align: middle;\n",
       "    }\n",
       "\n",
       "    .dataframe tbody tr th {\n",
       "        vertical-align: top;\n",
       "    }\n",
       "\n",
       "    .dataframe thead th {\n",
       "        text-align: right;\n",
       "    }\n",
       "</style>\n",
       "<table border=\"1\" class=\"dataframe\">\n",
       "  <thead>\n",
       "    <tr style=\"text-align: right;\">\n",
       "      <th>outcome</th>\n",
       "      <th>died</th>\n",
       "      <th>euthanized</th>\n",
       "      <th>lived</th>\n",
       "    </tr>\n",
       "    <tr>\n",
       "      <th>temp_cat</th>\n",
       "      <th></th>\n",
       "      <th></th>\n",
       "      <th></th>\n",
       "    </tr>\n",
       "  </thead>\n",
       "  <tbody>\n",
       "    <tr>\n",
       "      <th>Fever</th>\n",
       "      <td>115</td>\n",
       "      <td>61</td>\n",
       "      <td>139</td>\n",
       "    </tr>\n",
       "    <tr>\n",
       "      <th>Hypo</th>\n",
       "      <td>72</td>\n",
       "      <td>47</td>\n",
       "      <td>53</td>\n",
       "    </tr>\n",
       "    <tr>\n",
       "      <th>Normal</th>\n",
       "      <td>223</td>\n",
       "      <td>143</td>\n",
       "      <td>382</td>\n",
       "    </tr>\n",
       "  </tbody>\n",
       "</table>\n",
       "</div>"
      ],
      "text/plain": [
       "outcome   died  euthanized  lived\n",
       "temp_cat                         \n",
       "Fever      115          61    139\n",
       "Hypo        72          47     53\n",
       "Normal     223         143    382"
      ]
     },
     "execution_count": 46,
     "metadata": {},
     "output_type": "execute_result"
    }
   ],
   "source": [
    "pivot_table"
   ]
  },
  {
   "cell_type": "code",
   "execution_count": 52,
   "id": "86a1e71e",
   "metadata": {},
   "outputs": [],
   "source": [
    "# Assignment 5\n",
    "from scipy.stats import chi2_contingency\n",
    "def chi_test(sample1, sample2, feature, alpha=0.05):\n",
    "    ct = pd.crosstab(sample1, sample2)\n",
    "    tstat, pval, dof, exp = chi2_contingency(ct)\n",
    "    if pval < alpha:\n",
    "        print(f\"{feature} and outcome are significantly not independent\")\n",
    "    else:\n",
    "        print(bold_start + f\"{feature} and outcome are significantly independent\" + bold_end)"
   ]
  },
  {
   "cell_type": "code",
   "execution_count": 53,
   "id": "08366ae6",
   "metadata": {},
   "outputs": [
    {
     "name": "stdout",
     "output_type": "stream",
     "text": [
      "surgery and outcome are significantly not independent\n",
      "age and outcome are significantly not independent\n",
      "temp_of_extremities and outcome are significantly not independent\n",
      "peripheral_pulse and outcome are significantly not independent\n",
      "mucous_membrane and outcome are significantly not independent\n",
      "capillary_refill_time and outcome are significantly not independent\n",
      "pain and outcome are significantly not independent\n",
      "peristalsis and outcome are significantly not independent\n",
      "abdominal_distention and outcome are significantly not independent\n",
      "nasogastric_tube and outcome are significantly not independent\n",
      "nasogastric_reflux and outcome are significantly not independent\n",
      "rectal_exam_feces and outcome are significantly not independent\n",
      "abdomen and outcome are significantly not independent\n",
      "abdomo_appearance and outcome are significantly not independent\n",
      "surgical_lesion and outcome are significantly not independent\n",
      "cp_data and outcome are significantly not independent\n",
      "temp_cat and outcome are significantly not independent\n"
     ]
    }
   ],
   "source": [
    "cat_features = list(data.drop(\"outcome\", axis=1).describe(include='object').columns)\n",
    "for feature in cat_features:\n",
    "    chi_test(data[feature], data['outcome'], feature, alpha=0.05)"
   ]
  },
  {
   "cell_type": "code",
   "execution_count": null,
   "id": "025714d1",
   "metadata": {},
   "outputs": [],
   "source": [
    "# Assignment 6\n",
    "data.drop(\"id\", axis=1)"
   ]
  },
  {
   "cell_type": "code",
   "execution_count": 56,
   "id": "f64ddf02",
   "metadata": {},
   "outputs": [],
   "source": [
    "num_features = list(data.drop([\"outcome\", \"id\"], axis=1).describe().columns)"
   ]
  },
  {
   "cell_type": "code",
   "execution_count": 57,
   "id": "ea92c11d",
   "metadata": {},
   "outputs": [
    {
     "data": {
      "text/plain": [
       "['hospital_number',\n",
       " 'rectal_temp',\n",
       " 'pulse',\n",
       " 'respiratory_rate',\n",
       " 'nasogastric_reflux_ph',\n",
       " 'packed_cell_volume',\n",
       " 'total_protein',\n",
       " 'abdomo_protein',\n",
       " 'lesion_1',\n",
       " 'lesion_2',\n",
       " 'lesion_3']"
      ]
     },
     "execution_count": 57,
     "metadata": {},
     "output_type": "execute_result"
    }
   ],
   "source": [
    "num_features"
   ]
  },
  {
   "cell_type": "code",
   "execution_count": 64,
   "id": "008401ba",
   "metadata": {},
   "outputs": [],
   "source": [
    "\n",
    "enc = OrdinalEncoder()"
   ]
  },
  {
   "cell_type": "code",
   "execution_count": 62,
   "id": "aa94144f",
   "metadata": {},
   "outputs": [],
   "source": [
    "data[cat_features] = enc.fit_transform(data[cat_features])"
   ]
  },
  {
   "cell_type": "code",
   "execution_count": 63,
   "id": "2eaf0d36",
   "metadata": {},
   "outputs": [
    {
     "data": {
      "text/plain": [
       "surgery                  2\n",
       "age                      2\n",
       "temp_of_extremities      5\n",
       "peripheral_pulse         5\n",
       "mucous_membrane          7\n",
       "capillary_refill_time    4\n",
       "pain                     7\n",
       "peristalsis              6\n",
       "abdominal_distention     5\n",
       "nasogastric_tube         4\n",
       "nasogastric_reflux       5\n",
       "rectal_exam_feces        6\n",
       "abdomen                  6\n",
       "abdomo_appearance        4\n",
       "surgical_lesion          2\n",
       "cp_data                  2\n",
       "temp_cat                 3\n",
       "dtype: int64"
      ]
     },
     "execution_count": 63,
     "metadata": {},
     "output_type": "execute_result"
    }
   ],
   "source": [
    "data[cat_features].nunique()"
   ]
  },
  {
   "cell_type": "code",
   "execution_count": 66,
   "id": "f1e6c265",
   "metadata": {},
   "outputs": [],
   "source": [
    "# Assignment 7\n",
    "scaler = StandardScaler()\n",
    "data[num_features] = scaler.fit_transform(data[num_features])"
   ]
  },
  {
   "cell_type": "code",
   "execution_count": 68,
   "id": "6d7a4aa5",
   "metadata": {},
   "outputs": [],
   "source": [
    "X = data.drop(\"outcome\", axis=1)\n",
    "y = data[\"outcome\"]\n",
    "xtrain, xtest, ytrain, ytest = train_test_split(X, y, test_size=0.2, random_state=0)"
   ]
  },
  {
   "cell_type": "code",
   "execution_count": 71,
   "id": "017497ed",
   "metadata": {},
   "outputs": [],
   "source": [
    "from sklearn.naive_bayes import BernoulliNB"
   ]
  },
  {
   "cell_type": "code",
   "execution_count": 72,
   "id": "85d43ea9",
   "metadata": {},
   "outputs": [
    {
     "data": {
      "text/html": [
       "<style>#sk-container-id-2 {color: black;background-color: white;}#sk-container-id-2 pre{padding: 0;}#sk-container-id-2 div.sk-toggleable {background-color: white;}#sk-container-id-2 label.sk-toggleable__label {cursor: pointer;display: block;width: 100%;margin-bottom: 0;padding: 0.3em;box-sizing: border-box;text-align: center;}#sk-container-id-2 label.sk-toggleable__label-arrow:before {content: \"▸\";float: left;margin-right: 0.25em;color: #696969;}#sk-container-id-2 label.sk-toggleable__label-arrow:hover:before {color: black;}#sk-container-id-2 div.sk-estimator:hover label.sk-toggleable__label-arrow:before {color: black;}#sk-container-id-2 div.sk-toggleable__content {max-height: 0;max-width: 0;overflow: hidden;text-align: left;background-color: #f0f8ff;}#sk-container-id-2 div.sk-toggleable__content pre {margin: 0.2em;color: black;border-radius: 0.25em;background-color: #f0f8ff;}#sk-container-id-2 input.sk-toggleable__control:checked~div.sk-toggleable__content {max-height: 200px;max-width: 100%;overflow: auto;}#sk-container-id-2 input.sk-toggleable__control:checked~label.sk-toggleable__label-arrow:before {content: \"▾\";}#sk-container-id-2 div.sk-estimator input.sk-toggleable__control:checked~label.sk-toggleable__label {background-color: #d4ebff;}#sk-container-id-2 div.sk-label input.sk-toggleable__control:checked~label.sk-toggleable__label {background-color: #d4ebff;}#sk-container-id-2 input.sk-hidden--visually {border: 0;clip: rect(1px 1px 1px 1px);clip: rect(1px, 1px, 1px, 1px);height: 1px;margin: -1px;overflow: hidden;padding: 0;position: absolute;width: 1px;}#sk-container-id-2 div.sk-estimator {font-family: monospace;background-color: #f0f8ff;border: 1px dotted black;border-radius: 0.25em;box-sizing: border-box;margin-bottom: 0.5em;}#sk-container-id-2 div.sk-estimator:hover {background-color: #d4ebff;}#sk-container-id-2 div.sk-parallel-item::after {content: \"\";width: 100%;border-bottom: 1px solid gray;flex-grow: 1;}#sk-container-id-2 div.sk-label:hover label.sk-toggleable__label {background-color: #d4ebff;}#sk-container-id-2 div.sk-serial::before {content: \"\";position: absolute;border-left: 1px solid gray;box-sizing: border-box;top: 0;bottom: 0;left: 50%;z-index: 0;}#sk-container-id-2 div.sk-serial {display: flex;flex-direction: column;align-items: center;background-color: white;padding-right: 0.2em;padding-left: 0.2em;position: relative;}#sk-container-id-2 div.sk-item {position: relative;z-index: 1;}#sk-container-id-2 div.sk-parallel {display: flex;align-items: stretch;justify-content: center;background-color: white;position: relative;}#sk-container-id-2 div.sk-item::before, #sk-container-id-2 div.sk-parallel-item::before {content: \"\";position: absolute;border-left: 1px solid gray;box-sizing: border-box;top: 0;bottom: 0;left: 50%;z-index: -1;}#sk-container-id-2 div.sk-parallel-item {display: flex;flex-direction: column;z-index: 1;position: relative;background-color: white;}#sk-container-id-2 div.sk-parallel-item:first-child::after {align-self: flex-end;width: 50%;}#sk-container-id-2 div.sk-parallel-item:last-child::after {align-self: flex-start;width: 50%;}#sk-container-id-2 div.sk-parallel-item:only-child::after {width: 0;}#sk-container-id-2 div.sk-dashed-wrapped {border: 1px dashed gray;margin: 0 0.4em 0.5em 0.4em;box-sizing: border-box;padding-bottom: 0.4em;background-color: white;}#sk-container-id-2 div.sk-label label {font-family: monospace;font-weight: bold;display: inline-block;line-height: 1.2em;}#sk-container-id-2 div.sk-label-container {text-align: center;}#sk-container-id-2 div.sk-container {/* jupyter's `normalize.less` sets `[hidden] { display: none; }` but bootstrap.min.css set `[hidden] { display: none !important; }` so we also need the `!important` here to be able to override the default hidden behavior on the sphinx rendered scikit-learn.org. See: https://github.com/scikit-learn/scikit-learn/issues/21755 */display: inline-block !important;position: relative;}#sk-container-id-2 div.sk-text-repr-fallback {display: none;}</style><div id=\"sk-container-id-2\" class=\"sk-top-container\"><div class=\"sk-text-repr-fallback\"><pre>BernoulliNB()</pre><b>In a Jupyter environment, please rerun this cell to show the HTML representation or trust the notebook. <br />On GitHub, the HTML representation is unable to render, please try loading this page with nbviewer.org.</b></div><div class=\"sk-container\" hidden><div class=\"sk-item\"><div class=\"sk-estimator sk-toggleable\"><input class=\"sk-toggleable__control sk-hidden--visually\" id=\"sk-estimator-id-2\" type=\"checkbox\" checked><label for=\"sk-estimator-id-2\" class=\"sk-toggleable__label sk-toggleable__label-arrow\">BernoulliNB</label><div class=\"sk-toggleable__content\"><pre>BernoulliNB()</pre></div></div></div></div></div>"
      ],
      "text/plain": [
       "BernoulliNB()"
      ]
     },
     "execution_count": 72,
     "metadata": {},
     "output_type": "execute_result"
    }
   ],
   "source": [
    "model = BernoulliNB()\n",
    "model.fit(xtrain, ytrain)"
   ]
  },
  {
   "cell_type": "code",
   "execution_count": 84,
   "id": "391cc1b0",
   "metadata": {},
   "outputs": [
    {
     "data": {
      "image/png": "[encoded data removed]",
      "text/plain": [
       "<Figure size 640x480 with 2 Axes>"
      ]
     },
     "metadata": {},
     "output_type": "display_data"
    }
   ],
   "source": [
    "cm = confusion_matrix(ytest, model.predict(xtest))\n",
    "disp = ConfusionMatrixDisplay(confusion_matrix=cm, display_labels=['died', 'euth', 'lived'])\n",
    "disp.plot(cmap='Blues')\n",
    "plt.show()"
   ]
  },
  {
   "cell_type": "markdown",
   "id": "1328e87f",
   "metadata": {},
   "source": [
    "# Naive Bayes - 2"
   ]
  },
  {
   "cell_type": "code",
   "execution_count": 36,
   "id": "cc770072",
   "metadata": {},
   "outputs": [
    {
     "data": {
      "text/html": [
       "<div>\n",
       "<style scoped>\n",
       "    .dataframe tbody tr th:only-of-type {\n",
       "        vertical-align: middle;\n",
       "    }\n",
       "\n",
       "    .dataframe tbody tr th {\n",
       "        vertical-align: top;\n",
       "    }\n",
       "\n",
       "    .dataframe thead th {\n",
       "        text-align: right;\n",
       "    }\n",
       "</style>\n",
       "<table border=\"1\" class=\"dataframe\">\n",
       "  <thead>\n",
       "    <tr style=\"text-align: right;\">\n",
       "      <th></th>\n",
       "      <th>id</th>\n",
       "      <th>surgery</th>\n",
       "      <th>age</th>\n",
       "      <th>hospital_number</th>\n",
       "      <th>rectal_temp</th>\n",
       "      <th>pulse</th>\n",
       "      <th>respiratory_rate</th>\n",
       "      <th>temp_of_extremities</th>\n",
       "      <th>peripheral_pulse</th>\n",
       "      <th>mucous_membrane</th>\n",
       "      <th>...</th>\n",
       "      <th>packed_cell_volume</th>\n",
       "      <th>total_protein</th>\n",
       "      <th>abdomo_appearance</th>\n",
       "      <th>abdomo_protein</th>\n",
       "      <th>surgical_lesion</th>\n",
       "      <th>lesion_1</th>\n",
       "      <th>lesion_2</th>\n",
       "      <th>lesion_3</th>\n",
       "      <th>cp_data</th>\n",
       "      <th>outcome</th>\n",
       "    </tr>\n",
       "  </thead>\n",
       "  <tbody>\n",
       "    <tr>\n",
       "      <th>0</th>\n",
       "      <td>0</td>\n",
       "      <td>yes</td>\n",
       "      <td>adult</td>\n",
       "      <td>530001</td>\n",
       "      <td>38.1</td>\n",
       "      <td>132.0</td>\n",
       "      <td>24.0</td>\n",
       "      <td>cool</td>\n",
       "      <td>reduced</td>\n",
       "      <td>dark_cyanotic</td>\n",
       "      <td>...</td>\n",
       "      <td>57.0</td>\n",
       "      <td>8.5</td>\n",
       "      <td>serosanguious</td>\n",
       "      <td>3.4</td>\n",
       "      <td>yes</td>\n",
       "      <td>2209</td>\n",
       "      <td>0</td>\n",
       "      <td>0</td>\n",
       "      <td>no</td>\n",
       "      <td>died</td>\n",
       "    </tr>\n",
       "    <tr>\n",
       "      <th>1</th>\n",
       "      <td>1</td>\n",
       "      <td>yes</td>\n",
       "      <td>adult</td>\n",
       "      <td>533836</td>\n",
       "      <td>37.5</td>\n",
       "      <td>88.0</td>\n",
       "      <td>12.0</td>\n",
       "      <td>cool</td>\n",
       "      <td>normal</td>\n",
       "      <td>pale_cyanotic</td>\n",
       "      <td>...</td>\n",
       "      <td>33.0</td>\n",
       "      <td>64.0</td>\n",
       "      <td>serosanguious</td>\n",
       "      <td>2.0</td>\n",
       "      <td>yes</td>\n",
       "      <td>2208</td>\n",
       "      <td>0</td>\n",
       "      <td>0</td>\n",
       "      <td>no</td>\n",
       "      <td>euthanized</td>\n",
       "    </tr>\n",
       "    <tr>\n",
       "      <th>2</th>\n",
       "      <td>2</td>\n",
       "      <td>yes</td>\n",
       "      <td>adult</td>\n",
       "      <td>529812</td>\n",
       "      <td>38.3</td>\n",
       "      <td>120.0</td>\n",
       "      <td>28.0</td>\n",
       "      <td>cool</td>\n",
       "      <td>reduced</td>\n",
       "      <td>pale_pink</td>\n",
       "      <td>...</td>\n",
       "      <td>37.0</td>\n",
       "      <td>6.4</td>\n",
       "      <td>serosanguious</td>\n",
       "      <td>3.4</td>\n",
       "      <td>yes</td>\n",
       "      <td>5124</td>\n",
       "      <td>0</td>\n",
       "      <td>0</td>\n",
       "      <td>no</td>\n",
       "      <td>lived</td>\n",
       "    </tr>\n",
       "    <tr>\n",
       "      <th>3</th>\n",
       "      <td>3</td>\n",
       "      <td>yes</td>\n",
       "      <td>adult</td>\n",
       "      <td>5262541</td>\n",
       "      <td>37.1</td>\n",
       "      <td>72.0</td>\n",
       "      <td>30.0</td>\n",
       "      <td>cold</td>\n",
       "      <td>reduced</td>\n",
       "      <td>pale_pink</td>\n",
       "      <td>...</td>\n",
       "      <td>53.0</td>\n",
       "      <td>7.0</td>\n",
       "      <td>cloudy</td>\n",
       "      <td>3.9</td>\n",
       "      <td>yes</td>\n",
       "      <td>2208</td>\n",
       "      <td>0</td>\n",
       "      <td>0</td>\n",
       "      <td>yes</td>\n",
       "      <td>lived</td>\n",
       "    </tr>\n",
       "    <tr>\n",
       "      <th>4</th>\n",
       "      <td>4</td>\n",
       "      <td>no</td>\n",
       "      <td>adult</td>\n",
       "      <td>5299629</td>\n",
       "      <td>38.0</td>\n",
       "      <td>52.0</td>\n",
       "      <td>48.0</td>\n",
       "      <td>normal</td>\n",
       "      <td>normal</td>\n",
       "      <td>normal_pink</td>\n",
       "      <td>...</td>\n",
       "      <td>47.0</td>\n",
       "      <td>7.3</td>\n",
       "      <td>cloudy</td>\n",
       "      <td>2.6</td>\n",
       "      <td>no</td>\n",
       "      <td>0</td>\n",
       "      <td>0</td>\n",
       "      <td>0</td>\n",
       "      <td>yes</td>\n",
       "      <td>lived</td>\n",
       "    </tr>\n",
       "  </tbody>\n",
       "</table>\n",
       "<p>5 rows × 29 columns</p>\n",
       "</div>"
      ],
      "text/plain": [
       "   id surgery    age  hospital_number  rectal_temp  pulse  respiratory_rate  \\\n",
       "0   0     yes  adult           530001         38.1  132.0              24.0   \n",
       "1   1     yes  adult           533836         37.5   88.0              12.0   \n",
       "2   2     yes  adult           529812         38.3  120.0              28.0   \n",
       "3   3     yes  adult          5262541         37.1   72.0              30.0   \n",
       "4   4      no  adult          5299629         38.0   52.0              48.0   \n",
       "\n",
       "  temp_of_extremities peripheral_pulse mucous_membrane  ...  \\\n",
       "0                cool          reduced   dark_cyanotic  ...   \n",
       "1                cool           normal   pale_cyanotic  ...   \n",
       "2                cool          reduced       pale_pink  ...   \n",
       "3                cold          reduced       pale_pink  ...   \n",
       "4              normal           normal     normal_pink  ...   \n",
       "\n",
       "  packed_cell_volume total_protein abdomo_appearance abdomo_protein  \\\n",
       "0               57.0           8.5     serosanguious            3.4   \n",
       "1               33.0          64.0     serosanguious            2.0   \n",
       "2               37.0           6.4     serosanguious            3.4   \n",
       "3               53.0           7.0            cloudy            3.9   \n",
       "4               47.0           7.3            cloudy            2.6   \n",
       "\n",
       "  surgical_lesion lesion_1  lesion_2 lesion_3 cp_data     outcome  \n",
       "0             yes     2209         0        0      no        died  \n",
       "1             yes     2208         0        0      no  euthanized  \n",
       "2             yes     5124         0        0      no       lived  \n",
       "3             yes     2208         0        0     yes       lived  \n",
       "4              no        0         0        0     yes       lived  \n",
       "\n",
       "[5 rows x 29 columns]"
      ]
     },
     "execution_count": 36,
     "metadata": {},
     "output_type": "execute_result"
    }
   ],
   "source": [
    "data = pd.read_csv(r\"F:\\Muthu_2023\\Personal\\NextStep\\DSCourse\\Scaler\\MLAssignments\\Dataset\\health_outcome_dataset.csv\")\n",
    "data.head()"
   ]
  },
  {
   "cell_type": "code",
   "execution_count": 4,
   "id": "b3bdcfc7",
   "metadata": {},
   "outputs": [
    {
     "data": {
      "text/plain": [
       "(array([0, 1, 2, 3, 4, 5, 6]),\n",
       " [Text(0, 0, 'dark_cyanotic'),\n",
       "  Text(1, 0, 'pale_cyanotic'),\n",
       "  Text(2, 0, 'pale_pink'),\n",
       "  Text(3, 0, 'normal_pink'),\n",
       "  Text(4, 0, 'bright_pink'),\n",
       "  Text(5, 0, 'bright_red'),\n",
       "  Text(6, 0, 'None')])"
      ]
     },
     "execution_count": 4,
     "metadata": {},
     "output_type": "execute_result"
    },
    {
     "data": {
      "image/png": "[encoded data removed]",
      "text/plain": [
       "<Figure size 1200x600 with 1 Axes>"
      ]
     },
     "metadata": {},
     "output_type": "display_data"
    }
   ],
   "source": [
    "plt.figure(figsize=(12,6))\n",
    "sns.countplot(data=data, x=\"mucous_membrane\", hue='outcome')\n",
    "plt.xticks(rotation=90)"
   ]
  },
  {
   "cell_type": "code",
   "execution_count": 37,
   "id": "03d96c71",
   "metadata": {},
   "outputs": [],
   "source": [
    "data['outcome_enc'] = data['outcome'].map({'died': 0, 'euthanized': 1, 'lived': 2})"
   ]
  },
  {
   "cell_type": "code",
   "execution_count": 7,
   "id": "166e494c",
   "metadata": {},
   "outputs": [],
   "source": [
    "X = data.drop(['outcome', 'outcome_enc'], axis=1)\n",
    "y = data['outcome_enc']\n",
    "xtrain, xtest, ytrain, ytest = train_test_split(X, y, test_size=0.2, random_state=10)"
   ]
  },
  {
   "cell_type": "code",
   "execution_count": 8,
   "id": "e53a5a96",
   "metadata": {},
   "outputs": [],
   "source": [
    "from sklearn.naive_bayes import GaussianNB  # TODO: Import the Gaussian Naive Bayes classifier.\n",
    "from sklearn.metrics import classification_report, confusion_matrix  # TODO: Import necessary functions for evaluation."
   ]
  },
  {
   "cell_type": "code",
   "execution_count": 10,
   "id": "7ab2b2b7",
   "metadata": {},
   "outputs": [
    {
     "data": {
      "text/html": [
       "<div>\n",
       "<style scoped>\n",
       "    .dataframe tbody tr th:only-of-type {\n",
       "        vertical-align: middle;\n",
       "    }\n",
       "\n",
       "    .dataframe tbody tr th {\n",
       "        vertical-align: top;\n",
       "    }\n",
       "\n",
       "    .dataframe thead th {\n",
       "        text-align: right;\n",
       "    }\n",
       "</style>\n",
       "<table border=\"1\" class=\"dataframe\">\n",
       "  <thead>\n",
       "    <tr style=\"text-align: right;\">\n",
       "      <th></th>\n",
       "      <th>id</th>\n",
       "      <th>surgery</th>\n",
       "      <th>age</th>\n",
       "      <th>hospital_number</th>\n",
       "      <th>rectal_temp</th>\n",
       "      <th>pulse</th>\n",
       "      <th>respiratory_rate</th>\n",
       "      <th>temp_of_extremities</th>\n",
       "      <th>peripheral_pulse</th>\n",
       "      <th>mucous_membrane</th>\n",
       "      <th>...</th>\n",
       "      <th>total_protein</th>\n",
       "      <th>abdomo_appearance</th>\n",
       "      <th>abdomo_protein</th>\n",
       "      <th>surgical_lesion</th>\n",
       "      <th>lesion_1</th>\n",
       "      <th>lesion_2</th>\n",
       "      <th>lesion_3</th>\n",
       "      <th>cp_data</th>\n",
       "      <th>outcome</th>\n",
       "      <th>outcome_enc</th>\n",
       "    </tr>\n",
       "  </thead>\n",
       "  <tbody>\n",
       "    <tr>\n",
       "      <th>0</th>\n",
       "      <td>0</td>\n",
       "      <td>yes</td>\n",
       "      <td>adult</td>\n",
       "      <td>530001</td>\n",
       "      <td>38.1</td>\n",
       "      <td>132.0</td>\n",
       "      <td>24.0</td>\n",
       "      <td>cool</td>\n",
       "      <td>reduced</td>\n",
       "      <td>dark_cyanotic</td>\n",
       "      <td>...</td>\n",
       "      <td>8.5</td>\n",
       "      <td>serosanguious</td>\n",
       "      <td>3.4</td>\n",
       "      <td>yes</td>\n",
       "      <td>2209</td>\n",
       "      <td>0</td>\n",
       "      <td>0</td>\n",
       "      <td>no</td>\n",
       "      <td>died</td>\n",
       "      <td>0</td>\n",
       "    </tr>\n",
       "    <tr>\n",
       "      <th>1</th>\n",
       "      <td>1</td>\n",
       "      <td>yes</td>\n",
       "      <td>adult</td>\n",
       "      <td>533836</td>\n",
       "      <td>37.5</td>\n",
       "      <td>88.0</td>\n",
       "      <td>12.0</td>\n",
       "      <td>cool</td>\n",
       "      <td>normal</td>\n",
       "      <td>pale_cyanotic</td>\n",
       "      <td>...</td>\n",
       "      <td>64.0</td>\n",
       "      <td>serosanguious</td>\n",
       "      <td>2.0</td>\n",
       "      <td>yes</td>\n",
       "      <td>2208</td>\n",
       "      <td>0</td>\n",
       "      <td>0</td>\n",
       "      <td>no</td>\n",
       "      <td>euthanized</td>\n",
       "      <td>1</td>\n",
       "    </tr>\n",
       "    <tr>\n",
       "      <th>2</th>\n",
       "      <td>2</td>\n",
       "      <td>yes</td>\n",
       "      <td>adult</td>\n",
       "      <td>529812</td>\n",
       "      <td>38.3</td>\n",
       "      <td>120.0</td>\n",
       "      <td>28.0</td>\n",
       "      <td>cool</td>\n",
       "      <td>reduced</td>\n",
       "      <td>pale_pink</td>\n",
       "      <td>...</td>\n",
       "      <td>6.4</td>\n",
       "      <td>serosanguious</td>\n",
       "      <td>3.4</td>\n",
       "      <td>yes</td>\n",
       "      <td>5124</td>\n",
       "      <td>0</td>\n",
       "      <td>0</td>\n",
       "      <td>no</td>\n",
       "      <td>lived</td>\n",
       "      <td>2</td>\n",
       "    </tr>\n",
       "    <tr>\n",
       "      <th>3</th>\n",
       "      <td>3</td>\n",
       "      <td>yes</td>\n",
       "      <td>adult</td>\n",
       "      <td>5262541</td>\n",
       "      <td>37.1</td>\n",
       "      <td>72.0</td>\n",
       "      <td>30.0</td>\n",
       "      <td>cold</td>\n",
       "      <td>reduced</td>\n",
       "      <td>pale_pink</td>\n",
       "      <td>...</td>\n",
       "      <td>7.0</td>\n",
       "      <td>cloudy</td>\n",
       "      <td>3.9</td>\n",
       "      <td>yes</td>\n",
       "      <td>2208</td>\n",
       "      <td>0</td>\n",
       "      <td>0</td>\n",
       "      <td>yes</td>\n",
       "      <td>lived</td>\n",
       "      <td>2</td>\n",
       "    </tr>\n",
       "    <tr>\n",
       "      <th>4</th>\n",
       "      <td>4</td>\n",
       "      <td>no</td>\n",
       "      <td>adult</td>\n",
       "      <td>5299629</td>\n",
       "      <td>38.0</td>\n",
       "      <td>52.0</td>\n",
       "      <td>48.0</td>\n",
       "      <td>normal</td>\n",
       "      <td>normal</td>\n",
       "      <td>normal_pink</td>\n",
       "      <td>...</td>\n",
       "      <td>7.3</td>\n",
       "      <td>cloudy</td>\n",
       "      <td>2.6</td>\n",
       "      <td>no</td>\n",
       "      <td>0</td>\n",
       "      <td>0</td>\n",
       "      <td>0</td>\n",
       "      <td>yes</td>\n",
       "      <td>lived</td>\n",
       "      <td>2</td>\n",
       "    </tr>\n",
       "  </tbody>\n",
       "</table>\n",
       "<p>5 rows × 30 columns</p>\n",
       "</div>"
      ],
      "text/plain": [
       "   id surgery    age  hospital_number  rectal_temp  pulse  respiratory_rate  \\\n",
       "0   0     yes  adult           530001         38.1  132.0              24.0   \n",
       "1   1     yes  adult           533836         37.5   88.0              12.0   \n",
       "2   2     yes  adult           529812         38.3  120.0              28.0   \n",
       "3   3     yes  adult          5262541         37.1   72.0              30.0   \n",
       "4   4      no  adult          5299629         38.0   52.0              48.0   \n",
       "\n",
       "  temp_of_extremities peripheral_pulse mucous_membrane  ... total_protein  \\\n",
       "0                cool          reduced   dark_cyanotic  ...           8.5   \n",
       "1                cool           normal   pale_cyanotic  ...          64.0   \n",
       "2                cool          reduced       pale_pink  ...           6.4   \n",
       "3                cold          reduced       pale_pink  ...           7.0   \n",
       "4              normal           normal     normal_pink  ...           7.3   \n",
       "\n",
       "  abdomo_appearance abdomo_protein surgical_lesion lesion_1 lesion_2  \\\n",
       "0     serosanguious            3.4             yes     2209        0   \n",
       "1     serosanguious            2.0             yes     2208        0   \n",
       "2     serosanguious            3.4             yes     5124        0   \n",
       "3            cloudy            3.9             yes     2208        0   \n",
       "4            cloudy            2.6              no        0        0   \n",
       "\n",
       "   lesion_3 cp_data     outcome  outcome_enc  \n",
       "0         0      no        died            0  \n",
       "1         0      no  euthanized            1  \n",
       "2         0      no       lived            2  \n",
       "3         0     yes       lived            2  \n",
       "4         0     yes       lived            2  \n",
       "\n",
       "[5 rows x 30 columns]"
      ]
     },
     "execution_count": 10,
     "metadata": {},
     "output_type": "execute_result"
    }
   ],
   "source": []
  },
  {
   "cell_type": "code",
   "execution_count": 12,
   "id": "9c406447",
   "metadata": {},
   "outputs": [
    {
     "data": {
      "text/plain": [
       "['surgery',\n",
       " 'age',\n",
       " 'temp_of_extremities',\n",
       " 'peripheral_pulse',\n",
       " 'mucous_membrane',\n",
       " 'capillary_refill_time',\n",
       " 'pain',\n",
       " 'peristalsis',\n",
       " 'abdominal_distention',\n",
       " 'nasogastric_tube',\n",
       " 'nasogastric_reflux',\n",
       " 'rectal_exam_feces',\n",
       " 'abdomen',\n",
       " 'abdomo_appearance',\n",
       " 'surgical_lesion',\n",
       " 'cp_data',\n",
       " 'outcome']"
      ]
     },
     "execution_count": 12,
     "metadata": {},
     "output_type": "execute_result"
    }
   ],
   "source": [
    "cat_features = list(data.describe(include='object').columns)\n",
    "cat_features"
   ]
  },
  {
   "cell_type": "code",
   "execution_count": 38,
   "id": "650ef7f4",
   "metadata": {},
   "outputs": [],
   "source": [
    "enc = OrdinalEncoder()\n",
    "data[cat_features] = enc.fit_transform(data[cat_features])\n",
    "X = data.drop([\"id\", \"outcome\", \"outcome_enc\"], axis=1)\n",
    "y = data['outcome_enc']\n",
    "xtrain, xtest, ytrain, ytest = train_test_split(X, y, test_size=0.2, random_state=0)"
   ]
  },
  {
   "cell_type": "code",
   "execution_count": 39,
   "id": "33435072",
   "metadata": {},
   "outputs": [
    {
     "data": {
      "text/html": [
       "<style>#sk-container-id-5 {color: black;background-color: white;}#sk-container-id-5 pre{padding: 0;}#sk-container-id-5 div.sk-toggleable {background-color: white;}#sk-container-id-5 label.sk-toggleable__label {cursor: pointer;display: block;width: 100%;margin-bottom: 0;padding: 0.3em;box-sizing: border-box;text-align: center;}#sk-container-id-5 label.sk-toggleable__label-arrow:before {content: \"▸\";float: left;margin-right: 0.25em;color: #696969;}#sk-container-id-5 label.sk-toggleable__label-arrow:hover:before {color: black;}#sk-container-id-5 div.sk-estimator:hover label.sk-toggleable__label-arrow:before {color: black;}#sk-container-id-5 div.sk-toggleable__content {max-height: 0;max-width: 0;overflow: hidden;text-align: left;background-color: #f0f8ff;}#sk-container-id-5 div.sk-toggleable__content pre {margin: 0.2em;color: black;border-radius: 0.25em;background-color: #f0f8ff;}#sk-container-id-5 input.sk-toggleable__control:checked~div.sk-toggleable__content {max-height: 200px;max-width: 100%;overflow: auto;}#sk-container-id-5 input.sk-toggleable__control:checked~label.sk-toggleable__label-arrow:before {content: \"▾\";}#sk-container-id-5 div.sk-estimator input.sk-toggleable__control:checked~label.sk-toggleable__label {background-color: #d4ebff;}#sk-container-id-5 div.sk-label input.sk-toggleable__control:checked~label.sk-toggleable__label {background-color: #d4ebff;}#sk-container-id-5 input.sk-hidden--visually {border: 0;clip: rect(1px 1px 1px 1px);clip: rect(1px, 1px, 1px, 1px);height: 1px;margin: -1px;overflow: hidden;padding: 0;position: absolute;width: 1px;}#sk-container-id-5 div.sk-estimator {font-family: monospace;background-color: #f0f8ff;border: 1px dotted black;border-radius: 0.25em;box-sizing: border-box;margin-bottom: 0.5em;}#sk-container-id-5 div.sk-estimator:hover {background-color: #d4ebff;}#sk-container-id-5 div.sk-parallel-item::after {content: \"\";width: 100%;border-bottom: 1px solid gray;flex-grow: 1;}#sk-container-id-5 div.sk-label:hover label.sk-toggleable__label {background-color: #d4ebff;}#sk-container-id-5 div.sk-serial::before {content: \"\";position: absolute;border-left: 1px solid gray;box-sizing: border-box;top: 0;bottom: 0;left: 50%;z-index: 0;}#sk-container-id-5 div.sk-serial {display: flex;flex-direction: column;align-items: center;background-color: white;padding-right: 0.2em;padding-left: 0.2em;position: relative;}#sk-container-id-5 div.sk-item {position: relative;z-index: 1;}#sk-container-id-5 div.sk-parallel {display: flex;align-items: stretch;justify-content: center;background-color: white;position: relative;}#sk-container-id-5 div.sk-item::before, #sk-container-id-5 div.sk-parallel-item::before {content: \"\";position: absolute;border-left: 1px solid gray;box-sizing: border-box;top: 0;bottom: 0;left: 50%;z-index: -1;}#sk-container-id-5 div.sk-parallel-item {display: flex;flex-direction: column;z-index: 1;position: relative;background-color: white;}#sk-container-id-5 div.sk-parallel-item:first-child::after {align-self: flex-end;width: 50%;}#sk-container-id-5 div.sk-parallel-item:last-child::after {align-self: flex-start;width: 50%;}#sk-container-id-5 div.sk-parallel-item:only-child::after {width: 0;}#sk-container-id-5 div.sk-dashed-wrapped {border: 1px dashed gray;margin: 0 0.4em 0.5em 0.4em;box-sizing: border-box;padding-bottom: 0.4em;background-color: white;}#sk-container-id-5 div.sk-label label {font-family: monospace;font-weight: bold;display: inline-block;line-height: 1.2em;}#sk-container-id-5 div.sk-label-container {text-align: center;}#sk-container-id-5 div.sk-container {/* jupyter's `normalize.less` sets `[hidden] { display: none; }` but bootstrap.min.css set `[hidden] { display: none !important; }` so we also need the `!important` here to be able to override the default hidden behavior on the sphinx rendered scikit-learn.org. See: https://github.com/scikit-learn/scikit-learn/issues/21755 */display: inline-block !important;position: relative;}#sk-container-id-5 div.sk-text-repr-fallback {display: none;}</style><div id=\"sk-container-id-5\" class=\"sk-top-container\"><div class=\"sk-text-repr-fallback\"><pre>GaussianNB()</pre><b>In a Jupyter environment, please rerun this cell to show the HTML representation or trust the notebook. <br />On GitHub, the HTML representation is unable to render, please try loading this page with nbviewer.org.</b></div><div class=\"sk-container\" hidden><div class=\"sk-item\"><div class=\"sk-estimator sk-toggleable\"><input class=\"sk-toggleable__control sk-hidden--visually\" id=\"sk-estimator-id-5\" type=\"checkbox\" checked><label for=\"sk-estimator-id-5\" class=\"sk-toggleable__label sk-toggleable__label-arrow\">GaussianNB</label><div class=\"sk-toggleable__content\"><pre>GaussianNB()</pre></div></div></div></div></div>"
      ],
      "text/plain": [
       "GaussianNB()"
      ]
     },
     "execution_count": 39,
     "metadata": {},
     "output_type": "execute_result"
    }
   ],
   "source": [
    "gnb = GaussianNB()\n",
    "gnb.fit(xtrain, ytrain)\n",
    "report = classification_report(ytest, gnb.predict(xtest), target_names=['Died', 'Euthanized', 'Lived']) \n",
    "print(report)"
   ]
  },
  {
   "cell_type": "code",
   "execution_count": 64,
   "id": "5d3500aa",
   "metadata": {},
   "outputs": [],
   "source": [
    "xtrain = np.load('xtrain.npy')\n",
    "xtest = np.load('xtest.npy')\n",
    "ytrain = np.load('ytrain.npy', allow_pickle=True)\n",
    "ytest = np.load('ytest.npy', allow_pickle=True)\n",
    "ytrain=pd.DataFrame(ytrain)\n",
    "ytest=pd.DataFrame(ytest)"
   ]
  },
  {
   "cell_type": "code",
   "execution_count": 75,
   "id": "5f498693",
   "metadata": {},
   "outputs": [
    {
     "name": "stdout",
     "output_type": "stream",
     "text": [
      "              precision    recall  f1-score   support\n",
      "\n",
      "        Died       0.49      0.98      0.65        89\n",
      "  Euthanized       0.56      0.57      0.56        42\n",
      "       Lived       0.88      0.20      0.32       116\n",
      "\n",
      "    accuracy                           0.54       247\n",
      "   macro avg       0.64      0.58      0.51       247\n",
      "weighted avg       0.69      0.54      0.48       247\n",
      "\n"
     ]
    }
   ],
   "source": [
    "outcome_map = {'died': 0, 'euthanized': 1, 'lived': 2}\n",
    "y_train_encoded = ytrain[0].map(outcome_map)  # TODO: Apply the mapping to the 'y_train' series.\n",
    "y_test_encoded = ytest[0].map(outcome_map)  # TODO: Apply the mapping to the 'y_test' series.\n",
    "\n",
    "# Initialize and train Gaussian Naive Bayes classifier\n",
    "model = GaussianNB()\n",
    "model.fit(xtrain, y_train_encoded)  # TODO: Fit the model using the training data.\n",
    "\n",
    "# Predict on the test set\n",
    "y_pred = model.predict(xtest)  # TODO: Make predictions using the test data.\n",
    "\n",
    "# Generate the classification report\n",
    "report = classification_report(y_test_encoded, y_pred, target_names=['Died', 'Euthanized', 'Lived'])  # TODO: Provide the correct variables to generate the classification report.\n",
    "print(report)"
   ]
  },
  {
   "cell_type": "code",
   "execution_count": 76,
   "id": "7799218b",
   "metadata": {},
   "outputs": [],
   "source": [
    "# Assignment 3\n",
    "from sklearn.model_selection import KFold, cross_validate\n",
    "kf = KFold(n_splits=5)\n",
    "gnb = GaussianNB()\n",
    "cv_res = cross_validate(gnb, xtrain, ytrain[0], cv=kf, scoring='f1_weighted')"
   ]
  },
  {
   "cell_type": "code",
   "execution_count": 78,
   "id": "daac69ef",
   "metadata": {},
   "outputs": [
    {
     "data": {
      "text/plain": [
       "0.49799688592549707"
      ]
     },
     "execution_count": 78,
     "metadata": {},
     "output_type": "execute_result"
    }
   ],
   "source": [
    "cv_res['test_score'].mean()"
   ]
  },
  {
   "cell_type": "code",
   "execution_count": 83,
   "id": "2a90599f",
   "metadata": {},
   "outputs": [],
   "source": [
    "params = {'var_smoothing':[0.0, 0.1, 0.3, 0.5, 0.8, 1]}"
   ]
  },
  {
   "cell_type": "code",
   "execution_count": 84,
   "id": "fabcaf63",
   "metadata": {},
   "outputs": [],
   "source": [
    "model = GaussianNB()\n",
    "grid_res = GridSearchCV(model, param_grid=params, cv=5, scoring='f1_weighted')"
   ]
  },
  {
   "cell_type": "code",
   "execution_count": 85,
   "id": "f1335a4e",
   "metadata": {},
   "outputs": [
    {
     "data": {
      "text/html": [
       "<style>#sk-container-id-6 {color: black;background-color: white;}#sk-container-id-6 pre{padding: 0;}#sk-container-id-6 div.sk-toggleable {background-color: white;}#sk-container-id-6 label.sk-toggleable__label {cursor: pointer;display: block;width: 100%;margin-bottom: 0;padding: 0.3em;box-sizing: border-box;text-align: center;}#sk-container-id-6 label.sk-toggleable__label-arrow:before {content: \"▸\";float: left;margin-right: 0.25em;color: #696969;}#sk-container-id-6 label.sk-toggleable__label-arrow:hover:before {color: black;}#sk-container-id-6 div.sk-estimator:hover label.sk-toggleable__label-arrow:before {color: black;}#sk-container-id-6 div.sk-toggleable__content {max-height: 0;max-width: 0;overflow: hidden;text-align: left;background-color: #f0f8ff;}#sk-container-id-6 div.sk-toggleable__content pre {margin: 0.2em;color: black;border-radius: 0.25em;background-color: #f0f8ff;}#sk-container-id-6 input.sk-toggleable__control:checked~div.sk-toggleable__content {max-height: 200px;max-width: 100%;overflow: auto;}#sk-container-id-6 input.sk-toggleable__control:checked~label.sk-toggleable__label-arrow:before {content: \"▾\";}#sk-container-id-6 div.sk-estimator input.sk-toggleable__control:checked~label.sk-toggleable__label {background-color: #d4ebff;}#sk-container-id-6 div.sk-label input.sk-toggleable__control:checked~label.sk-toggleable__label {background-color: #d4ebff;}#sk-container-id-6 input.sk-hidden--visually {border: 0;clip: rect(1px 1px 1px 1px);clip: rect(1px, 1px, 1px, 1px);height: 1px;margin: -1px;overflow: hidden;padding: 0;position: absolute;width: 1px;}#sk-container-id-6 div.sk-estimator {font-family: monospace;background-color: #f0f8ff;border: 1px dotted black;border-radius: 0.25em;box-sizing: border-box;margin-bottom: 0.5em;}#sk-container-id-6 div.sk-estimator:hover {background-color: #d4ebff;}#sk-container-id-6 div.sk-parallel-item::after {content: \"\";width: 100%;border-bottom: 1px solid gray;flex-grow: 1;}#sk-container-id-6 div.sk-label:hover label.sk-toggleable__label {background-color: #d4ebff;}#sk-container-id-6 div.sk-serial::before {content: \"\";position: absolute;border-left: 1px solid gray;box-sizing: border-box;top: 0;bottom: 0;left: 50%;z-index: 0;}#sk-container-id-6 div.sk-serial {display: flex;flex-direction: column;align-items: center;background-color: white;padding-right: 0.2em;padding-left: 0.2em;position: relative;}#sk-container-id-6 div.sk-item {position: relative;z-index: 1;}#sk-container-id-6 div.sk-parallel {display: flex;align-items: stretch;justify-content: center;background-color: white;position: relative;}#sk-container-id-6 div.sk-item::before, #sk-container-id-6 div.sk-parallel-item::before {content: \"\";position: absolute;border-left: 1px solid gray;box-sizing: border-box;top: 0;bottom: 0;left: 50%;z-index: -1;}#sk-container-id-6 div.sk-parallel-item {display: flex;flex-direction: column;z-index: 1;position: relative;background-color: white;}#sk-container-id-6 div.sk-parallel-item:first-child::after {align-self: flex-end;width: 50%;}#sk-container-id-6 div.sk-parallel-item:last-child::after {align-self: flex-start;width: 50%;}#sk-container-id-6 div.sk-parallel-item:only-child::after {width: 0;}#sk-container-id-6 div.sk-dashed-wrapped {border: 1px dashed gray;margin: 0 0.4em 0.5em 0.4em;box-sizing: border-box;padding-bottom: 0.4em;background-color: white;}#sk-container-id-6 div.sk-label label {font-family: monospace;font-weight: bold;display: inline-block;line-height: 1.2em;}#sk-container-id-6 div.sk-label-container {text-align: center;}#sk-container-id-6 div.sk-container {/* jupyter's `normalize.less` sets `[hidden] { display: none; }` but bootstrap.min.css set `[hidden] { display: none !important; }` so we also need the `!important` here to be able to override the default hidden behavior on the sphinx rendered scikit-learn.org. See: https://github.com/scikit-learn/scikit-learn/issues/21755 */display: inline-block !important;position: relative;}#sk-container-id-6 div.sk-text-repr-fallback {display: none;}</style><div id=\"sk-container-id-6\" class=\"sk-top-container\"><div class=\"sk-text-repr-fallback\"><pre>GridSearchCV(cv=5, estimator=GaussianNB(),\n",
       "             param_grid={&#x27;var_smoothing&#x27;: [0.0, 0.1, 0.3, 0.5, 0.8, 1]},\n",
       "             scoring=&#x27;f1_weighted&#x27;)</pre><b>In a Jupyter environment, please rerun this cell to show the HTML representation or trust the notebook. <br />On GitHub, the HTML representation is unable to render, please try loading this page with nbviewer.org.</b></div><div class=\"sk-container\" hidden><div class=\"sk-item sk-dashed-wrapped\"><div class=\"sk-label-container\"><div class=\"sk-label sk-toggleable\"><input class=\"sk-toggleable__control sk-hidden--visually\" id=\"sk-estimator-id-6\" type=\"checkbox\" ><label for=\"sk-estimator-id-6\" class=\"sk-toggleable__label sk-toggleable__label-arrow\">GridSearchCV</label><div class=\"sk-toggleable__content\"><pre>GridSearchCV(cv=5, estimator=GaussianNB(),\n",
       "             param_grid={&#x27;var_smoothing&#x27;: [0.0, 0.1, 0.3, 0.5, 0.8, 1]},\n",
       "             scoring=&#x27;f1_weighted&#x27;)</pre></div></div></div><div class=\"sk-parallel\"><div class=\"sk-parallel-item\"><div class=\"sk-item\"><div class=\"sk-label-container\"><div class=\"sk-label sk-toggleable\"><input class=\"sk-toggleable__control sk-hidden--visually\" id=\"sk-estimator-id-7\" type=\"checkbox\" ><label for=\"sk-estimator-id-7\" class=\"sk-toggleable__label sk-toggleable__label-arrow\">estimator: GaussianNB</label><div class=\"sk-toggleable__content\"><pre>GaussianNB()</pre></div></div></div><div class=\"sk-serial\"><div class=\"sk-item\"><div class=\"sk-estimator sk-toggleable\"><input class=\"sk-toggleable__control sk-hidden--visually\" id=\"sk-estimator-id-8\" type=\"checkbox\" ><label for=\"sk-estimator-id-8\" class=\"sk-toggleable__label sk-toggleable__label-arrow\">GaussianNB</label><div class=\"sk-toggleable__content\"><pre>GaussianNB()</pre></div></div></div></div></div></div></div></div></div></div>"
      ],
      "text/plain": [
       "GridSearchCV(cv=5, estimator=GaussianNB(),\n",
       "             param_grid={'var_smoothing': [0.0, 0.1, 0.3, 0.5, 0.8, 1]},\n",
       "             scoring='f1_weighted')"
      ]
     },
     "execution_count": 85,
     "metadata": {},
     "output_type": "execute_result"
    }
   ],
   "source": [
    "grid_res.fit(xtrain, ytrain[0])"
   ]
  },
  {
   "cell_type": "code",
   "execution_count": 87,
   "id": "e7fa8b34",
   "metadata": {},
   "outputs": [
    {
     "data": {
      "text/plain": [
       "{'mean_fit_time': array([0.0050036 , 0.00480409, 0.00360312, 0.00400386, 0.00420394,\n",
       "        0.00320301]),\n",
       " 'std_fit_time': array([1.30238536e-06, 1.32682767e-03, 4.90193529e-04, 3.23406696e-07,\n",
       "        7.48927226e-04, 4.00495685e-04]),\n",
       " 'mean_score_time': array([0.01181164, 0.00560517, 0.00560474, 0.00560493, 0.00500431,\n",
       "        0.00360308]),\n",
       " 'std_score_time': array([0.00588457, 0.00080059, 0.00049037, 0.00049052, 0.00063309,\n",
       "        0.00049035]),\n",
       " 'param_var_smoothing': masked_array(data=[0.0, 0.1, 0.3, 0.5, 0.8, 1],\n",
       "              mask=[False, False, False, False, False, False],\n",
       "        fill_value='?',\n",
       "             dtype=object),\n",
       " 'params': [{'var_smoothing': 0.0},\n",
       "  {'var_smoothing': 0.1},\n",
       "  {'var_smoothing': 0.3},\n",
       "  {'var_smoothing': 0.5},\n",
       "  {'var_smoothing': 0.8},\n",
       "  {'var_smoothing': 1}],\n",
       " 'split0_test_score': array([0.16288843, 0.64463239, 0.66698939, 0.69787022, 0.69927344,\n",
       "        0.69663661]),\n",
       " 'split1_test_score': array([0.15912976, 0.57457002, 0.6101094 , 0.60683012, 0.60646015,\n",
       "        0.60237116]),\n",
       " 'split2_test_score': array([0.15852007, 0.61804067, 0.63998131, 0.65569056, 0.6771081 ,\n",
       "        0.68419379]),\n",
       " 'split3_test_score': array([0.15993752, 0.59883728, 0.60219853, 0.59656074, 0.61353011,\n",
       "        0.61798074]),\n",
       " 'split4_test_score': array([0.16997946, 0.62630688, 0.6167501 , 0.62005548, 0.62714467,\n",
       "        0.61931388]),\n",
       " 'mean_test_score': array([0.16209105, 0.61247745, 0.62720575, 0.63540142, 0.64470329,\n",
       "        0.64409924]),\n",
       " 'std_test_score': array([0.00421952, 0.02399654, 0.02354961, 0.03707942, 0.03679832,\n",
       "        0.03848499]),\n",
       " 'rank_test_score': array([6, 5, 4, 3, 1, 2])}"
      ]
     },
     "execution_count": 87,
     "metadata": {},
     "output_type": "execute_result"
    }
   ],
   "source": [
    "grid_res.cv_results_"
   ]
  },
  {
   "cell_type": "code",
   "execution_count": 98,
   "id": "99e29ca0",
   "metadata": {},
   "outputs": [],
   "source": [
    "cols = ['surgery', 'age', 'hospital_number', 'rectal_temp', 'pulse',\n",
    "       'respiratory_rate', 'temp_of_extremities', 'peripheral_pulse',\n",
    "       'mucous_membrane', 'capillary_refill_time', 'pain', 'peristalsis',\n",
    "       'abdominal_distention', 'nasogastric_tube', 'nasogastric_reflux',\n",
    "       'nasogastric_reflux_ph', 'rectal_exam_feces', 'abdomen',\n",
    "       'packed_cell_volume', 'total_protein', 'abdomo_appearance',\n",
    "       'abdomo_protein', 'surgical_lesion', 'lesion_1', 'lesion_2', 'cp_data',\n",
    "       'temp_category']"
   ]
  },
  {
   "cell_type": "code",
   "execution_count": 99,
   "id": "559cf83c",
   "metadata": {},
   "outputs": [
    {
     "name": "stderr",
     "output_type": "stream",
     "text": [
      "C:\\Users\\ADMIN\\anaconda3\\Lib\\site-packages\\sklearn\\utils\\validation.py:1143: DataConversionWarning: A column-vector y was passed when a 1d array was expected. Please change the shape of y to (n_samples, ), for example using ravel().\n",
      "  y = column_or_1d(y, warn=True)\n"
     ]
    },
    {
     "name": "stdout",
     "output_type": "stream",
     "text": [
      "Feature Importance based on absolute means of class conditional distributions:\n",
      "nasogastric_reflux       3.093584\n",
      "nasogastric_tube         2.627840\n",
      "rectal_exam_feces        2.094395\n",
      "abdomen                  1.809921\n",
      "total_protein            1.424576\n",
      "lesion_1                 1.359208\n",
      "nasogastric_reflux_ph    1.353643\n",
      "temp_category            1.339915\n",
      "abdominal_distention     1.192330\n",
      "packed_cell_volume       1.148624\n",
      "abdomo_appearance        1.042088\n",
      "surgical_lesion          0.939177\n",
      "abdomo_protein           0.811958\n",
      "lesion_2                 0.756599\n",
      "pain                     0.716326\n",
      "cp_data                  0.496992\n",
      "temp_of_extremities      0.440712\n",
      "hospital_number          0.333712\n",
      "pulse                    0.332115\n",
      "respiratory_rate         0.291780\n",
      "peripheral_pulse         0.215117\n",
      "surgery                  0.153676\n",
      "rectal_temp              0.151303\n",
      "peristalsis              0.055472\n",
      "capillary_refill_time    0.047601\n",
      "mucous_membrane          0.030234\n",
      "age                      0.028012\n",
      "Name: Mean Importance, dtype: float64\n"
     ]
    },
    {
     "data": {
      "image/png": "[encoded data removed]",
      "text/plain": [
       "<Figure size 640x480 with 1 Axes>"
      ]
     },
     "metadata": {},
     "output_type": "display_data"
    }
   ],
   "source": [
    "model = GaussianNB(var_smoothing = 0.3) # TODO: Set the smoothing parameter to 0.3.\n",
    "model.fit(xtrain, ytrain)\n",
    "\n",
    "# TODO: Use the appropriate numpy function to calculate the absolute values of the means\n",
    "feature_importances = np.abs(model.theta_)   # TODO: Access the attribute that stores the class conditional means.\n",
    "\n",
    "# # Create a DataFrame to view these importances\n",
    "importance_df = pd.DataFrame(feature_importances, columns=cols)\n",
    "\n",
    "# # Summing the importances across classes to get an overall importance score for each feature\n",
    "importance_df.loc['Mean Importance'] = importance_df.mean(axis=0)  # TODO: Aggregate the means to get a single importance score per feature\n",
    "sorted_importance = importance_df.loc['Mean Importance'].sort_values(ascending=False)   # TODO: Sort the features based on importance\n",
    "\n",
    "print(\"Feature Importance based on absolute means of class conditional distributions:\")\n",
    "print(sorted_importance)\n",
    "\n",
    "# Optionally, visualize these importances\n",
    "import matplotlib.pyplot as plt\n",
    "sorted_importance.plot(kind='barh')\n",
    "plt.title('Feature Importance in Gaussian Naive Bayes')\n",
    "plt.ylabel('Features')\n",
    "plt.xlabel('Importance (mean absolute values across classes)')\n",
    "plt.show()"
   ]
  },
  {
   "cell_type": "code",
   "execution_count": 100,
   "id": "854d3b42",
   "metadata": {},
   "outputs": [
    {
     "data": {
      "text/html": [
       "<div>\n",
       "<style scoped>\n",
       "    .dataframe tbody tr th:only-of-type {\n",
       "        vertical-align: middle;\n",
       "    }\n",
       "\n",
       "    .dataframe tbody tr th {\n",
       "        vertical-align: top;\n",
       "    }\n",
       "\n",
       "    .dataframe thead th {\n",
       "        text-align: right;\n",
       "    }\n",
       "</style>\n",
       "<table border=\"1\" class=\"dataframe\">\n",
       "  <thead>\n",
       "    <tr style=\"text-align: right;\">\n",
       "      <th></th>\n",
       "      <th>surgery</th>\n",
       "      <th>age</th>\n",
       "      <th>hospital_number</th>\n",
       "      <th>rectal_temp</th>\n",
       "      <th>pulse</th>\n",
       "      <th>respiratory_rate</th>\n",
       "      <th>temp_of_extremities</th>\n",
       "      <th>peripheral_pulse</th>\n",
       "      <th>mucous_membrane</th>\n",
       "      <th>capillary_refill_time</th>\n",
       "      <th>...</th>\n",
       "      <th>abdomen</th>\n",
       "      <th>packed_cell_volume</th>\n",
       "      <th>total_protein</th>\n",
       "      <th>abdomo_appearance</th>\n",
       "      <th>abdomo_protein</th>\n",
       "      <th>surgical_lesion</th>\n",
       "      <th>lesion_1</th>\n",
       "      <th>lesion_2</th>\n",
       "      <th>cp_data</th>\n",
       "      <th>temp_category</th>\n",
       "    </tr>\n",
       "  </thead>\n",
       "  <tbody>\n",
       "    <tr>\n",
       "      <th>0</th>\n",
       "      <td>0.210361</td>\n",
       "      <td>0.019019</td>\n",
       "      <td>0.360896</td>\n",
       "      <td>0.243412</td>\n",
       "      <td>0.315387</td>\n",
       "      <td>0.158433</td>\n",
       "      <td>0.463229</td>\n",
       "      <td>0.249404</td>\n",
       "      <td>0.044950</td>\n",
       "      <td>0.073055</td>\n",
       "      <td>...</td>\n",
       "      <td>1.763240</td>\n",
       "      <td>1.043614</td>\n",
       "      <td>1.451713</td>\n",
       "      <td>1.049844</td>\n",
       "      <td>0.747664</td>\n",
       "      <td>0.841121</td>\n",
       "      <td>1.551402</td>\n",
       "      <td>0.912773</td>\n",
       "      <td>0.582555</td>\n",
       "      <td>1.280374</td>\n",
       "    </tr>\n",
       "    <tr>\n",
       "      <th>1</th>\n",
       "      <td>0.189881</td>\n",
       "      <td>0.035491</td>\n",
       "      <td>0.265941</td>\n",
       "      <td>0.027396</td>\n",
       "      <td>0.619366</td>\n",
       "      <td>0.416022</td>\n",
       "      <td>0.812707</td>\n",
       "      <td>0.391908</td>\n",
       "      <td>0.026205</td>\n",
       "      <td>0.034110</td>\n",
       "      <td>...</td>\n",
       "      <td>1.406699</td>\n",
       "      <td>0.980861</td>\n",
       "      <td>1.287081</td>\n",
       "      <td>1.000000</td>\n",
       "      <td>0.555024</td>\n",
       "      <td>0.779904</td>\n",
       "      <td>1.550239</td>\n",
       "      <td>0.712919</td>\n",
       "      <td>0.301435</td>\n",
       "      <td>1.315789</td>\n",
       "    </tr>\n",
       "    <tr>\n",
       "      <th>2</th>\n",
       "      <td>0.060788</td>\n",
       "      <td>0.029525</td>\n",
       "      <td>0.374300</td>\n",
       "      <td>0.183103</td>\n",
       "      <td>0.061590</td>\n",
       "      <td>0.300885</td>\n",
       "      <td>0.046199</td>\n",
       "      <td>0.004039</td>\n",
       "      <td>0.019546</td>\n",
       "      <td>0.035637</td>\n",
       "      <td>...</td>\n",
       "      <td>2.259825</td>\n",
       "      <td>1.421397</td>\n",
       "      <td>1.534934</td>\n",
       "      <td>1.076419</td>\n",
       "      <td>1.133188</td>\n",
       "      <td>1.196507</td>\n",
       "      <td>0.975983</td>\n",
       "      <td>0.644105</td>\n",
       "      <td>0.606987</td>\n",
       "      <td>1.423581</td>\n",
       "    </tr>\n",
       "    <tr>\n",
       "      <th>Mean Importance</th>\n",
       "      <td>0.153676</td>\n",
       "      <td>0.028012</td>\n",
       "      <td>0.333712</td>\n",
       "      <td>0.151303</td>\n",
       "      <td>0.332115</td>\n",
       "      <td>0.291780</td>\n",
       "      <td>0.440712</td>\n",
       "      <td>0.215117</td>\n",
       "      <td>0.030234</td>\n",
       "      <td>0.047601</td>\n",
       "      <td>...</td>\n",
       "      <td>1.809921</td>\n",
       "      <td>1.148624</td>\n",
       "      <td>1.424576</td>\n",
       "      <td>1.042088</td>\n",
       "      <td>0.811958</td>\n",
       "      <td>0.939177</td>\n",
       "      <td>1.359208</td>\n",
       "      <td>0.756599</td>\n",
       "      <td>0.496992</td>\n",
       "      <td>1.339915</td>\n",
       "    </tr>\n",
       "  </tbody>\n",
       "</table>\n",
       "<p>4 rows × 27 columns</p>\n",
       "</div>"
      ],
      "text/plain": [
       "                  surgery       age  hospital_number  rectal_temp     pulse  \\\n",
       "0                0.210361  0.019019         0.360896     0.243412  0.315387   \n",
       "1                0.189881  0.035491         0.265941     0.027396  0.619366   \n",
       "2                0.060788  0.029525         0.374300     0.183103  0.061590   \n",
       "Mean Importance  0.153676  0.028012         0.333712     0.151303  0.332115   \n",
       "\n",
       "                 respiratory_rate  temp_of_extremities  peripheral_pulse  \\\n",
       "0                        0.158433             0.463229          0.249404   \n",
       "1                        0.416022             0.812707          0.391908   \n",
       "2                        0.300885             0.046199          0.004039   \n",
       "Mean Importance          0.291780             0.440712          0.215117   \n",
       "\n",
       "                 mucous_membrane  capillary_refill_time  ...   abdomen  \\\n",
       "0                       0.044950               0.073055  ...  1.763240   \n",
       "1                       0.026205               0.034110  ...  1.406699   \n",
       "2                       0.019546               0.035637  ...  2.259825   \n",
       "Mean Importance         0.030234               0.047601  ...  1.809921   \n",
       "\n",
       "                 packed_cell_volume  total_protein  abdomo_appearance  \\\n",
       "0                          1.043614       1.451713           1.049844   \n",
       "1                          0.980861       1.287081           1.000000   \n",
       "2                          1.421397       1.534934           1.076419   \n",
       "Mean Importance            1.148624       1.424576           1.042088   \n",
       "\n",
       "                 abdomo_protein  surgical_lesion  lesion_1  lesion_2  \\\n",
       "0                      0.747664         0.841121  1.551402  0.912773   \n",
       "1                      0.555024         0.779904  1.550239  0.712919   \n",
       "2                      1.133188         1.196507  0.975983  0.644105   \n",
       "Mean Importance        0.811958         0.939177  1.359208  0.756599   \n",
       "\n",
       "                  cp_data  temp_category  \n",
       "0                0.582555       1.280374  \n",
       "1                0.301435       1.315789  \n",
       "2                0.606987       1.423581  \n",
       "Mean Importance  0.496992       1.339915  \n",
       "\n",
       "[4 rows x 27 columns]"
      ]
     },
     "execution_count": 100,
     "metadata": {},
     "output_type": "execute_result"
    }
   ],
   "source": [
    "importance_df"
   ]
  },
  {
   "cell_type": "code",
   "execution_count": 97,
   "id": "e49b83e2",
   "metadata": {},
   "outputs": [
    {
     "data": {
      "text/plain": [
       "nasogastric_reflux       3.093584\n",
       "nasogastric_tube         2.627840\n",
       "rectal_exam_feces        2.094395\n",
       "abdomen                  1.809921\n",
       "total_protein            1.424576\n",
       "lesion_1                 1.359208\n",
       "nasogastric_reflux_ph    1.353643\n",
       "temp_category            1.339915\n",
       "abdominal_distention     1.192330\n",
       "packed_cell_volume       1.148624\n",
       "abdomo_appearance        1.042088\n",
       "surgical_lesion          0.939177\n",
       "abdomo_protein           0.811958\n",
       "lesion_2                 0.756599\n",
       "pain                     0.716326\n",
       "cp_data                  0.496992\n",
       "temp_of_extremities      0.440712\n",
       "hospital_number          0.333712\n",
       "pulse                    0.332115\n",
       "respiratory_rate         0.291780\n",
       "peripheral_pulse         0.215117\n",
       "surgery                  0.153676\n",
       "rectal_temp              0.151303\n",
       "peristalsis              0.055472\n",
       "capillary_refill_time    0.047601\n",
       "mucous_membrane          0.030234\n",
       "age                      0.028012\n",
       "Name: Mean Importance, dtype: float64"
      ]
     },
     "execution_count": 97,
     "metadata": {},
     "output_type": "execute_result"
    }
   ],
   "source": [
    "sorted_importance"
   ]
  },
  {
   "cell_type": "markdown",
   "id": "f3596b58",
   "metadata": {},
   "source": [
    "# SVM - 1"
   ]
  },
  {
   "cell_type": "code",
   "execution_count": 2,
   "id": "9f258645",
   "metadata": {},
   "outputs": [
    {
     "data": {
      "text/html": [
       "<div>\n",
       "<style scoped>\n",
       "    .dataframe tbody tr th:only-of-type {\n",
       "        vertical-align: middle;\n",
       "    }\n",
       "\n",
       "    .dataframe tbody tr th {\n",
       "        vertical-align: top;\n",
       "    }\n",
       "\n",
       "    .dataframe thead th {\n",
       "        text-align: right;\n",
       "    }\n",
       "</style>\n",
       "<table border=\"1\" class=\"dataframe\">\n",
       "  <thead>\n",
       "    <tr style=\"text-align: right;\">\n",
       "      <th></th>\n",
       "      <th>AREA</th>\n",
       "      <th>PERIMETER</th>\n",
       "      <th>MAJOR_AXIS</th>\n",
       "      <th>MINOR_AXIS</th>\n",
       "      <th>ECCENTRICITY</th>\n",
       "      <th>EQDIASQ</th>\n",
       "      <th>SOLIDITY</th>\n",
       "      <th>CONVEX_AREA</th>\n",
       "      <th>EXTENT</th>\n",
       "      <th>ASPECT_RATIO</th>\n",
       "      <th>...</th>\n",
       "      <th>KurtosisRR</th>\n",
       "      <th>KurtosisRG</th>\n",
       "      <th>KurtosisRB</th>\n",
       "      <th>EntropyRR</th>\n",
       "      <th>EntropyRG</th>\n",
       "      <th>EntropyRB</th>\n",
       "      <th>ALLdaub4RR</th>\n",
       "      <th>ALLdaub4RG</th>\n",
       "      <th>ALLdaub4RB</th>\n",
       "      <th>Class</th>\n",
       "    </tr>\n",
       "  </thead>\n",
       "  <tbody>\n",
       "    <tr>\n",
       "      <th>0</th>\n",
       "      <td>422163</td>\n",
       "      <td>2378.908</td>\n",
       "      <td>837.8484</td>\n",
       "      <td>645.6693</td>\n",
       "      <td>0.6373</td>\n",
       "      <td>733.1539</td>\n",
       "      <td>0.9947</td>\n",
       "      <td>424428</td>\n",
       "      <td>0.7831</td>\n",
       "      <td>1.2976</td>\n",
       "      <td>...</td>\n",
       "      <td>3.2370</td>\n",
       "      <td>2.9574</td>\n",
       "      <td>4.2287</td>\n",
       "      <td>-59191263232</td>\n",
       "      <td>-50714214400</td>\n",
       "      <td>-39922372608</td>\n",
       "      <td>58.7255</td>\n",
       "      <td>54.9554</td>\n",
       "      <td>47.8400</td>\n",
       "      <td>BERHI</td>\n",
       "    </tr>\n",
       "    <tr>\n",
       "      <th>1</th>\n",
       "      <td>338136</td>\n",
       "      <td>2085.144</td>\n",
       "      <td>723.8198</td>\n",
       "      <td>595.2073</td>\n",
       "      <td>0.5690</td>\n",
       "      <td>656.1464</td>\n",
       "      <td>0.9974</td>\n",
       "      <td>339014</td>\n",
       "      <td>0.7795</td>\n",
       "      <td>1.2161</td>\n",
       "      <td>...</td>\n",
       "      <td>2.6228</td>\n",
       "      <td>2.6350</td>\n",
       "      <td>3.1704</td>\n",
       "      <td>-34233065472</td>\n",
       "      <td>-37462601728</td>\n",
       "      <td>-31477794816</td>\n",
       "      <td>50.0259</td>\n",
       "      <td>52.8168</td>\n",
       "      <td>47.8315</td>\n",
       "      <td>BERHI</td>\n",
       "    </tr>\n",
       "    <tr>\n",
       "      <th>2</th>\n",
       "      <td>526843</td>\n",
       "      <td>2647.394</td>\n",
       "      <td>940.7379</td>\n",
       "      <td>715.3638</td>\n",
       "      <td>0.6494</td>\n",
       "      <td>819.0222</td>\n",
       "      <td>0.9962</td>\n",
       "      <td>528876</td>\n",
       "      <td>0.7657</td>\n",
       "      <td>1.3150</td>\n",
       "      <td>...</td>\n",
       "      <td>3.7516</td>\n",
       "      <td>3.8611</td>\n",
       "      <td>4.7192</td>\n",
       "      <td>-93948354560</td>\n",
       "      <td>-74738221056</td>\n",
       "      <td>-60311207936</td>\n",
       "      <td>65.4772</td>\n",
       "      <td>59.2860</td>\n",
       "      <td>51.9378</td>\n",
       "      <td>BERHI</td>\n",
       "    </tr>\n",
       "    <tr>\n",
       "      <th>3</th>\n",
       "      <td>416063</td>\n",
       "      <td>2351.210</td>\n",
       "      <td>827.9804</td>\n",
       "      <td>645.2988</td>\n",
       "      <td>0.6266</td>\n",
       "      <td>727.8378</td>\n",
       "      <td>0.9948</td>\n",
       "      <td>418255</td>\n",
       "      <td>0.7759</td>\n",
       "      <td>1.2831</td>\n",
       "      <td>...</td>\n",
       "      <td>5.0401</td>\n",
       "      <td>8.6136</td>\n",
       "      <td>8.2618</td>\n",
       "      <td>-32074307584</td>\n",
       "      <td>-32060925952</td>\n",
       "      <td>-29575010304</td>\n",
       "      <td>43.3900</td>\n",
       "      <td>44.1259</td>\n",
       "      <td>41.1882</td>\n",
       "      <td>BERHI</td>\n",
       "    </tr>\n",
       "    <tr>\n",
       "      <th>4</th>\n",
       "      <td>347562</td>\n",
       "      <td>2160.354</td>\n",
       "      <td>763.9877</td>\n",
       "      <td>582.8359</td>\n",
       "      <td>0.6465</td>\n",
       "      <td>665.2291</td>\n",
       "      <td>0.9908</td>\n",
       "      <td>350797</td>\n",
       "      <td>0.7569</td>\n",
       "      <td>1.3108</td>\n",
       "      <td>...</td>\n",
       "      <td>2.7016</td>\n",
       "      <td>2.9761</td>\n",
       "      <td>4.4146</td>\n",
       "      <td>-39980974080</td>\n",
       "      <td>-35980042240</td>\n",
       "      <td>-25593278464</td>\n",
       "      <td>52.7743</td>\n",
       "      <td>50.9080</td>\n",
       "      <td>42.6666</td>\n",
       "      <td>BERHI</td>\n",
       "    </tr>\n",
       "  </tbody>\n",
       "</table>\n",
       "<p>5 rows × 35 columns</p>\n",
       "</div>"
      ],
      "text/plain": [
       "     AREA  PERIMETER  MAJOR_AXIS  MINOR_AXIS  ECCENTRICITY   EQDIASQ  \\\n",
       "0  422163   2378.908    837.8484    645.6693        0.6373  733.1539   \n",
       "1  338136   2085.144    723.8198    595.2073        0.5690  656.1464   \n",
       "2  526843   2647.394    940.7379    715.3638        0.6494  819.0222   \n",
       "3  416063   2351.210    827.9804    645.2988        0.6266  727.8378   \n",
       "4  347562   2160.354    763.9877    582.8359        0.6465  665.2291   \n",
       "\n",
       "   SOLIDITY  CONVEX_AREA  EXTENT  ASPECT_RATIO  ...  KurtosisRR  KurtosisRG  \\\n",
       "0    0.9947       424428  0.7831        1.2976  ...      3.2370      2.9574   \n",
       "1    0.9974       339014  0.7795        1.2161  ...      2.6228      2.6350   \n",
       "2    0.9962       528876  0.7657        1.3150  ...      3.7516      3.8611   \n",
       "3    0.9948       418255  0.7759        1.2831  ...      5.0401      8.6136   \n",
       "4    0.9908       350797  0.7569        1.3108  ...      2.7016      2.9761   \n",
       "\n",
       "   KurtosisRB    EntropyRR    EntropyRG    EntropyRB  ALLdaub4RR  ALLdaub4RG  \\\n",
       "0      4.2287 -59191263232 -50714214400 -39922372608     58.7255     54.9554   \n",
       "1      3.1704 -34233065472 -37462601728 -31477794816     50.0259     52.8168   \n",
       "2      4.7192 -93948354560 -74738221056 -60311207936     65.4772     59.2860   \n",
       "3      8.2618 -32074307584 -32060925952 -29575010304     43.3900     44.1259   \n",
       "4      4.4146 -39980974080 -35980042240 -25593278464     52.7743     50.9080   \n",
       "\n",
       "   ALLdaub4RB  Class  \n",
       "0     47.8400  BERHI  \n",
       "1     47.8315  BERHI  \n",
       "2     51.9378  BERHI  \n",
       "3     41.1882  BERHI  \n",
       "4     42.6666  BERHI  \n",
       "\n",
       "[5 rows x 35 columns]"
      ]
     },
     "execution_count": 2,
     "metadata": {},
     "output_type": "execute_result"
    }
   ],
   "source": [
    "#data = pd.read_excel(r\"F:\\Muthu_2023\\Personal\\NextStep\\DSCourse\\Scaler\\MLAssignments\\Dataset\\Date_Fruit_Datasets.xlsx\")\n",
    "data = pd.read_excel(r\"E:\\Nextstep\\Scaler\\MLAssignments\\MLAssignments\\Dataset\\Date_Fruit_Datasets.xlsx\")\n",
    "data.head()"
   ]
  },
  {
   "cell_type": "code",
   "execution_count": 107,
   "id": "0129c47c",
   "metadata": {},
   "outputs": [
    {
     "data": {
      "text/plain": [
       "<Axes: >"
      ]
     },
     "execution_count": 107,
     "metadata": {},
     "output_type": "execute_result"
    },
    {
     "data": {
      "image/png": "[encoded data removed]",
      "text/plain": [
       "<Figure size 640x480 with 2 Axes>"
      ]
     },
     "metadata": {},
     "output_type": "display_data"
    }
   ],
   "source": [
    "# Assignment 1\n",
    "cols = ['PERIMETER', 'MAJOR_AXIS', 'MINOR_AXIS', 'COMPACTNESS']\n",
    "sns.heatmap(data[cols].corr(), annot=True)"
   ]
  },
  {
   "cell_type": "code",
   "execution_count": 4,
   "id": "a917eff3",
   "metadata": {},
   "outputs": [],
   "source": [
    "# Assignment 2\n",
    "X = data.drop(['Class'], axis=1)\n",
    "y = data['Class']\n",
    "xtrain, xtest, ytrain, ytest = train_test_split(X, y, test_size=0.3, random_state=42)"
   ]
  },
  {
   "cell_type": "code",
   "execution_count": 5,
   "id": "d3013c1c",
   "metadata": {},
   "outputs": [],
   "source": [
    "scaler = StandardScaler()\n",
    "xtrain_scaled = scaler.fit_transform(xtrain)\n",
    "xtest_scaled = scaler.transform(xtest)"
   ]
  },
  {
   "cell_type": "code",
   "execution_count": 110,
   "id": "968afeab",
   "metadata": {},
   "outputs": [
    {
     "name": "stdout",
     "output_type": "stream",
     "text": [
      "              precision    recall  f1-score   support\n",
      "\n",
      "       BERHI       0.89      0.94      0.91        17\n",
      "      DEGLET       0.73      0.79      0.76        28\n",
      "       DOKOL       0.97      0.96      0.96        67\n",
      "       IRAQI       0.87      0.95      0.91        21\n",
      "      ROTANA       1.00      0.85      0.92        55\n",
      "      SAFAVI       0.98      0.98      0.98        51\n",
      "       SOGAY       0.74      0.84      0.79        31\n",
      "\n",
      "    accuracy                           0.91       270\n",
      "   macro avg       0.88      0.90      0.89       270\n",
      "weighted avg       0.91      0.91      0.91       270\n",
      "\n"
     ]
    }
   ],
   "source": [
    "model = SVC(kernel='linear')\n",
    "model.fit(xtrain_scaled, ytrain)\n",
    "ypred = model.predict(xtest_scaled)\n",
    "print(classification_report(ytest, ypred))"
   ]
  },
  {
   "cell_type": "code",
   "execution_count": 19,
   "id": "0e37268d",
   "metadata": {},
   "outputs": [
    {
     "name": "stderr",
     "output_type": "stream",
     "text": [
      "C:\\ProgramData\\anaconda3\\Lib\\site-packages\\sklearn\\metrics\\_classification.py:1344: UndefinedMetricWarning: Precision is ill-defined and being set to 0.0 in labels with no predicted samples. Use `zero_division` parameter to control this behavior.\n",
      "  _warn_prf(average, modifier, msg_start, len(result))\n",
      "C:\\ProgramData\\anaconda3\\Lib\\site-packages\\sklearn\\metrics\\_classification.py:1344: UndefinedMetricWarning: Precision is ill-defined and being set to 0.0 in labels with no predicted samples. Use `zero_division` parameter to control this behavior.\n",
      "  _warn_prf(average, modifier, msg_start, len(result))\n",
      "C:\\ProgramData\\anaconda3\\Lib\\site-packages\\sklearn\\metrics\\_classification.py:1344: UndefinedMetricWarning: Precision is ill-defined and being set to 0.0 in labels with no predicted samples. Use `zero_division` parameter to control this behavior.\n",
      "  _warn_prf(average, modifier, msg_start, len(result))\n",
      "C:\\ProgramData\\anaconda3\\Lib\\site-packages\\sklearn\\metrics\\_classification.py:1344: UndefinedMetricWarning: Precision is ill-defined and being set to 0.0 in labels with no predicted samples. Use `zero_division` parameter to control this behavior.\n",
      "  _warn_prf(average, modifier, msg_start, len(result))\n",
      "C:\\ProgramData\\anaconda3\\Lib\\site-packages\\sklearn\\metrics\\_classification.py:1344: UndefinedMetricWarning: Precision is ill-defined and being set to 0.0 in labels with no predicted samples. Use `zero_division` parameter to control this behavior.\n",
      "  _warn_prf(average, modifier, msg_start, len(result))\n"
     ]
    },
    {
     "data": {
      "text/html": [
       "<style>#sk-container-id-2 {color: black;background-color: white;}#sk-container-id-2 pre{padding: 0;}#sk-container-id-2 div.sk-toggleable {background-color: white;}#sk-container-id-2 label.sk-toggleable__label {cursor: pointer;display: block;width: 100%;margin-bottom: 0;padding: 0.3em;box-sizing: border-box;text-align: center;}#sk-container-id-2 label.sk-toggleable__label-arrow:before {content: \"▸\";float: left;margin-right: 0.25em;color: #696969;}#sk-container-id-2 label.sk-toggleable__label-arrow:hover:before {color: black;}#sk-container-id-2 div.sk-estimator:hover label.sk-toggleable__label-arrow:before {color: black;}#sk-container-id-2 div.sk-toggleable__content {max-height: 0;max-width: 0;overflow: hidden;text-align: left;background-color: #f0f8ff;}#sk-container-id-2 div.sk-toggleable__content pre {margin: 0.2em;color: black;border-radius: 0.25em;background-color: #f0f8ff;}#sk-container-id-2 input.sk-toggleable__control:checked~div.sk-toggleable__content {max-height: 200px;max-width: 100%;overflow: auto;}#sk-container-id-2 input.sk-toggleable__control:checked~label.sk-toggleable__label-arrow:before {content: \"▾\";}#sk-container-id-2 div.sk-estimator input.sk-toggleable__control:checked~label.sk-toggleable__label {background-color: #d4ebff;}#sk-container-id-2 div.sk-label input.sk-toggleable__control:checked~label.sk-toggleable__label {background-color: #d4ebff;}#sk-container-id-2 input.sk-hidden--visually {border: 0;clip: rect(1px 1px 1px 1px);clip: rect(1px, 1px, 1px, 1px);height: 1px;margin: -1px;overflow: hidden;padding: 0;position: absolute;width: 1px;}#sk-container-id-2 div.sk-estimator {font-family: monospace;background-color: #f0f8ff;border: 1px dotted black;border-radius: 0.25em;box-sizing: border-box;margin-bottom: 0.5em;}#sk-container-id-2 div.sk-estimator:hover {background-color: #d4ebff;}#sk-container-id-2 div.sk-parallel-item::after {content: \"\";width: 100%;border-bottom: 1px solid gray;flex-grow: 1;}#sk-container-id-2 div.sk-label:hover label.sk-toggleable__label {background-color: #d4ebff;}#sk-container-id-2 div.sk-serial::before {content: \"\";position: absolute;border-left: 1px solid gray;box-sizing: border-box;top: 0;bottom: 0;left: 50%;z-index: 0;}#sk-container-id-2 div.sk-serial {display: flex;flex-direction: column;align-items: center;background-color: white;padding-right: 0.2em;padding-left: 0.2em;position: relative;}#sk-container-id-2 div.sk-item {position: relative;z-index: 1;}#sk-container-id-2 div.sk-parallel {display: flex;align-items: stretch;justify-content: center;background-color: white;position: relative;}#sk-container-id-2 div.sk-item::before, #sk-container-id-2 div.sk-parallel-item::before {content: \"\";position: absolute;border-left: 1px solid gray;box-sizing: border-box;top: 0;bottom: 0;left: 50%;z-index: -1;}#sk-container-id-2 div.sk-parallel-item {display: flex;flex-direction: column;z-index: 1;position: relative;background-color: white;}#sk-container-id-2 div.sk-parallel-item:first-child::after {align-self: flex-end;width: 50%;}#sk-container-id-2 div.sk-parallel-item:last-child::after {align-self: flex-start;width: 50%;}#sk-container-id-2 div.sk-parallel-item:only-child::after {width: 0;}#sk-container-id-2 div.sk-dashed-wrapped {border: 1px dashed gray;margin: 0 0.4em 0.5em 0.4em;box-sizing: border-box;padding-bottom: 0.4em;background-color: white;}#sk-container-id-2 div.sk-label label {font-family: monospace;font-weight: bold;display: inline-block;line-height: 1.2em;}#sk-container-id-2 div.sk-label-container {text-align: center;}#sk-container-id-2 div.sk-container {/* jupyter's `normalize.less` sets `[hidden] { display: none; }` but bootstrap.min.css set `[hidden] { display: none !important; }` so we also need the `!important` here to be able to override the default hidden behavior on the sphinx rendered scikit-learn.org. See: https://github.com/scikit-learn/scikit-learn/issues/21755 */display: inline-block !important;position: relative;}#sk-container-id-2 div.sk-text-repr-fallback {display: none;}</style><div id=\"sk-container-id-2\" class=\"sk-top-container\"><div class=\"sk-text-repr-fallback\"><pre>RFECV(cv=5, estimator=SVC(kernel=&#x27;linear&#x27;), scoring=&#x27;precision_macro&#x27;)</pre><b>In a Jupyter environment, please rerun this cell to show the HTML representation or trust the notebook. <br />On GitHub, the HTML representation is unable to render, please try loading this page with nbviewer.org.</b></div><div class=\"sk-container\" hidden><div class=\"sk-item sk-dashed-wrapped\"><div class=\"sk-label-container\"><div class=\"sk-label sk-toggleable\"><input class=\"sk-toggleable__control sk-hidden--visually\" id=\"sk-estimator-id-4\" type=\"checkbox\" ><label for=\"sk-estimator-id-4\" class=\"sk-toggleable__label sk-toggleable__label-arrow\">RFECV</label><div class=\"sk-toggleable__content\"><pre>RFECV(cv=5, estimator=SVC(kernel=&#x27;linear&#x27;), scoring=&#x27;precision_macro&#x27;)</pre></div></div></div><div class=\"sk-parallel\"><div class=\"sk-parallel-item\"><div class=\"sk-item\"><div class=\"sk-label-container\"><div class=\"sk-label sk-toggleable\"><input class=\"sk-toggleable__control sk-hidden--visually\" id=\"sk-estimator-id-5\" type=\"checkbox\" ><label for=\"sk-estimator-id-5\" class=\"sk-toggleable__label sk-toggleable__label-arrow\">estimator: SVC</label><div class=\"sk-toggleable__content\"><pre>SVC(kernel=&#x27;linear&#x27;)</pre></div></div></div><div class=\"sk-serial\"><div class=\"sk-item\"><div class=\"sk-estimator sk-toggleable\"><input class=\"sk-toggleable__control sk-hidden--visually\" id=\"sk-estimator-id-6\" type=\"checkbox\" ><label for=\"sk-estimator-id-6\" class=\"sk-toggleable__label sk-toggleable__label-arrow\">SVC</label><div class=\"sk-toggleable__content\"><pre>SVC(kernel=&#x27;linear&#x27;)</pre></div></div></div></div></div></div></div></div></div></div>"
      ],
      "text/plain": [
       "RFECV(cv=5, estimator=SVC(kernel='linear'), scoring='precision_macro')"
      ]
     },
     "execution_count": 19,
     "metadata": {},
     "output_type": "execute_result"
    }
   ],
   "source": [
    "#Assignment 3\n",
    "model = SVC(kernel='linear')\n",
    "rfe = RFECV(estimator=model, cv=5, step=1, scoring='precision_macro')\n",
    "rfe.fit(xtrain_scaled, ytrain)"
   ]
  },
  {
   "cell_type": "code",
   "execution_count": 20,
   "id": "7b584922-adad-4bb2-8708-8ab3c7607a1c",
   "metadata": {},
   "outputs": [],
   "source": [
    "feature_score = [(len(list(data.columns))-i-1, rfe.cv_results_['mean_test_score'][i]) for i in range(len(rfe.cv_results_['mean_test_score']))]"
   ]
  },
  {
   "cell_type": "code",
   "execution_count": 26,
   "id": "029b9065-b604-4f54-b226-c8a4185afef6",
   "metadata": {},
   "outputs": [
    {
     "data": {
      "text/plain": [
       "34"
      ]
     },
     "execution_count": 26,
     "metadata": {},
     "output_type": "execute_result"
    }
   ],
   "source": [
    "rfe.n_features_in_"
   ]
  },
  {
   "cell_type": "code",
   "execution_count": 22,
   "id": "0d3d17c1-2dbc-403d-8031-aebf5cb9f5a6",
   "metadata": {},
   "outputs": [
    {
     "data": {
      "text/plain": [
       "[(34, 0.4483089428954158),\n",
       " (33, 0.7144917254116224),\n",
       " (32, 0.7802793354246557),\n",
       " (31, 0.8377181974877829),\n",
       " (30, 0.8621841411740296),\n",
       " (29, 0.8723019766713529),\n",
       " (28, 0.8758164021997882),\n",
       " (27, 0.8895910995521252),\n",
       " (25, 0.8926724825351942),\n",
       " (18, 0.8945552613047729),\n",
       " (20, 0.8951425004361602),\n",
       " (23, 0.8963208385500098),\n",
       " (26, 0.897272859854638),\n",
       " (22, 0.8977591052022303),\n",
       " (17, 0.8994688980881577),\n",
       " (24, 0.900359911080408),\n",
       " (16, 0.9004939907986429),\n",
       " (19, 0.9013928611465746),\n",
       " (21, 0.9022812288763765),\n",
       " (15, 0.9028632467291855),\n",
       " (13, 0.9038742803685877),\n",
       " (14, 0.9038842749620365),\n",
       " (12, 0.9049015786227768),\n",
       " (11, 0.9051845099771366),\n",
       " (3, 0.907521368301514),\n",
       " (2, 0.907521368301514),\n",
       " (1, 0.907521368301514),\n",
       " (10, 0.9080709568635834),\n",
       " (7, 0.909547323047323),\n",
       " (9, 0.9098201600413581),\n",
       " (8, 0.9126439077222486),\n",
       " (6, 0.9137057319262288),\n",
       " (5, 0.9137410117115999),\n",
       " (4, 0.9161852341558225)]"
      ]
     },
     "execution_count": 22,
     "metadata": {},
     "output_type": "execute_result"
    }
   ],
   "source": [
    "sorted(feature_score, key=lambda x: x[1])"
   ]
  },
  {
   "cell_type": "code",
   "execution_count": null,
   "id": "74df8916-2f05-49e0-ae22-870d6da2710b",
   "metadata": {},
   "outputs": [],
   "source": []
  }
 ],
 "metadata": {
  "kernelspec": {
   "display_name": "Python 3 (ipykernel)",
   "language": "python",
   "name": "python3"
  },
  "language_info": {
   "codemirror_mode": {
    "name": "ipython",
    "version": 3
   },
   "file_extension": ".py",
   "mimetype": "text/x-python",
   "name": "python",
   "nbconvert_exporter": "python",
   "pygments_lexer": "ipython3",
   "version": "3.11.7"
  }
 },
 "nbformat": 4,
 "nbformat_minor": 5
}
